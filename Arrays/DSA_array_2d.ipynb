{
  "nbformat": 4,
  "nbformat_minor": 0,
  "metadata": {
    "colab": {
      "provenance": []
    },
    "kernelspec": {
      "name": "python3",
      "display_name": "Python 3"
    },
    "language_info": {
      "name": "python"
    }
  },
  "cells": [
    {
      "cell_type": "code",
      "execution_count": 31,
      "metadata": {
        "colab": {
          "base_uri": "https://localhost:8080/"
        },
        "id": "mSWMbOLmZjdu",
        "outputId": "d85398e2-00ab-4057-904a-763e953fd8b7"
      },
      "outputs": [
        {
          "output_type": "stream",
          "name": "stdout",
          "text": [
            "[1 2]\n"
          ]
        }
      ],
      "source": [
        "import numpy as np\n",
        "array = np.array([1,2],dtype=int)\n",
        "print(array)"
      ]
    },
    {
      "cell_type": "code",
      "source": [
        "import array as ar\n",
        "array = ar.array('i',[1,2,3,4,5])\n",
        "print(array)\n",
        "#time and space complexity is O(n)"
      ],
      "metadata": {
        "colab": {
          "base_uri": "https://localhost:8080/"
        },
        "id": "7gVVJ6_tZrGk",
        "outputId": "e9c0e960-acb7-4b87-a9f2-8594d00133cc"
      },
      "execution_count": null,
      "outputs": [
        {
          "output_type": "stream",
          "name": "stdout",
          "text": [
            "array('i', [1, 2, 3, 4, 5])\n"
          ]
        }
      ]
    },
    {
      "cell_type": "code",
      "source": [
        "print(array[0])"
      ],
      "metadata": {
        "colab": {
          "base_uri": "https://localhost:8080/"
        },
        "id": "A6XUzQjKaPO3",
        "outputId": "5b88ae26-8996-4f17-c846-b4aec8ffadb4"
      },
      "execution_count": null,
      "outputs": [
        {
          "output_type": "stream",
          "name": "stdout",
          "text": [
            "1\n"
          ]
        }
      ]
    },
    {
      "cell_type": "code",
      "source": [
        "import numpy as np\n",
        "array = np.array([[1,2,3,4],[7,9,11,19]])\n",
        "print(array)\n",
        "array2= np.insert(array, 1, [[9,10,11,13]],axis=0) # axis-0 is for row , and 1 is for column\n",
        "print(array2)\n",
        "array3= np.insert(array2, 2, [[9,10,11]],axis=1) # axis-0 is for row , and 1 is for column\n",
        "print(array3)"
      ],
      "metadata": {
        "id": "04lwjsBRaU19",
        "colab": {
          "base_uri": "https://localhost:8080/"
        },
        "outputId": "103ec383-398d-455d-a6c6-b21064a0e01b"
      },
      "execution_count": 12,
      "outputs": [
        {
          "output_type": "stream",
          "name": "stdout",
          "text": [
            "[[ 1  2  3  4]\n",
            " [ 7  9 11 19]]\n",
            "[[ 1  2  3  4]\n",
            " [ 9 10 11 13]\n",
            " [ 7  9 11 19]]\n",
            "[[ 1  2  9  3  4]\n",
            " [ 9 10 10 11 13]\n",
            " [ 7  9 11 11 19]]\n"
          ]
        }
      ]
    },
    {
      "cell_type": "code",
      "source": [
        "def accesing_array(array, rowindex, colindex):\n",
        "  if rowindex >= len(array) or colindex >= len(array[0]):\n",
        "    print(\"row or col index is not valid\")\n",
        "  else:\n",
        "    print(array[rowindex][colindex])\n",
        "accesing_array(array3, 2, 1)"
      ],
      "metadata": {
        "colab": {
          "base_uri": "https://localhost:8080/"
        },
        "id": "YH_sJMYHP0m2",
        "outputId": "f86c3977-eaf6-4548-f0a5-2adc695b8abe"
      },
      "execution_count": 19,
      "outputs": [
        {
          "output_type": "stream",
          "name": "stdout",
          "text": [
            "9\n"
          ]
        }
      ]
    },
    {
      "cell_type": "code",
      "source": [
        "def traversal(array):\n",
        "  row_index = len(array)\n",
        "  col_index = len(array[0])\n",
        "  for i in range(row_index):\n",
        "    for j in range(col_index):\n",
        "      print(array[i][j])\n",
        "traversal(array3)"
      ],
      "metadata": {
        "colab": {
          "base_uri": "https://localhost:8080/"
        },
        "id": "p3NvwpJaeGi7",
        "outputId": "57327c3a-9f79-49d0-a377-7f08f8ecb2c7"
      },
      "execution_count": 20,
      "outputs": [
        {
          "output_type": "stream",
          "name": "stdout",
          "text": [
            "1\n",
            "2\n",
            "9\n",
            "3\n",
            "4\n",
            "9\n",
            "10\n",
            "10\n",
            "11\n",
            "13\n",
            "7\n",
            "9\n",
            "11\n",
            "11\n",
            "19\n"
          ]
        }
      ]
    },
    {
      "cell_type": "code",
      "source": [
        "def search(array, element):\n",
        "  row_index = len(array)\n",
        "  col_index = len(array[0])\n",
        "  for i in range(row_index):\n",
        "    for j in range(col_index):\n",
        "      if array[i][j] == element:\n",
        "        print(f'found at index at {i}{j}')\n",
        "search(array3, 4)"
      ],
      "metadata": {
        "colab": {
          "base_uri": "https://localhost:8080/"
        },
        "id": "zX_j6W_ejcn4",
        "outputId": "d8a2a886-e409-4ab5-aaa9-bc58178097b5"
      },
      "execution_count": 24,
      "outputs": [
        {
          "output_type": "stream",
          "name": "stdout",
          "text": [
            "found at index at 04\n"
          ]
        }
      ]
    },
    {
      "cell_type": "code",
      "source": [
        "import numpy as np\n",
        "array4 = np.delete(array3, 1, axis=1)\n",
        "print(array4)"
      ],
      "metadata": {
        "colab": {
          "base_uri": "https://localhost:8080/"
        },
        "id": "3P-LPYSQm4m-",
        "outputId": "7b17d6d3-a381-4d83-ffc4-a438e444144c"
      },
      "execution_count": 26,
      "outputs": [
        {
          "output_type": "stream",
          "name": "stdout",
          "text": [
            "[[ 1  9  3  4]\n",
            " [ 9 10 11 13]\n",
            " [ 7 11 11 19]]\n"
          ]
        }
      ]
    },
    {
      "cell_type": "code",
      "source": [],
      "metadata": {
        "id": "RFHOUgtQrmKH"
      },
      "execution_count": null,
      "outputs": []
    }
  ]
}