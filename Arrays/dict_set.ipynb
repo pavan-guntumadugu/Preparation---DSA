{
  "nbformat": 4,
  "nbformat_minor": 0,
  "metadata": {
    "colab": {
      "provenance": []
    },
    "kernelspec": {
      "name": "python3",
      "display_name": "Python 3"
    },
    "language_info": {
      "name": "python"
    }
  },
  "cells": [
    {
      "cell_type": "code",
      "execution_count": null,
      "metadata": {
        "colab": {
          "base_uri": "https://localhost:8080/"
        },
        "id": "2DrENjBBNVZV",
        "outputId": "15fe5390-0819-453f-f64f-7fcd69798df9"
      },
      "outputs": [
        {
          "output_type": "stream",
          "name": "stdout",
          "text": [
            "{'1': 'one', '2': 'two', '3': 'three'}\n",
            "updated dictionary {'1': 'one_update', '2': 'two', '3': 'three'}\n"
          ]
        }
      ],
      "source": [
        "dict1 = {}\n",
        "dict1.update({'1':'one','2':'two','3':'three'})\n",
        "#updation and initializing dictionary\n",
        "print(dict1)\n",
        "dict1.update({'1':'one_update'})\n",
        "print(f'updated dictionary {dict1}')"
      ]
    },
    {
      "cell_type": "code",
      "source": [
        "#loop traversing\n",
        "for key in dict1:\n",
        "  print(key,dict1[key])"
      ],
      "metadata": {
        "colab": {
          "base_uri": "https://localhost:8080/"
        },
        "id": "HTB6n3ycNvYY",
        "outputId": "ff16b863-0eaf-4367-e13d-a5c25ce242f7"
      },
      "execution_count": null,
      "outputs": [
        {
          "output_type": "stream",
          "name": "stdout",
          "text": [
            "1 one_update\n",
            "2 two\n",
            "3 three\n"
          ]
        }
      ]
    },
    {
      "cell_type": "code",
      "source": [
        "dict1.pop('2', None)\n",
        "print(dict1)"
      ],
      "metadata": {
        "colab": {
          "base_uri": "https://localhost:8080/"
        },
        "id": "znclEuKHOUQY",
        "outputId": "08c53b48-9ef4-4904-df12-8fc1ad6fbac2"
      },
      "execution_count": null,
      "outputs": [
        {
          "output_type": "stream",
          "name": "stdout",
          "text": [
            "{'1': 'one_update', '3': 'three'}\n"
          ]
        }
      ]
    },
    {
      "cell_type": "code",
      "source": [
        "#operations using dictionary\n",
        "print(dict1.items()) # displays all items currently in the dictionary in form of tuples\n",
        "print(dict1.keys()) # all keys\n",
        "print(dict1.values())\n",
        "dict2 = dict1.copy()\n",
        "print(len(dict2))\n",
        "print(all(dict2)) # checks if all keys are true(booleans and 0 keys are not valid keys)\n",
        "print(any(dict2)) # check if any one of key is true\n",
        "print(dict2.get('2'))\n",
        "print(dict2.setdefault('2', 'two')) #set default is adding key , value\n",
        "print(dict2.get('2')) # accessing value of key\n",
        "dict3 = dict2.fromkeys(['4','5','6'],0) # used to assign default value\n",
        "print(dict2)\n",
        "dict4 = sorted(dict2) #dot sort doesn't work since dictionaries are inherentily orderless\n",
        "print(dict4)"
      ],
      "metadata": {
        "colab": {
          "base_uri": "https://localhost:8080/"
        },
        "id": "eCh-ZsRsb5ln",
        "outputId": "05027e53-c07f-4a81-fae2-ff66f76e8925"
      },
      "execution_count": null,
      "outputs": [
        {
          "output_type": "stream",
          "name": "stdout",
          "text": [
            "dict_items([('1', 'one_update'), ('3', 'three')])\n",
            "dict_keys(['1', '3'])\n",
            "dict_values(['one_update', 'three'])\n",
            "2\n",
            "True\n",
            "True\n",
            "None\n",
            "two\n",
            "two\n",
            "{'1': 'one_update', '3': 'three', '2': 'two'}\n",
            "['1', '2', '3']\n"
          ]
        }
      ]
    },
    {
      "cell_type": "code",
      "source": [
        "\n",
        "def merge_dicts(dict1, dict2):\n",
        "    # TODO\n",
        "    dict3 = {}\n",
        "    for i in dict1:\n",
        "        print(type(dict1.get(i, 0)))\n",
        "        j = int(dict2.get(i, 0))\n",
        "        # print(type(j))\n",
        "        # j = dict2.get(i)\n",
        "    #     dict3[i] = k + j\n",
        "    # return dict3\n",
        "\n",
        "dict1 = {'a': 1, 'b': 2, 'c': 3}\n",
        "dict2 = {'b': 3, 'c': 4, 'd': 5}\n",
        "merge_dicts(dict1, dict2)"
      ],
      "metadata": {
        "colab": {
          "base_uri": "https://localhost:8080/"
        },
        "id": "JAviILo0P4Gg",
        "outputId": "6df3d80f-d178-423a-82ad-60ac90f0ca17"
      },
      "execution_count": null,
      "outputs": [
        {
          "output_type": "stream",
          "name": "stdout",
          "text": [
            "<class 'int'>\n",
            "<class 'int'>\n",
            "<class 'int'>\n"
          ]
        }
      ]
    },
    {
      "cell_type": "code",
      "source": [
        "#sample comprehension dictionary example\n",
        "def count_word_frequency(words):\n",
        "    # TODO\n",
        "    freq_dict = {key:words.count(key) for key in words}\n",
        "    return freq_dict"
      ],
      "metadata": {
        "id": "j76PW-aN4Lur"
      },
      "execution_count": null,
      "outputs": []
    },
    {
      "cell_type": "code",
      "source": [
        "\n",
        "def reverse_dict(my_dict):\n",
        "    # TODO\n",
        "    dict1 = {}\n",
        "    for key,value in my_dict.items():\n",
        "        dict1[value] = key\n",
        "    return dict1\n",
        "\n",
        "my_dict = {'a': 1, 'b': 2, 'c': 3}\n",
        "reverse_dict(my_dict)"
      ],
      "metadata": {
        "colab": {
          "base_uri": "https://localhost:8080/"
        },
        "id": "A5OQMco8VI3B",
        "outputId": "166937d6-3b3c-4328-83b0-2cfbe8d92da1"
      },
      "execution_count": null,
      "outputs": [
        {
          "output_type": "execute_result",
          "data": {
            "text/plain": [
              "{1: 'a', 2: 'b', 3: 'c'}"
            ]
          },
          "metadata": {},
          "execution_count": 74
        }
      ]
    },
    {
      "cell_type": "code",
      "source": [
        "def check_same_frequency(list1, list2):\n",
        "    # TODO\n",
        "    dict_list1 = {i:list1.count(i) for i in list1}\n",
        "    print(dict_list1)\n",
        "    dict_list2 = {i:list2.count(i) for i in list2}\n",
        "    print(dict_list2)\n",
        "    if dict_list2 == dict_list1:\n",
        "        return True\n",
        "    else:\n",
        "        return False\n",
        "\n",
        "list1 = [1, 2, 3, 2, 1]\n",
        "list2 = [3, 1, 2, 1, 3]\n",
        "check_same_frequency(list1, list2)"
      ],
      "metadata": {
        "colab": {
          "base_uri": "https://localhost:8080/"
        },
        "id": "cYT6fJurVO7n",
        "outputId": "0c7e2f59-baa7-4eab-ab00-49464298e65f"
      },
      "execution_count": null,
      "outputs": [
        {
          "output_type": "stream",
          "name": "stdout",
          "text": [
            "{1: 2, 2: 2, 3: 1}\n",
            "{3: 2, 1: 1, 2: 2}\n"
          ]
        },
        {
          "output_type": "execute_result",
          "data": {
            "text/plain": [
              "False"
            ]
          },
          "metadata": {},
          "execution_count": 80
        }
      ]
    },
    {
      "cell_type": "code",
      "source": [
        "#tuple\n",
        "new_tuple = ('abc','def')\n",
        "print(new_tuple)\n",
        "print('abc' in new_tuple) #searching\n",
        "new_tuple[1] # accessing\n",
        "for i in new_tuple: # traversing\n",
        "  print(i)"
      ],
      "metadata": {
        "id": "aeFi-rwXYKNn",
        "colab": {
          "base_uri": "https://localhost:8080/"
        },
        "outputId": "e8f16f7b-b957-4b1e-d1ee-8540ded98693"
      },
      "execution_count": null,
      "outputs": [
        {
          "output_type": "stream",
          "name": "stdout",
          "text": [
            "('abc', 'def')\n",
            "True\n",
            "abc\n",
            "def\n"
          ]
        }
      ]
    },
    {
      "cell_type": "code",
      "source": [
        "init_tuple_a = [1, 2]\n",
        "init_tuple_b = (3, 4)\n",
        "init_tuple_a[2] = 5\n",
        "list2 = [sum(x) for x in [init_tuple_a]]\n",
        "print(list2)"
      ],
      "metadata": {
        "colab": {
          "base_uri": "https://localhost:8080/",
          "height": 211
        },
        "id": "l1LY8uLqLEXT",
        "outputId": "03c7f87d-e592-49cb-89ba-b3e5f9b9b8b1"
      },
      "execution_count": null,
      "outputs": [
        {
          "output_type": "error",
          "ename": "IndexError",
          "evalue": "list assignment index out of range",
          "traceback": [
            "\u001b[0;31m---------------------------------------------------------------------------\u001b[0m",
            "\u001b[0;31mIndexError\u001b[0m                                Traceback (most recent call last)",
            "\u001b[0;32m<ipython-input-32-bda933bd7740>\u001b[0m in \u001b[0;36m<cell line: 3>\u001b[0;34m()\u001b[0m\n\u001b[1;32m      1\u001b[0m \u001b[0minit_tuple_a\u001b[0m \u001b[0;34m=\u001b[0m \u001b[0;34m[\u001b[0m\u001b[0;36m1\u001b[0m\u001b[0;34m,\u001b[0m \u001b[0;36m2\u001b[0m\u001b[0;34m]\u001b[0m\u001b[0;34m\u001b[0m\u001b[0;34m\u001b[0m\u001b[0m\n\u001b[1;32m      2\u001b[0m \u001b[0minit_tuple_b\u001b[0m \u001b[0;34m=\u001b[0m \u001b[0;34m(\u001b[0m\u001b[0;36m3\u001b[0m\u001b[0;34m,\u001b[0m \u001b[0;36m4\u001b[0m\u001b[0;34m)\u001b[0m\u001b[0;34m\u001b[0m\u001b[0;34m\u001b[0m\u001b[0m\n\u001b[0;32m----> 3\u001b[0;31m \u001b[0minit_tuple_a\u001b[0m\u001b[0;34m[\u001b[0m\u001b[0;36m2\u001b[0m\u001b[0;34m]\u001b[0m \u001b[0;34m=\u001b[0m \u001b[0;36m5\u001b[0m\u001b[0;34m\u001b[0m\u001b[0;34m\u001b[0m\u001b[0m\n\u001b[0m\u001b[1;32m      4\u001b[0m \u001b[0mlist2\u001b[0m \u001b[0;34m=\u001b[0m \u001b[0;34m[\u001b[0m\u001b[0msum\u001b[0m\u001b[0;34m(\u001b[0m\u001b[0mx\u001b[0m\u001b[0;34m)\u001b[0m \u001b[0;32mfor\u001b[0m \u001b[0mx\u001b[0m \u001b[0;32min\u001b[0m \u001b[0;34m[\u001b[0m\u001b[0minit_tuple_a\u001b[0m\u001b[0;34m]\u001b[0m\u001b[0;34m]\u001b[0m\u001b[0;34m\u001b[0m\u001b[0;34m\u001b[0m\u001b[0m\n\u001b[1;32m      5\u001b[0m \u001b[0mprint\u001b[0m\u001b[0;34m(\u001b[0m\u001b[0mlist2\u001b[0m\u001b[0;34m)\u001b[0m\u001b[0;34m\u001b[0m\u001b[0;34m\u001b[0m\u001b[0m\n",
            "\u001b[0;31mIndexError\u001b[0m: list assignment index out of range"
          ]
        }
      ]
    },
    {
      "cell_type": "code",
      "source": [
        "def get_diagonal(tup):\n",
        "    # TODO\n",
        "    tuple2 = tuple(tup[i][i] for i in range(len(tup)))\n",
        "    print(tuple2)\n",
        "    return(tuple2)\n",
        "\n",
        "input_tuple = (\n",
        "    (1, 2, 3),\n",
        "    (4, 5, 6),\n",
        "    (7, 8, 9)\n",
        ")\n",
        "output_tuple = get_diagonal(input_tuple)\n",
        "print(output_tuple)"
      ],
      "metadata": {
        "colab": {
          "base_uri": "https://localhost:8080/"
        },
        "id": "yB7H7kNZVomR",
        "outputId": "26a500de-7d35-4da1-d9e6-837269decd17"
      },
      "execution_count": null,
      "outputs": [
        {
          "output_type": "stream",
          "name": "stdout",
          "text": [
            "(1, 5, 9)\n",
            "(1, 5, 9)\n"
          ]
        }
      ]
    },
    {
      "cell_type": "code",
      "source": [
        "k = set()\n",
        "k.add('hello')\n",
        "print(k)"
      ],
      "metadata": {
        "colab": {
          "base_uri": "https://localhost:8080/"
        },
        "id": "BJSizsdia8OO",
        "outputId": "52da5d0d-ed8e-498a-f2cf-33758ab006a0"
      },
      "execution_count": null,
      "outputs": [
        {
          "output_type": "stream",
          "name": "stdout",
          "text": [
            "{'hello'}\n"
          ]
        }
      ]
    },
    {
      "cell_type": "code",
      "source": [
        "tuple1 = {1,2,3}\n",
        "tuple2 = {4,5,6,3}\n",
        "tuple3 = {7,8,9}\n",
        "tuple5 = tuple1.difference(tuple2)\n",
        "tuple4 = tuple1.symmetric_difference(tuple2)\n",
        "tuple2 = tuple1.intersection(tuple2)\n",
        "tuple1 = tuple1.union(tuple2,tuple3)\n",
        "print(f'{tuple1}, {tuple2}, {tuple4}, {tuple5}')\n",
        "tuple1.add(10)      #add\n",
        "tuple1.remove(2)    #remove\n",
        "for i in tuple1:    #traversing\n",
        "  print(i)\n",
        "print(tuple1)"
      ],
      "metadata": {
        "colab": {
          "base_uri": "https://localhost:8080/"
        },
        "id": "mSD_eY1NDh-Z",
        "outputId": "ab6c06fd-82c8-49f6-fcdc-77eaa4d10bd4"
      },
      "execution_count": null,
      "outputs": [
        {
          "output_type": "stream",
          "name": "stdout",
          "text": [
            "{1, 2, 3, 7, 8, 9}, {3}, {1, 2, 4, 5, 6}, {1, 2}\n",
            "1\n",
            "3\n",
            "7\n",
            "8\n",
            "9\n",
            "10\n",
            "{1, 3, 7, 8, 9, 10}\n"
          ]
        }
      ]
    },
    {
      "cell_type": "code",
      "source": [
        "k = lambda x,y: x+y if x>3 else 0\n",
        "print(k(2,3))"
      ],
      "metadata": {
        "colab": {
          "base_uri": "https://localhost:8080/"
        },
        "id": "iprGOWX5f5oe",
        "outputId": "722208d6-f527-4ae8-a2f1-b60dccd34fcf"
      },
      "execution_count": null,
      "outputs": [
        {
          "output_type": "stream",
          "name": "stdout",
          "text": [
            "0\n"
          ]
        }
      ]
    },
    {
      "cell_type": "code",
      "source": [],
      "metadata": {
        "id": "W48Cbkz-EE3y"
      },
      "execution_count": null,
      "outputs": []
    }
  ]
}