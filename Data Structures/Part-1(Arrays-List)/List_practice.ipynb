{
  "nbformat": 4,
  "nbformat_minor": 0,
  "metadata": {
    "colab": {
      "provenance": []
    },
    "kernelspec": {
      "name": "python3",
      "display_name": "Python 3"
    },
    "language_info": {
      "name": "python"
    }
  },
  "cells": [
    {
      "cell_type": "code",
      "execution_count": null,
      "metadata": {
        "colab": {
          "base_uri": "https://localhost:8080/"
        },
        "id": "RoHDOcmZqj_T",
        "outputId": "27c7e0b2-3d9d-4614-f554-0125a12d3aa9"
      },
      "outputs": [
        {
          "output_type": "stream",
          "name": "stdout",
          "text": [
            "[1, 2, 3, 4, ['sai', 'Pavan'], [1.2, 3.5, 7.5]]\n"
          ]
        }
      ],
      "source": [
        "#list in python\n",
        "list1 = [1,2,3,4,['sai','Pavan'],[1.2,3.5,7.5]]\n",
        "print(list1)\n"
      ]
    },
    {
      "cell_type": "code",
      "source": [
        "for i in list1:\n",
        "  if type(i) == list:\n",
        "    for j in i:\n",
        "      print(j)\n",
        "  else:\n",
        "    print(i)"
      ],
      "metadata": {
        "colab": {
          "base_uri": "https://localhost:8080/"
        },
        "id": "8yWNXWopq1Ok",
        "outputId": "f00533bc-5328-48e2-cef3-453bf6bc69d1"
      },
      "execution_count": null,
      "outputs": [
        {
          "output_type": "stream",
          "name": "stdout",
          "text": [
            "3\n",
            "2\n",
            "6\n",
            "4\n",
            "sai\n",
            "Pavan\n",
            "1.2\n",
            "3.5\n",
            "7.5\n",
            "7\n",
            "8\n",
            "9\n",
            "7\n",
            "8\n",
            "9\n"
          ]
        }
      ]
    },
    {
      "cell_type": "code",
      "source": [
        "list1[0] = 3\n",
        "print(list1)\n",
        "list2 = [7,8,9]\n",
        "list2.insert(0,5) #insertion\n",
        "print(list2)\n",
        "list1.extend(list2) #adding list\n",
        "print(list1)\n",
        "list1.append(list2) #adding nested list\n",
        "print(list1)\n",
        "list1[2] = 6\n",
        "print(list1)"
      ],
      "metadata": {
        "colab": {
          "base_uri": "https://localhost:8080/"
        },
        "id": "925KGI3mrXtA",
        "outputId": "253bb638-5a97-4dfc-85d8-d593aa7ff2d3"
      },
      "execution_count": null,
      "outputs": [
        {
          "output_type": "stream",
          "name": "stdout",
          "text": [
            "[3, 2, 3, 4, ['sai', 'Pavan'], [1.2, 3.5, 7.5]]\n",
            "[5, 7, 8, 9]\n",
            "[3, 2, 3, 4, ['sai', 'Pavan'], [1.2, 3.5, 7.5], 5, 7, 8, 9]\n",
            "[3, 2, 3, 4, ['sai', 'Pavan'], [1.2, 3.5, 7.5], 5, 7, 8, 9, [5, 7, 8, 9]]\n",
            "[3, 2, 6, 4, ['sai', 'Pavan'], [1.2, 3.5, 7.5], 5, 7, 8, 9, [5, 7, 8, 9]]\n"
          ]
        }
      ]
    },
    {
      "cell_type": "code",
      "source": [
        "#slicing and deletion:\n",
        "list1 = [1,2,3,4,['sai','Pavan'],[1.2,3.5,7.5]]\n",
        "print(list1[::-1])\n",
        "list1.remove(4)\n",
        "print(f\"using remove method at index 0: {list1}\")\n",
        "list1.pop(0)\n",
        "print(f\"using pop method at index 0: {list1}\")"
      ],
      "metadata": {
        "id": "uaJAYwqtt-2f",
        "colab": {
          "base_uri": "https://localhost:8080/"
        },
        "outputId": "676f18e1-3cac-44fe-dccb-674d8c27cd26"
      },
      "execution_count": 6,
      "outputs": [
        {
          "output_type": "stream",
          "name": "stdout",
          "text": [
            "[[1.2, 3.5, 7.5], ['sai', 'Pavan'], 4, 3, 2, 1]\n",
            "using remove method at index 0: [1, 2, 3, ['sai', 'Pavan'], [1.2, 3.5, 7.5]]\n",
            "using pop method at index 0: [2, 3, ['sai', 'Pavan'], [1.2, 3.5, 7.5]]\n"
          ]
        }
      ]
    },
    {
      "cell_type": "code",
      "source": [
        "#searching using in and linear search\n",
        "print(list1)\n",
        "print(2 in list1)\n",
        "for i,value in enumerate(list1):\n",
        "  if value == 3:\n",
        "    print(f'index is {i}')\n",
        ""
      ],
      "metadata": {
        "colab": {
          "base_uri": "https://localhost:8080/"
        },
        "id": "cTE-cds_MZ2O",
        "outputId": "3e5c7409-b52b-4e7c-9579-7e3d791372d0"
      },
      "execution_count": 11,
      "outputs": [
        {
          "output_type": "stream",
          "name": "stdout",
          "text": [
            "[2, 3, ['sai', 'Pavan'], [1.2, 3.5, 7.5]]\n",
            "True\n",
            "index is 1\n"
          ]
        }
      ]
    },
    {
      "cell_type": "code",
      "source": [
        "# list comprehension\n",
        "num = [1, 2, 3, 4, 5, 6, 7]\n",
        "squares = [i**2 for i in num]\n",
        "print(squares)"
      ],
      "metadata": {
        "colab": {
          "base_uri": "https://localhost:8080/"
        },
        "id": "BwUL4uWzN-ZT",
        "outputId": "18a0f486-c633-4488-fc6b-2ee2dbda7527"
      },
      "execution_count": 13,
      "outputs": [
        {
          "output_type": "stream",
          "name": "stdout",
          "text": [
            "[1, 4, 9, 16, 25, 36, 49]\n"
          ]
        }
      ]
    },
    {
      "cell_type": "code",
      "source": [
        "#conditional list comprehension\n",
        "num = [1, 2, 3, 4, 5, 6, 7]\n",
        "squares = [i**2 if i>2 else 0 for i in num]\n",
        "print(squares)"
      ],
      "metadata": {
        "colab": {
          "base_uri": "https://localhost:8080/"
        },
        "id": "59jFDiPax4nC",
        "outputId": "de9390f4-80e5-402d-e64c-fa158dc9948f"
      },
      "execution_count": 16,
      "outputs": [
        {
          "output_type": "stream",
          "name": "stdout",
          "text": [
            "[0, 0, 9, 16, 25, 36, 49]\n"
          ]
        }
      ]
    },
    {
      "cell_type": "code",
      "source": [
        "#general operations like\n",
        "#sum, min, max, .lower(), .isalpha(), .split(), .join(), can be used in list whenever needed"
      ],
      "metadata": {
        "id": "EwM4aUL8yrjJ"
      },
      "execution_count": null,
      "outputs": []
    }
  ]
}