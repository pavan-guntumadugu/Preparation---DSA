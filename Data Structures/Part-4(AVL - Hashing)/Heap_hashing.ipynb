{
  "nbformat": 4,
  "nbformat_minor": 0,
  "metadata": {
    "colab": {
      "provenance": []
    },
    "kernelspec": {
      "name": "python3",
      "display_name": "Python 3"
    },
    "language_info": {
      "name": "python"
    }
  },
  "cells": [
    {
      "cell_type": "code",
      "source": [
        "class heap:\n",
        "  def __init__(self,size): #heap creation\n",
        "    self.customList = (size+1) * [None]\n",
        "    self.maxsize = size+1\n",
        "    self.heapsize = 0\n",
        "  def peek(self):  #peeking the 1st element,,, since index is 1 for first element in binary heap for custom list\n",
        "    if self.heapsize == 0:\n",
        "      return \"The list is empty\"\n",
        "    else:\n",
        "      return self.customList[1]\n",
        "  def heap_size(self): #returning the maximum heap size of the binary heap\n",
        "    return self.heapsize\n",
        "  def pre_order_traversal(self,index): #pre_order traversal binay heap\n",
        "    if index > self.heap_size:\n",
        "      return\n",
        "    self.left = 2*index\n",
        "    self.right = 2*index+1\n",
        "    print(self.customList[index])\n",
        "    self.pre_order_traversal(self,self.left)\n",
        "    self.pre_order_traversal(self,self.right)\n",
        "  def level_order_traversal(self):   #level order traversal for binary heap\n",
        "    for i in range(1,self.heapsize+1):\n",
        "      print(self.customList[i])\n",
        "heap1 = heap(10)\n",
        "heap1.peek()\n",
        "heap1.heap_size()\n",
        "\n",
        "def helper_insertion(root_node, parent, current, heap_type):  #helper function for insertion method\n",
        "  if current <= 1:\n",
        "    return\n",
        "  if heap_type == \"min\":\n",
        "    if root_node.customList[parent] > root_node.customList[current]:\n",
        "      temp = root_node.customList[root_node.heapsize]\n",
        "      root_node.customList[root_node.heapsize] = root_node.customList[parent]\n",
        "      root_node.customList[parent] = temp\n",
        "      insertion(root_node,parent/2, parent, heap_type)\n",
        "  else:\n",
        "     if root_node.customList[parent] < root_node.customList[root_node.heapsize]:\n",
        "      temp = root_node.customList[root_node.heapsize]\n",
        "      root_node.customList[root_node.heapsize] = root_node.customList[parent]\n",
        "      root_node.customList[parent] = temp\n",
        "      insertion(root_node,parent/2, parent, heap_type)\n",
        "\n",
        "def insertion(root_node,new_node,heap_type):\n",
        "  if root_node.maxsize == root_node.\n",
        "  if not root_node:\n",
        "    return\n",
        "  root_node.customList[root_node.heapsize+1] = new_node\n",
        "  root_node.heapsize += 1\n",
        "  parent = root_node.heap_size / 2\n",
        "  current = root_node.heap_size\n",
        "  helper_insertion(root_node, parent, current, heap_type)\n",
        "\n",
        "\n",
        "\n",
        "\n",
        "\n",
        "\n",
        "def heapifyTreeExtract(rootNode, index, heapType):  #extracting the root node and then maintaining balance\n",
        "    leftIndex = index * 2\n",
        "    rightIndex = index * 2 + 1\n",
        "    swapChild = 0\n",
        "\n",
        "    if rootNode.heapSize < leftIndex:\n",
        "        return\n",
        "    elif rootNode.heapSize == leftIndex:\n",
        "        if heapType == \"Min\":\n",
        "            if rootNode.customList[index] > rootNode.customList[leftIndex]:\n",
        "                temp = rootNode.customList[index]\n",
        "                rootNode.customList[index] = rootNode.customList[leftIndex]\n",
        "                rootNode.customList[leftIndex] = temp\n",
        "            return\n",
        "        else:\n",
        "            if rootNode.customList[index] < rootNode.customList[leftIndex]:\n",
        "                temp = rootNode.customList[index]\n",
        "                rootNode.customList[index] = rootNode.customList[leftIndex]\n",
        "                rootNode.customList[leftIndex] = temp\n",
        "            return\n",
        "\n",
        "    else:\n",
        "        if heapType == \"Min\":\n",
        "            if rootNode.customList[leftIndex] < rootNode.customList[rightIndex]:\n",
        "                swapChild = leftIndex\n",
        "            else:\n",
        "                swapChild = rightIndex\n",
        "            if rootNode.customList[index] > rootNode.customList[swapChild]:\n",
        "                temp = rootNode.customList[index]\n",
        "                rootNode.customList[index] = rootNode.customList[swapChild]\n",
        "                rootNode.customList[swapChild] = temp\n",
        "        else:\n",
        "            if rootNode.customList[leftIndex] > rootNode.customList[rightIndex]:\n",
        "                swapChild = leftIndex\n",
        "            else:\n",
        "                swapChild = rightIndex\n",
        "            if rootNode.customList[index] < rootNode.customList[swapChild]:\n",
        "                temp = rootNode.customList[index]\n",
        "                rootNode.customList[index] = rootNode.customList[swapChild]\n",
        "                rootNode.customList[swapChild] = temp\n",
        "    heapifyTreeExtract(rootNode, swapChild, heapType)\n",
        "\n",
        "def extractNode(rootNode, heapType):\n",
        "    if rootNode.heapSize == 0:\n",
        "        return\n",
        "    else:\n",
        "        extractedNode = rootNode.customList[1]\n",
        "        rootNode.customList[1] = rootNode.customList[rootNode.heapSize]\n",
        "        rootNode.customList[rootNode.heapSize] = None\n",
        "        rootNode.heapSize -= 1\n",
        "        heapifyTreeExtract(rootNode, 1, heapType)\n",
        "        return extractedNode\n",
        "\n",
        "\n",
        "\n",
        "\n",
        "\n"
      ],
      "metadata": {
        "colab": {
          "base_uri": "https://localhost:8080/"
        },
        "id": "bApWRzzLS7Lk",
        "outputId": "d112c2f0-ac39-49ff-df0d-f2ffb54b599e"
      },
      "execution_count": null,
      "outputs": [
        {
          "output_type": "execute_result",
          "data": {
            "text/plain": [
              "0"
            ]
          },
          "metadata": {},
          "execution_count": 11
        }
      ]
    },
    {
      "cell_type": "code",
      "source": [
        "#   Created by Elshad Karimov\n",
        "#   Copyright © 2021 AppMillers. All rights reserved.\n",
        "\n",
        "class TrieNode:\n",
        "    def __init__(self):\n",
        "        self.children = {}\n",
        "        self.counter = 0\n",
        "        self.endOfString = False\n",
        "\n",
        "class Trie:\n",
        "    def __init__(self):\n",
        "        self.root = TrieNode()\n",
        "\n",
        "    def insertString(self, word):\n",
        "        current = self.root\n",
        "        for i in word:\n",
        "            current.counter+=1\n",
        "            ch = i\n",
        "            if ch not in current.children:\n",
        "                current.childre[ch] = TrieNode()\n",
        "            current = current.childre[ch]\n",
        "        current.endOfString = True\n",
        "\n",
        "    def searchString(self, word):\n",
        "        curr = self.root\n",
        "        for i in word:\n",
        "            if i not in curr.children:\n",
        "                return False\n",
        "            curr = curr.children[i]\n",
        "        return curr.endOfString\n",
        "\n",
        "    # def delete(self, word):\n",
        "    #     curr = self.root\n",
        "    #     for ch in word:\n",
        "    #         curr.children[ch].counter -=1\n",
        "    #         curr = curr.children[ch]\n",
        "    #     curr.endOfString = False\n",
        "\n",
        "def deleteString(node, idx, word):\n",
        "    ch = word[idx]\n",
        "    if idx == len(word) - 1:\n",
        "        if node.children[ch].endOfString:\n",
        "            node.children[ch].endOfString = False\n",
        "        node.children[ch].counter -=1\n",
        "        return\n",
        "    node.children[ch].counter -=1\n",
        "    node = node.children[ch]\n",
        "    deleteString(node, idx+1, word)\n",
        "\n",
        "\n",
        "\n",
        "\n",
        "\n",
        "\n",
        "\n",
        "\n",
        "\n",
        "\n",
        "newTrie = Trie()\n",
        "newTrie.insertString(\"App\")\n",
        "newTrie.insertString(\"Appl\")\n",
        "deleteString(newTrie.root, \"App\", 0)\n",
        "print(newTrie.searchString(\"App\"))"
      ],
      "metadata": {
        "id": "U1SyhyXw5AMU",
        "colab": {
          "base_uri": "https://localhost:8080/"
        },
        "outputId": "cf0e871e-2211-4a5f-a85e-b3d2a4a4dfb2"
      },
      "execution_count": 10,
      "outputs": [
        {
          "output_type": "stream",
          "name": "stdout",
          "text": [
            "Successfully inserted\n",
            "Successfully inserted\n",
            "False\n"
          ]
        }
      ]
    },
    {
      "cell_type": "code",
      "source": [
        "dictionary = {\"india\":{\"korea\":{\"america\":None}}}\n",
        "k = dictionary.get(\"india\")\n",
        "print(len(k))"
      ],
      "metadata": {
        "id": "m2f1HAWn--Ll",
        "colab": {
          "base_uri": "https://localhost:8080/"
        },
        "outputId": "43e57625-5b7d-4109-fbfe-872da7f40760"
      },
      "execution_count": 11,
      "outputs": [
        {
          "output_type": "stream",
          "name": "stdout",
          "text": [
            "1\n"
          ]
        }
      ]
    },
    {
      "cell_type": "code",
      "source": [
        "#hashing\n"
      ],
      "metadata": {
        "id": "Y3Z-C5Xh8vTS"
      },
      "execution_count": null,
      "outputs": []
    }
  ]
}