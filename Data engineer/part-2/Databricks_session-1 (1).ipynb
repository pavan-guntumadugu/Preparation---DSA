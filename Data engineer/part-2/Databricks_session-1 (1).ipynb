{
 "cells": [
  {
   "cell_type": "code",
   "execution_count": 0,
   "metadata": {
    "application/vnd.databricks.v1+cell": {
     "cellMetadata": {
      "byteLimit": 2048000,
      "rowLimit": 10000
     },
     "inputWidgets": {},
     "nuid": "5bbb4149-04a8-46c4-b360-f3fdd155b1f3",
     "showTitle": false,
     "title": ""
    }
   },
   "outputs": [
    {
     "output_type": "stream",
     "name": "stdout",
     "output_type": "stream",
     "text": [
      "root\n |-- Region: string (nullable = true)\n |-- Country: string (nullable = true)\n |-- ItemType: string (nullable = true)\n |-- SalesChannel: string (nullable = true)\n |-- OrderPriority: string (nullable = true)\n |-- OrderID: string (nullable = true)\n |-- UnitsSold: string (nullable = true)\n |-- UnitPrice: string (nullable = true)\n |-- UnitCost: string (nullable = true)\n |-- TotalRevenue: string (nullable = true)\n |-- TotalCost: string (nullable = true)\n |-- TotalProfit: string (nullable = true)\n\nroot\n |-- Region: string (nullable = true)\n |-- Country: string (nullable = true)\n |-- ItemType: string (nullable = true)\n |-- SalesChannel: string (nullable = true)\n |-- OrderPriority: string (nullable = true)\n |-- OrderID: integer (nullable = true)\n |-- UnitsSold: integer (nullable = true)\n |-- UnitPrice: double (nullable = true)\n |-- UnitCost: double (nullable = true)\n |-- TotalRevenue: double (nullable = true)\n |-- TotalCost: double (nullable = true)\n |-- TotalProfit: double (nullable = true)\n\n"
     ]
    }
   ],
   "source": [
    "df = spark.read.load(\"/FileStore/tables/Order.csv\",format='csv')    # reading file\n",
    "#display(df)  (display is a databricks specific function)\n",
    "# df.show() #show\n",
    "df = spark.read.load(\"/FileStore/tables/Order.csv\",format='csv',header=True) #treates first row as a header\n",
    "# display(df)\n",
    "df.printSchema()\n",
    "df1 = spark.read.load(\"/FileStore/tables/Order.csv\",header=True,format='csv',inferschema=True) #adjust the schema by reading data in file\n",
    "df1.printSchema()"
   ]
  },
  {
   "cell_type": "code",
   "execution_count": 0,
   "metadata": {
    "application/vnd.databricks.v1+cell": {
     "cellMetadata": {
      "byteLimit": 2048000,
      "rowLimit": 10000
     },
     "inputWidgets": {},
     "nuid": "8033d1eb-2190-4b91-a4fd-4ba788dfd1de",
     "showTitle": false,
     "title": ""
    },
    "jupyter": {
     "outputs_hidden": true
    }
   },
   "outputs": [
    {
     "output_type": "display_data",
     "data": {
      "text/html": [
       "<style scoped>\n",
       "  .table-result-container {\n",
       "    max-height: 300px;\n",
       "    overflow: auto;\n",
       "  }\n",
       "  table, th, td {\n",
       "    border: 1px solid black;\n",
       "    border-collapse: collapse;\n",
       "  }\n",
       "  th, td {\n",
       "    padding: 5px;\n",
       "  }\n",
       "  th {\n",
       "    text-align: left;\n",
       "  }\n",
       "</style><div class='table-result-container'><table class='table-result'><thead style='background-color: white'><tr><th>region</th><th>country</th><th>ItemType</th><th>SalesChannel</th><th>OrderPriority</th></tr></thead><tbody><tr><td>Middle East and North Africa</td><td>Libya</td><td>Cosmetics</td><td>Offline</td><td>M</td></tr><tr><td>North America</td><td>Canada</td><td>Vegetables</td><td>Online</td><td>M</td></tr><tr><td>Middle East and North Africa</td><td>Libya</td><td>Baby Food</td><td>Offline</td><td>C</td></tr><tr><td>Asia</td><td>Japan</td><td>Cereal</td><td>Offline</td><td>C</td></tr><tr><td>Sub-Saharan Africa</td><td>Chad</td><td>Fruits</td><td>Offline</td><td>H</td></tr><tr><td>Europe</td><td>Armenia</td><td>Cereal</td><td>Online</td><td>H</td></tr><tr><td>Sub-Saharan Africa</td><td>Eritrea</td><td>Cereal</td><td>Online</td><td>H</td></tr><tr><td>Europe</td><td>Montenegro</td><td>Clothes</td><td>Offline</td><td>M</td></tr><tr><td>Central America and the Caribbean</td><td>Jamaica</td><td>Vegetables</td><td>Online</td><td>H</td></tr><tr><td>Australia and Oceania</td><td>Fiji</td><td>Vegetables</td><td>Offline</td><td>H</td></tr><tr><td>Sub-Saharan Africa</td><td>Togo</td><td>Clothes</td><td>Online</td><td>M</td></tr><tr><td>Europe</td><td>Montenegro</td><td>Snacks</td><td>Offline</td><td>M</td></tr><tr><td>Europe</td><td>Greece</td><td>Household</td><td>Online</td><td>C</td></tr><tr><td>Sub-Saharan Africa</td><td>Sudan</td><td>Cosmetics</td><td>Online</td><td>C</td></tr><tr><td>Asia</td><td>Maldives</td><td>Fruits</td><td>Offline</td><td>L</td></tr><tr><td>Europe</td><td>Montenegro</td><td>Clothes</td><td>Offline</td><td>H</td></tr><tr><td>Europe</td><td>Estonia</td><td>Office Supplies</td><td>Online</td><td>H</td></tr><tr><td>North America</td><td>Greenland</td><td>Beverages</td><td>Online</td><td>M</td></tr><tr><td>Sub-Saharan Africa</td><td>Cape Verde</td><td>Clothes</td><td>Online</td><td>C</td></tr><tr><td>Sub-Saharan Africa</td><td>Senegal</td><td>Household</td><td>Offline</td><td>L</td></tr><tr><td>Australia and Oceania</td><td>Federated States of Micronesia</td><td>Snacks</td><td>Online</td><td>C</td></tr><tr><td>Europe</td><td>Bulgaria</td><td>Clothes</td><td>Online</td><td>L</td></tr><tr><td>Middle East and North Africa</td><td>Algeria</td><td>Personal Care</td><td>Online</td><td>H</td></tr><tr><td>Asia</td><td>Mongolia</td><td>Clothes</td><td>Online</td><td>L</td></tr><tr><td>Central America and the Caribbean</td><td>Grenada</td><td>Cereal</td><td>Online</td><td>H</td></tr><tr><td>Central America and the Caribbean</td><td>Grenada</td><td>Beverages</td><td>Online</td><td>M</td></tr><tr><td>Sub-Saharan Africa</td><td>Senegal</td><td>Beverages</td><td>Offline</td><td>M</td></tr><tr><td>North America</td><td>Greenland</td><td>Fruits</td><td>Offline</td><td>M</td></tr><tr><td>Sub-Saharan Africa</td><td>Chad</td><td>Meat</td><td>Offline</td><td>H</td></tr><tr><td>Sub-Saharan Africa</td><td>Mauritius </td><td>Personal Care</td><td>Online</td><td>C</td></tr><tr><td>Middle East and North Africa</td><td>Morocco</td><td>Beverages</td><td>Offline</td><td>C</td></tr><tr><td>Central America and the Caribbean</td><td>Honduras</td><td>Office Supplies</td><td>Online</td><td>H</td></tr><tr><td>Sub-Saharan Africa</td><td>Benin</td><td>Fruits</td><td>Online</td><td>L</td></tr><tr><td>Europe</td><td>Greece</td><td>Baby Food</td><td>Offline</td><td>M</td></tr><tr><td>Central America and the Caribbean</td><td>Jamaica</td><td>Beverages</td><td>Offline</td><td>L</td></tr><tr><td>Sub-Saharan Africa</td><td>Equatorial Guinea</td><td>Office Supplies</td><td>Online</td><td>M</td></tr><tr><td>Sub-Saharan Africa</td><td>Swaziland</td><td>Office Supplies</td><td>Offline</td><td>H</td></tr><tr><td>Central America and the Caribbean</td><td>Trinidad and Tobago</td><td>Vegetables</td><td>Offline</td><td>M</td></tr><tr><td>Europe</td><td>Sweden</td><td>Baby Food</td><td>Online</td><td>L</td></tr><tr><td>Europe</td><td>Belarus</td><td>Office Supplies</td><td>Online</td><td>L</td></tr><tr><td>Sub-Saharan Africa</td><td>Guinea-Bissau</td><td>Office Supplies</td><td>Offline</td><td>C</td></tr><tr><td>Asia</td><td>Mongolia</td><td>Beverages</td><td>Online</td><td>M</td></tr><tr><td>Middle East and North Africa</td><td>Turkey</td><td>Meat</td><td>Online</td><td>L</td></tr><tr><td>Sub-Saharan Africa</td><td>Central African Republic</td><td>Snacks</td><td>Offline</td><td>L</td></tr><tr><td>Sub-Saharan Africa</td><td>Equatorial Guinea</td><td>Office Supplies</td><td>Offline</td><td>L</td></tr><tr><td>Asia</td><td>Laos</td><td>Beverages</td><td>Online</td><td>M</td></tr><tr><td>Europe</td><td>Armenia</td><td>Meat</td><td>Online</td><td>C</td></tr><tr><td>Europe</td><td>Greece</td><td>Household</td><td>Online</td><td>L</td></tr><tr><td>Middle East and North Africa</td><td>Israel</td><td>Personal Care</td><td>Offline</td><td>H</td></tr><tr><td>Asia</td><td>Bhutan</td><td>Meat</td><td>Online</td><td>H</td></tr><tr><td>Australia and Oceania</td><td>Vanuatu</td><td>Vegetables</td><td>Online</td><td>L</td></tr><tr><td>Sub-Saharan Africa</td><td>Burundi</td><td>Vegetables</td><td>Online</td><td>M</td></tr><tr><td>Europe</td><td>Ukraine</td><td>Cosmetics</td><td>Online</td><td>M</td></tr><tr><td>Europe</td><td>Croatia</td><td>Beverages</td><td>Online</td><td>C</td></tr><tr><td>Sub-Saharan Africa</td><td>Madagascar</td><td>Fruits</td><td>Online</td><td>L</td></tr><tr><td>Asia</td><td>Malaysia</td><td>Snacks</td><td>Offline</td><td>M</td></tr><tr><td>Asia</td><td>Uzbekistan</td><td>Office Supplies</td><td>Offline</td><td>L</td></tr><tr><td>Europe</td><td>Italy</td><td>Office Supplies</td><td>Online</td><td>M</td></tr><tr><td>Asia</td><td>Nepal</td><td>Vegetables</td><td>Offline</td><td>C</td></tr><tr><td>Australia and Oceania</td><td>Fiji</td><td>Personal Care</td><td>Offline</td><td>H</td></tr><tr><td>Europe</td><td>Portugal</td><td>Office Supplies</td><td>Online</td><td>L</td></tr><tr><td>Central America and the Caribbean</td><td>Panama</td><td>Cosmetics</td><td>Offline</td><td>H</td></tr><tr><td>Europe</td><td>Belarus</td><td>Beverages</td><td>Offline</td><td>L</td></tr><tr><td>Sub-Saharan Africa</td><td>Botswana</td><td>Clothes</td><td>Offline</td><td>C</td></tr><tr><td>Sub-Saharan Africa</td><td>Tanzania</td><td>Personal Care</td><td>Online</td><td>M</td></tr><tr><td>Europe</td><td>Romania</td><td>Office Supplies</td><td>Offline</td><td>C</td></tr><tr><td>Sub-Saharan Africa</td><td>Mali</td><td>Cereal</td><td>Online</td><td>L</td></tr><tr><td>Sub-Saharan Africa</td><td>Central African Republic</td><td>Office Supplies</td><td>Offline</td><td>C</td></tr><tr><td>Sub-Saharan Africa</td><td>Niger</td><td>Baby Food</td><td>Online</td><td>M</td></tr><tr><td>Europe</td><td>Austria</td><td>Office Supplies</td><td>Online</td><td>L</td></tr><tr><td>Asia</td><td>India</td><td>Fruits</td><td>Online</td><td>H</td></tr><tr><td>Europe</td><td>Luxembourg</td><td>Baby Food</td><td>Offline</td><td>L</td></tr><tr><td>Sub-Saharan Africa</td><td>Cape Verde</td><td>Beverages</td><td>Offline</td><td>H</td></tr><tr><td>Europe</td><td>Sweden</td><td>Vegetables</td><td>Offline</td><td>M</td></tr><tr><td>Europe</td><td>Iceland</td><td>Meat</td><td>Offline</td><td>H</td></tr><tr><td>Middle East and North Africa</td><td>Qatar</td><td>Personal Care</td><td>Offline</td><td>L</td></tr><tr><td>Sub-Saharan Africa</td><td>South Sudan</td><td>Meat</td><td>Online</td><td>C</td></tr><tr><td>Europe</td><td>United Kingdom</td><td>Office Supplies</td><td>Online</td><td>M</td></tr><tr><td>Middle East and North Africa</td><td>Tunisia </td><td>Cereal</td><td>Online</td><td>L</td></tr><tr><td>North America</td><td>United States of America</td><td>Office Supplies</td><td>Online</td><td>C</td></tr><tr><td>Sub-Saharan Africa</td><td>Liberia</td><td>Cereal</td><td>Online</td><td>L</td></tr><tr><td>Sub-Saharan Africa</td><td>Eritrea</td><td>Snacks</td><td>Offline</td><td>L</td></tr><tr><td>Asia</td><td>South Korea</td><td>Fruits</td><td>Offline</td><td>L</td></tr><tr><td>Sub-Saharan Africa</td><td>Kenya</td><td>Clothes</td><td>Offline</td><td>M</td></tr><tr><td>Sub-Saharan Africa</td><td>Rwanda</td><td>Snacks</td><td>Online</td><td>M</td></tr><tr><td>Central America and the Caribbean</td><td>Cuba</td><td>Beverages</td><td>Offline</td><td>C</td></tr><tr><td>Middle East and North Africa</td><td>Libya</td><td>Cereal</td><td>Offline</td><td>M</td></tr><tr><td>Europe</td><td>Czech Republic</td><td>Snacks</td><td>Online</td><td>C</td></tr><tr><td>Europe</td><td>Montenegro</td><td>Beverages</td><td>Offline</td><td>M</td></tr><tr><td>Europe</td><td>Montenegro</td><td>Clothes</td><td>Offline</td><td>M</td></tr><tr><td>Asia</td><td>Philippines</td><td>Baby Food</td><td>Online</td><td>L</td></tr><tr><td>Central America and the Caribbean</td><td>El Salvador</td><td>Clothes</td><td>Offline</td><td>L</td></tr><tr><td>Australia and Oceania</td><td>Tonga</td><td>Household</td><td>Online</td><td>M</td></tr><tr><td>Sub-Saharan Africa</td><td>Democratic Republic of the Congo</td><td>Personal Care</td><td>Offline</td><td>H</td></tr><tr><td>Middle East and North Africa</td><td>Afghanistan</td><td>Cereal</td><td>Online</td><td>M</td></tr><tr><td>Australia and Oceania</td><td>Tuvalu</td><td>Snacks</td><td>Offline</td><td>L</td></tr><tr><td>Sub-Saharan Africa</td><td>Sudan</td><td>Fruits</td><td>Online</td><td>L</td></tr><tr><td>Sub-Saharan Africa</td><td>Niger</td><td>Clothes</td><td>Online</td><td>M</td></tr><tr><td>Sub-Saharan Africa</td><td>Gabon</td><td>Household</td><td>Offline</td><td>C</td></tr><tr><td>Australia and Oceania</td><td>East Timor</td><td>Vegetables</td><td>Offline</td><td>C</td></tr><tr><td>North America</td><td>United States of America</td><td>Clothes</td><td>Offline</td><td>C</td></tr><tr><td>Middle East and North Africa</td><td>Jordan</td><td>Vegetables</td><td>Offline</td><td>L</td></tr><tr><td>Europe</td><td>Cyprus</td><td>Snacks</td><td>Offline</td><td>H</td></tr><tr><td>Sub-Saharan Africa</td><td>Malawi</td><td>Vegetables</td><td>Online</td><td>L</td></tr><tr><td>Europe</td><td>Iceland</td><td>Personal Care</td><td>Online</td><td>M</td></tr><tr><td>Middle East and North Africa</td><td>Israel</td><td>Personal Care</td><td>Online</td><td>M</td></tr><tr><td>Middle East and North Africa</td><td>United Arab Emirates</td><td>Snacks</td><td>Offline</td><td>H</td></tr><tr><td>Asia</td><td>China</td><td>Cosmetics</td><td>Offline</td><td>L</td></tr><tr><td>Sub-Saharan Africa</td><td>Kenya</td><td>Beverages</td><td>Online</td><td>M</td></tr><tr><td>Middle East and North Africa</td><td>Somalia</td><td>Clothes</td><td>Offline</td><td>M</td></tr><tr><td>Australia and Oceania</td><td>Tonga</td><td>Beverages</td><td>Offline</td><td>L</td></tr><tr><td>Asia</td><td>Bangladesh</td><td>Baby Food</td><td>Online</td><td>H</td></tr><tr><td>Middle East and North Africa</td><td>Egypt</td><td>Beverages</td><td>Offline</td><td>M</td></tr><tr><td>Sub-Saharan Africa</td><td>Eritrea</td><td>Cereal</td><td>Offline</td><td>C</td></tr><tr><td>Sub-Saharan Africa</td><td>Swaziland</td><td>Office Supplies</td><td>Online</td><td>H</td></tr><tr><td>Asia</td><td>Vietnam</td><td>Baby Food</td><td>Online</td><td>C</td></tr><tr><td>Australia and Oceania</td><td>Marshall Islands</td><td>Snacks</td><td>Online</td><td>L</td></tr><tr><td>Asia</td><td>Taiwan</td><td>Household</td><td>Online</td><td>C</td></tr><tr><td>Europe</td><td>Ireland</td><td>Vegetables</td><td>Online</td><td>M</td></tr><tr><td>Sub-Saharan Africa</td><td>Rwanda</td><td>Meat</td><td>Offline</td><td>H</td></tr><tr><td>Europe</td><td>Sweden</td><td>Snacks</td><td>Online</td><td>M</td></tr><tr><td>Sub-Saharan Africa</td><td>Gabon</td><td>Snacks</td><td>Offline</td><td>M</td></tr><tr><td>Sub-Saharan Africa</td><td>South Africa</td><td>Baby Food</td><td>Online</td><td>L</td></tr><tr><td>Europe</td><td>United Kingdom</td><td>Clothes</td><td>Offline</td><td>C</td></tr><tr><td>Europe</td><td>Albania</td><td>Fruits</td><td>Offline</td><td>M</td></tr><tr><td>Asia</td><td>Malaysia</td><td>Snacks</td><td>Offline</td><td>H</td></tr><tr><td>Sub-Saharan Africa</td><td>Ghana</td><td>Household</td><td>Offline</td><td>L</td></tr><tr><td>Central America and the Caribbean</td><td>Cuba</td><td>Clothes</td><td>Offline</td><td>H</td></tr><tr><td>Central America and the Caribbean</td><td>Saint Lucia</td><td>Cosmetics</td><td>Online</td><td>C</td></tr><tr><td>Europe</td><td>Romania</td><td>Snacks</td><td>Offline</td><td>L</td></tr><tr><td>Europe</td><td>Portugal</td><td>Office Supplies</td><td>Online</td><td>L</td></tr><tr><td>Europe</td><td>Macedonia</td><td>Beverages</td><td>Online</td><td>C</td></tr><tr><td>Asia</td><td>China</td><td>Beverages</td><td>Offline</td><td>C</td></tr><tr><td>Europe</td><td>Germany</td><td>Baby Food</td><td>Online</td><td>L</td></tr><tr><td>Europe</td><td>Ireland</td><td>Household</td><td>Online</td><td>M</td></tr><tr><td>Europe</td><td>Poland</td><td>Office Supplies</td><td>Offline</td><td>M</td></tr><tr><td>Sub-Saharan Africa</td><td>Namibia</td><td>Household</td><td>Online</td><td>H</td></tr><tr><td>Asia</td><td>Uzbekistan</td><td>Personal Care</td><td>Offline</td><td>H</td></tr><tr><td>Sub-Saharan Africa</td><td>Zimbabwe</td><td>Meat</td><td>Online</td><td>M</td></tr><tr><td>Asia</td><td>Mongolia</td><td>Meat</td><td>Offline</td><td>M</td></tr><tr><td>Europe</td><td>Norway</td><td>Personal Care</td><td>Online</td><td>H</td></tr><tr><td>Middle East and North Africa</td><td>Oman</td><td>Snacks</td><td>Offline</td><td>M</td></tr><tr><td>Europe</td><td>Serbia</td><td>Cosmetics</td><td>Online</td><td>H</td></tr><tr><td>Sub-Saharan Africa</td><td>Democratic Republic of the Congo</td><td>Fruits</td><td>Offline</td><td>H</td></tr><tr><td>Europe</td><td>Bulgaria</td><td>Baby Food</td><td>Online</td><td>M</td></tr><tr><td>Asia</td><td>Brunei</td><td>Baby Food</td><td>Online</td><td>H</td></tr><tr><td>Europe</td><td>Serbia</td><td>Snacks</td><td>Offline</td><td>C</td></tr><tr><td>Sub-Saharan Africa</td><td>Ghana</td><td>Cereal</td><td>Offline</td><td>M</td></tr><tr><td>Sub-Saharan Africa</td><td>Malawi</td><td>Cereal</td><td>Offline</td><td>M</td></tr><tr><td>Sub-Saharan Africa</td><td>Zimbabwe</td><td>Fruits</td><td>Offline</td><td>L</td></tr><tr><td>Europe</td><td>Cyprus</td><td>Snacks</td><td>Offline</td><td>C</td></tr><tr><td>Central America and the Caribbean</td><td>Nicaragua</td><td>Cereal</td><td>Online</td><td>M</td></tr><tr><td>Europe</td><td>Estonia</td><td>Baby Food</td><td>Offline</td><td>C</td></tr><tr><td>Europe</td><td>Estonia</td><td>Clothes</td><td>Online</td><td>C</td></tr><tr><td>Europe</td><td>Lithuania</td><td>Fruits</td><td>Offline</td><td>H</td></tr><tr><td>Sub-Saharan Africa</td><td>Republic of the Congo</td><td>Meat</td><td>Offline</td><td>H</td></tr><tr><td>Europe</td><td>Czech Republic</td><td>Baby Food</td><td>Online</td><td>C</td></tr><tr><td>Sub-Saharan Africa</td><td>Cameroon</td><td>Snacks</td><td>Online</td><td>C</td></tr><tr><td>Asia</td><td>Vietnam</td><td>Office Supplies</td><td>Online</td><td>H</td></tr><tr><td>Europe</td><td>Moldova </td><td>Meat</td><td>Offline</td><td>L</td></tr><tr><td>Middle East and North Africa</td><td>Bahrain</td><td>Office Supplies</td><td>Offline</td><td>L</td></tr><tr><td>Europe</td><td>Hungary</td><td>Household</td><td>Online</td><td>L</td></tr><tr><td>Australia and Oceania</td><td>Marshall Islands</td><td>Personal Care</td><td>Offline</td><td>L</td></tr><tr><td>Middle East and North Africa</td><td>Iraq</td><td>Office Supplies</td><td>Online</td><td>C</td></tr><tr><td>Europe</td><td>Albania</td><td>Vegetables</td><td>Online</td><td>H</td></tr><tr><td>Sub-Saharan Africa</td><td>Lesotho</td><td>Office Supplies</td><td>Online</td><td>H</td></tr><tr><td>Middle East and North Africa</td><td>Lebanon</td><td>Clothes</td><td>Offline</td><td>H</td></tr><tr><td>Europe</td><td>Hungary</td><td>Vegetables</td><td>Online</td><td>C</td></tr><tr><td>Asia</td><td>Japan</td><td>Beverages</td><td>Online</td><td>H</td></tr><tr><td>Europe</td><td>Georgia</td><td>Office Supplies</td><td>Offline</td><td>L</td></tr><tr><td>Europe</td><td>Estonia</td><td>Office Supplies</td><td>Online</td><td>C</td></tr><tr><td>Europe</td><td>Luxembourg</td><td>Household</td><td>Online</td><td>C</td></tr><tr><td>Sub-Saharan Africa</td><td>Swaziland</td><td>Personal Care</td><td>Online</td><td>H</td></tr><tr><td>Europe</td><td>Romania</td><td>Clothes</td><td>Offline</td><td>C</td></tr><tr><td>Sub-Saharan Africa</td><td>Ethiopia</td><td>Personal Care</td><td>Offline</td><td>C</td></tr><tr><td>Sub-Saharan Africa</td><td>Chad</td><td>Office Supplies</td><td>Offline</td><td>C</td></tr><tr><td>Middle East and North Africa</td><td>Morocco</td><td>Office Supplies</td><td>Online</td><td>C</td></tr><tr><td>North America</td><td>Mexico</td><td>Clothes</td><td>Online</td><td>H</td></tr><tr><td>Sub-Saharan Africa</td><td>Nigeria</td><td>Personal Care</td><td>Offline</td><td>H</td></tr><tr><td>Central America and the Caribbean</td><td>Trinidad and Tobago</td><td>Beverages</td><td>Offline</td><td>L</td></tr><tr><td>Europe</td><td>Moldova </td><td>Personal Care</td><td>Offline</td><td>H</td></tr><tr><td>Australia and Oceania</td><td>Solomon Islands</td><td>Personal Care</td><td>Online</td><td>H</td></tr><tr><td>Asia</td><td>India</td><td>Personal Care</td><td>Online</td><td>L</td></tr><tr><td>Sub-Saharan Africa</td><td>Burkina Faso</td><td>Office Supplies</td><td>Offline</td><td>M</td></tr><tr><td>Australia and Oceania</td><td>Kiribati</td><td>Meat</td><td>Online</td><td>L</td></tr><tr><td>Middle East and North Africa</td><td>Israel</td><td>Meat</td><td>Offline</td><td>M</td></tr><tr><td>Sub-Saharan Africa</td><td>Comoros</td><td>Snacks</td><td>Offline</td><td>L</td></tr><tr><td>Middle East and North Africa</td><td>Iran</td><td>Baby Food</td><td>Offline</td><td>H</td></tr><tr><td>Asia</td><td>Vietnam</td><td>Cosmetics</td><td>Offline</td><td>L</td></tr><tr><td>Central America and the Caribbean</td><td>Belize</td><td>Household</td><td>Online</td><td>M</td></tr><tr><td>Europe</td><td>Belarus</td><td>Personal Care</td><td>Offline</td><td>H</td></tr><tr><td>North America</td><td>United States of America</td><td>Baby Food</td><td>Offline</td><td>C</td></tr><tr><td>Europe</td><td>Poland</td><td>Beverages</td><td>Online</td><td>L</td></tr><tr><td>North America</td><td>Canada</td><td>Vegetables</td><td>Offline</td><td>L</td></tr><tr><td>Middle East and North Africa</td><td>Israel</td><td>Beverages</td><td>Offline</td><td>C</td></tr><tr><td>Middle East and North Africa</td><td>Lebanon</td><td>Household</td><td>Online</td><td>L</td></tr><tr><td>Europe</td><td>Andorra</td><td>Baby Food</td><td>Online</td><td>L</td></tr><tr><td>Europe</td><td>Slovakia</td><td>Clothes</td><td>Online</td><td>L</td></tr><tr><td>Sub-Saharan Africa</td><td>Liberia</td><td>Fruits</td><td>Online</td><td>H</td></tr><tr><td>Central America and the Caribbean</td><td>Antigua and Barbuda </td><td>Cereal</td><td>Offline</td><td>M</td></tr><tr><td>Asia</td><td>China</td><td>Personal Care</td><td>Online</td><td>L</td></tr><tr><td>Sub-Saharan Africa</td><td>Niger</td><td>Baby Food</td><td>Online</td><td>H</td></tr><tr><td>Europe</td><td>United Kingdom</td><td>Household</td><td>Offline</td><td>L</td></tr><tr><td>Asia</td><td>Bangladesh</td><td>Personal Care</td><td>Offline</td><td>M</td></tr><tr><td>Asia</td><td>Myanmar</td><td>Snacks</td><td>Online</td><td>L</td></tr><tr><td>Australia and Oceania</td><td>Tonga</td><td>Meat</td><td>Offline</td><td>M</td></tr><tr><td>Sub-Saharan Africa</td><td>Guinea-Bissau</td><td>Vegetables</td><td>Online</td><td>C</td></tr><tr><td>Australia and Oceania</td><td>Nauru</td><td>Vegetables</td><td>Offline</td><td>M</td></tr><tr><td>Sub-Saharan Africa</td><td>Swaziland</td><td>Cereal</td><td>Online</td><td>L</td></tr><tr><td>Europe</td><td>Finland</td><td>Vegetables</td><td>Online</td><td>C</td></tr><tr><td>Australia and Oceania</td><td>Papua New Guinea</td><td>Household</td><td>Offline</td><td>L</td></tr><tr><td>Sub-Saharan Africa</td><td>Mauritius </td><td>Personal Care</td><td>Online</td><td>L</td></tr><tr><td>Sub-Saharan Africa</td><td>Mozambique</td><td>Office Supplies</td><td>Online</td><td>M</td></tr><tr><td>Europe</td><td>Bulgaria</td><td>Clothes</td><td>Online</td><td>L</td></tr><tr><td>Europe</td><td>Spain</td><td>Household</td><td>Online</td><td>C</td></tr><tr><td>Australia and Oceania</td><td>Vanuatu</td><td>Meat</td><td>Online</td><td>H</td></tr><tr><td>Europe</td><td>Belgium</td><td>Fruits</td><td>Offline</td><td>L</td></tr><tr><td>Europe</td><td>Belgium</td><td>Baby Food</td><td>Offline</td><td>L</td></tr><tr><td>Sub-Saharan Africa</td><td>Guinea-Bissau</td><td>Clothes</td><td>Online</td><td>L</td></tr><tr><td>Sub-Saharan Africa</td><td>Togo</td><td>Vegetables</td><td>Online</td><td>C</td></tr><tr><td>Sub-Saharan Africa</td><td>Cote d'Ivoire</td><td>Personal Care</td><td>Offline</td><td>C</td></tr><tr><td>Sub-Saharan Africa</td><td>Republic of the Congo</td><td>Fruits</td><td>Offline</td><td>C</td></tr><tr><td>Middle East and North Africa</td><td>Libya</td><td>Baby Food</td><td>Offline</td><td>M</td></tr><tr><td>Australia and Oceania</td><td>East Timor</td><td>Vegetables</td><td>Online</td><td>C</td></tr><tr><td>Europe</td><td>Switzerland</td><td>Clothes</td><td>Offline</td><td>H</td></tr><tr><td>Australia and Oceania</td><td>Palau</td><td>Snacks</td><td>Offline</td><td>M</td></tr><tr><td>Middle East and North Africa</td><td>Jordan</td><td>Household</td><td>Online</td><td>M</td></tr><tr><td>Europe</td><td>Slovenia</td><td>Household</td><td>Online</td><td>H</td></tr><tr><td>Asia</td><td>South Korea</td><td>Baby Food</td><td>Online</td><td>L</td></tr><tr><td>Europe</td><td>Norway</td><td>Clothes</td><td>Online</td><td>H</td></tr><tr><td>Middle East and North Africa</td><td>Afghanistan</td><td>Baby Food</td><td>Online</td><td>M</td></tr><tr><td>Asia</td><td>Bangladesh</td><td>Personal Care</td><td>Online</td><td>L</td></tr><tr><td>Sub-Saharan Africa</td><td>Guinea</td><td>Meat</td><td>Offline</td><td>M</td></tr><tr><td>Central America and the Caribbean</td><td>Cuba</td><td>Office Supplies</td><td>Offline</td><td>H</td></tr><tr><td>Europe</td><td>Russia</td><td>Cosmetics</td><td>Offline</td><td>C</td></tr><tr><td>Sub-Saharan Africa</td><td>Seychelles </td><td>Vegetables</td><td>Offline</td><td>L</td></tr><tr><td>Asia</td><td>South Korea</td><td>Office Supplies</td><td>Offline</td><td>M</td></tr><tr><td>Sub-Saharan Africa</td><td>Ghana</td><td>Baby Food</td><td>Offline</td><td>L</td></tr><tr><td>Central America and the Caribbean</td><td>Costa Rica</td><td>Office Supplies</td><td>Online</td><td>H</td></tr><tr><td>Europe</td><td>Romania</td><td>Cereal</td><td>Online</td><td>C</td></tr><tr><td>Europe</td><td>Czech Republic</td><td>Cereal</td><td>Online</td><td>L</td></tr><tr><td>Europe</td><td>Liechtenstein</td><td>Household</td><td>Offline</td><td>L</td></tr><tr><td>Sub-Saharan Africa</td><td>Seychelles </td><td>Baby Food</td><td>Online</td><td>M</td></tr><tr><td>Middle East and North Africa</td><td>Somalia</td><td>Baby Food</td><td>Online</td><td>L</td></tr><tr><td>Australia and Oceania</td><td>Solomon Islands</td><td>Personal Care</td><td>Offline</td><td>H</td></tr><tr><td>Sub-Saharan Africa</td><td>Uganda</td><td>Clothes</td><td>Offline</td><td>C</td></tr><tr><td>Sub-Saharan Africa</td><td>Equatorial Guinea</td><td>Cereal</td><td>Offline</td><td>M</td></tr><tr><td>Central America and the Caribbean</td><td>Costa Rica</td><td>Office Supplies</td><td>Offline</td><td>C</td></tr><tr><td>Europe</td><td>Moldova </td><td>Fruits</td><td>Offline</td><td>C</td></tr><tr><td>Sub-Saharan Africa</td><td>Burkina Faso</td><td>Vegetables</td><td>Online</td><td>L</td></tr><tr><td>Central America and the Caribbean</td><td>Guatemala</td><td>Beverages</td><td>Offline</td><td>H</td></tr><tr><td>Sub-Saharan Africa</td><td>Swaziland</td><td>Meat</td><td>Online</td><td>M</td></tr><tr><td>Asia</td><td>Maldives</td><td>Vegetables</td><td>Online</td><td>H</td></tr><tr><td>Asia</td><td>Thailand</td><td>Household</td><td>Online</td><td>H</td></tr><tr><td>Sub-Saharan Africa</td><td>Sudan</td><td>Household</td><td>Online</td><td>C</td></tr><tr><td>Central America and the Caribbean</td><td>Costa Rica</td><td>Meat</td><td>Offline</td><td>L</td></tr><tr><td>Europe</td><td>Denmark</td><td>Beverages</td><td>Online</td><td>C</td></tr><tr><td>Sub-Saharan Africa</td><td>Angola</td><td>Cereal</td><td>Offline</td><td>C</td></tr><tr><td>Australia and Oceania</td><td>Papua New Guinea</td><td>Household</td><td>Online</td><td>M</td></tr><tr><td>Asia</td><td>North Korea</td><td>Meat</td><td>Online</td><td>M</td></tr><tr><td>Central America and the Caribbean</td><td>El Salvador</td><td>Fruits</td><td>Online</td><td>C</td></tr><tr><td>Sub-Saharan Africa</td><td>Burkina Faso</td><td>Household</td><td>Online</td><td>M</td></tr><tr><td>Middle East and North Africa</td><td>Yemen</td><td>Baby Food</td><td>Online</td><td>C</td></tr><tr><td>Sub-Saharan Africa</td><td>Republic of the Congo</td><td>Beverages</td><td>Online</td><td>L</td></tr><tr><td>Europe</td><td>Andorra</td><td>Household</td><td>Online</td><td>M</td></tr><tr><td>Central America and the Caribbean</td><td>Dominican Republic</td><td>Household</td><td>Offline</td><td>H</td></tr><tr><td>Middle East and North Africa</td><td>Israel</td><td>Baby Food</td><td>Offline</td><td>M</td></tr><tr><td>Australia and Oceania</td><td>Solomon Islands</td><td>Snacks</td><td>Offline</td><td>L</td></tr><tr><td>Sub-Saharan Africa</td><td>Liberia</td><td>Fruits</td><td>Online</td><td>M</td></tr><tr><td>Sub-Saharan Africa</td><td>Mali</td><td>Vegetables</td><td>Online</td><td>C</td></tr><tr><td>Asia</td><td>Uzbekistan</td><td>Clothes</td><td>Online</td><td>C</td></tr><tr><td>Middle East and North Africa</td><td>Tunisia </td><td>Personal Care</td><td>Offline</td><td>H</td></tr><tr><td>Europe</td><td>Vatican City</td><td>Vegetables</td><td>Online</td><td>C</td></tr><tr><td>Sub-Saharan Africa</td><td>Djibouti</td><td>Snacks</td><td>Offline</td><td>H</td></tr><tr><td>Europe</td><td>Ukraine</td><td>Household</td><td>Offline</td><td>M</td></tr><tr><td>Australia and Oceania</td><td>East Timor</td><td>Fruits</td><td>Offline</td><td>M</td></tr><tr><td>Sub-Saharan Africa</td><td>Uganda</td><td>Cereal</td><td>Online</td><td>C</td></tr><tr><td>Sub-Saharan Africa</td><td>Guinea</td><td>Meat</td><td>Online</td><td>H</td></tr><tr><td>Sub-Saharan Africa</td><td>Equatorial Guinea</td><td>Clothes</td><td>Offline</td><td>H</td></tr><tr><td>Europe</td><td>Malta</td><td>Cosmetics</td><td>Online</td><td>M</td></tr><tr><td>Europe</td><td>Cyprus</td><td>Household</td><td>Offline</td><td>L</td></tr><tr><td>Europe</td><td>Czech Republic</td><td>Office Supplies</td><td>Online</td><td>L</td></tr><tr><td>Middle East and North Africa</td><td>Libya</td><td>Vegetables</td><td>Online</td><td>C</td></tr><tr><td>Asia</td><td>Vietnam</td><td>Office Supplies</td><td>Offline</td><td>C</td></tr><tr><td>Middle East and North Africa</td><td>Jordan</td><td>Vegetables</td><td>Online</td><td>C</td></tr><tr><td>Sub-Saharan Africa</td><td>Mali</td><td>Beverages</td><td>Offline</td><td>H</td></tr><tr><td>Europe</td><td>Czech Republic</td><td>Household</td><td>Online</td><td>L</td></tr><tr><td>Europe</td><td>Slovakia</td><td>Vegetables</td><td>Online</td><td>M</td></tr><tr><td>Sub-Saharan Africa</td><td>Zimbabwe</td><td>Vegetables</td><td>Offline</td><td>C</td></tr><tr><td>Central America and the Caribbean</td><td>Honduras</td><td>Cereal</td><td>Online</td><td>M</td></tr><tr><td>Europe</td><td>Switzerland</td><td>Beverages</td><td>Offline</td><td>L</td></tr><tr><td>Sub-Saharan Africa</td><td>South Africa</td><td>Cosmetics</td><td>Offline</td><td>L</td></tr><tr><td>Sub-Saharan Africa</td><td>Uganda</td><td>Beverages</td><td>Online</td><td>M</td></tr><tr><td>Middle East and North Africa</td><td>Iran</td><td>Vegetables</td><td>Offline</td><td>M</td></tr><tr><td>Middle East and North Africa</td><td>Algeria</td><td>Vegetables</td><td>Online</td><td>C</td></tr><tr><td>Sub-Saharan Africa</td><td>Central African Republic</td><td>Baby Food</td><td>Online</td><td>L</td></tr><tr><td>Central America and the Caribbean</td><td>The Bahamas</td><td>Cosmetics</td><td>Offline</td><td>C</td></tr><tr><td>Sub-Saharan Africa</td><td>South Africa</td><td>Household</td><td>Offline</td><td>H</td></tr><tr><td>Sub-Saharan Africa</td><td>Benin</td><td>Cereal</td><td>Online</td><td>M</td></tr><tr><td>Europe</td><td>Hungary</td><td>Cosmetics</td><td>Online</td><td>M</td></tr><tr><td>Europe</td><td>Austria</td><td>Office Supplies</td><td>Offline</td><td>C</td></tr><tr><td>Asia</td><td>Tajikistan</td><td>Office Supplies</td><td>Offline</td><td>C</td></tr><tr><td>Europe</td><td>Portugal</td><td>Office Supplies</td><td>Online</td><td>C</td></tr><tr><td>Europe</td><td>Belgium</td><td>Beverages</td><td>Offline</td><td>M</td></tr><tr><td>Europe</td><td>Slovenia</td><td>Beverages</td><td>Offline</td><td>L</td></tr><tr><td>Europe</td><td>Czech Republic</td><td>Snacks</td><td>Online</td><td>M</td></tr><tr><td>Australia and Oceania</td><td>Marshall Islands</td><td>Personal Care</td><td>Offline</td><td>C</td></tr><tr><td>Sub-Saharan Africa</td><td>Sudan</td><td>Fruits</td><td>Online</td><td>C</td></tr><tr><td>Central America and the Caribbean</td><td>Dominican Republic</td><td>Clothes</td><td>Online</td><td>H</td></tr><tr><td>Sub-Saharan Africa</td><td>Tanzania</td><td>Cereal</td><td>Offline</td><td>C</td></tr><tr><td>Europe</td><td>Switzerland</td><td>Clothes</td><td>Offline</td><td>H</td></tr><tr><td>North America</td><td>Greenland</td><td>Household</td><td>Online</td><td>L</td></tr><tr><td>Australia and Oceania</td><td>Tonga</td><td>Fruits</td><td>Offline</td><td>L</td></tr><tr><td>Middle East and North Africa</td><td>Saudi Arabia</td><td>Vegetables</td><td>Online</td><td>M</td></tr><tr><td>Central America and the Caribbean</td><td>Belize</td><td>Cosmetics</td><td>Offline</td><td>C</td></tr><tr><td>Sub-Saharan Africa</td><td>Angola</td><td>Cosmetics</td><td>Online</td><td>H</td></tr><tr><td>Asia</td><td>Malaysia</td><td>Household</td><td>Online</td><td>H</td></tr><tr><td>Sub-Saharan Africa</td><td>Ethiopia</td><td>Beverages</td><td>Online</td><td>C</td></tr><tr><td>North America</td><td>Greenland</td><td>Baby Food</td><td>Offline</td><td>C</td></tr><tr><td>Sub-Saharan Africa</td><td>Benin</td><td>Cereal</td><td>Offline</td><td>C</td></tr><tr><td>Middle East and North Africa</td><td>Yemen</td><td>Cereal</td><td>Offline</td><td>H</td></tr><tr><td>Sub-Saharan Africa</td><td>Rwanda</td><td>Baby Food</td><td>Offline</td><td>M</td></tr><tr><td>Sub-Saharan Africa</td><td>Mauritania</td><td>Meat</td><td>Offline</td><td>M</td></tr><tr><td>Australia and Oceania</td><td>New Zealand</td><td>Personal Care</td><td>Online</td><td>L</td></tr><tr><td>Australia and Oceania</td><td>Samoa </td><td>Clothes</td><td>Offline</td><td>M</td></tr><tr><td>Australia and Oceania</td><td>Fiji</td><td>Clothes</td><td>Online</td><td>H</td></tr><tr><td>Sub-Saharan Africa</td><td>Malawi</td><td>Beverages</td><td>Online</td><td>H</td></tr><tr><td>Australia and Oceania</td><td>Marshall Islands</td><td>Beverages</td><td>Offline</td><td>M</td></tr><tr><td>Central America and the Caribbean</td><td>Grenada</td><td>Baby Food</td><td>Online</td><td>M</td></tr><tr><td>Europe</td><td>Luxembourg</td><td>Meat</td><td>Online</td><td>C</td></tr><tr><td>Sub-Saharan Africa</td><td>Zimbabwe</td><td>Meat</td><td>Offline</td><td>M</td></tr><tr><td>Asia</td><td>China</td><td>Vegetables</td><td>Online</td><td>H</td></tr><tr><td>North America</td><td>United States of America</td><td>Beverages</td><td>Online</td><td>L</td></tr><tr><td>Sub-Saharan Africa</td><td>Central African Republic</td><td>Vegetables</td><td>Online</td><td>L</td></tr><tr><td>Central America and the Caribbean</td><td>Antigua and Barbuda </td><td>Vegetables</td><td>Online</td><td>M</td></tr><tr><td>Central America and the Caribbean</td><td>Guatemala</td><td>Baby Food</td><td>Offline</td><td>H</td></tr><tr><td>Middle East and North Africa</td><td>Qatar</td><td>Clothes</td><td>Offline</td><td>L</td></tr><tr><td>Middle East and North Africa</td><td>Israel</td><td>Personal Care</td><td>Online</td><td>L</td></tr><tr><td>Asia</td><td>Thailand</td><td>Snacks</td><td>Offline</td><td>L</td></tr><tr><td>Asia</td><td>Singapore</td><td>Cereal</td><td>Online</td><td>M</td></tr><tr><td>Asia</td><td>North Korea</td><td>Snacks</td><td>Online</td><td>C</td></tr><tr><td>Europe</td><td>Austria</td><td>Office Supplies</td><td>Online</td><td>L</td></tr><tr><td>Asia</td><td>Japan</td><td>Baby Food</td><td>Offline</td><td>L</td></tr><tr><td>Sub-Saharan Africa</td><td>Zimbabwe</td><td>Beverages</td><td>Offline</td><td>L</td></tr><tr><td>Europe</td><td>Lithuania</td><td>Fruits</td><td>Offline</td><td>H</td></tr><tr><td>Europe</td><td>Luxembourg</td><td>Baby Food</td><td>Offline</td><td>H</td></tr><tr><td>Sub-Saharan Africa</td><td>Central African Republic</td><td>Cosmetics</td><td>Offline</td><td>H</td></tr><tr><td>Europe</td><td>Norway</td><td>Household</td><td>Offline</td><td>M</td></tr><tr><td>Sub-Saharan Africa</td><td>Democratic Republic of the Congo</td><td>Fruits</td><td>Offline</td><td>M</td></tr><tr><td>Australia and Oceania</td><td>New Zealand</td><td>Household</td><td>Offline</td><td>L</td></tr><tr><td>Europe</td><td>Ukraine</td><td>Personal Care</td><td>Offline</td><td>M</td></tr><tr><td>Asia</td><td>Taiwan</td><td>Personal Care</td><td>Offline</td><td>H</td></tr><tr><td>Europe</td><td>Italy</td><td>Cereal</td><td>Offline</td><td>C</td></tr><tr><td>Europe</td><td>Finland</td><td>Personal Care</td><td>Online</td><td>L</td></tr><tr><td>Sub-Saharan Africa</td><td>Sudan</td><td>Office Supplies</td><td>Online</td><td>H</td></tr><tr><td>Europe</td><td>Croatia</td><td>Snacks</td><td>Offline</td><td>M</td></tr><tr><td>Sub-Saharan Africa</td><td>Mauritania</td><td>Beverages</td><td>Online</td><td>L</td></tr><tr><td>Australia and Oceania</td><td>New Zealand</td><td>Baby Food</td><td>Offline</td><td>L</td></tr><tr><td>Middle East and North Africa</td><td>Pakistan</td><td>Beverages</td><td>Online</td><td>L</td></tr><tr><td>Europe</td><td>Poland</td><td>Household</td><td>Online</td><td>C</td></tr><tr><td>Europe</td><td>Lithuania</td><td>Cereal</td><td>Offline</td><td>M</td></tr><tr><td>Middle East and North Africa</td><td>Pakistan</td><td>Cereal</td><td>Offline</td><td>M</td></tr><tr><td>Australia and Oceania</td><td>East Timor</td><td>Cosmetics</td><td>Offline</td><td>C</td></tr><tr><td>Australia and Oceania</td><td>Marshall Islands</td><td>Fruits</td><td>Online</td><td>L</td></tr><tr><td>Central America and the Caribbean</td><td>Cuba</td><td>Household</td><td>Offline</td><td>L</td></tr><tr><td>North America</td><td>Greenland</td><td>Baby Food</td><td>Offline</td><td>H</td></tr><tr><td>Europe</td><td>Luxembourg</td><td>Personal Care</td><td>Offline</td><td>C</td></tr><tr><td>Middle East and North Africa</td><td>Israel</td><td>Beverages</td><td>Online</td><td>C</td></tr><tr><td>Sub-Saharan Africa</td><td>Djibouti</td><td>Baby Food</td><td>Online</td><td>H</td></tr><tr><td>Europe</td><td>Bulgaria</td><td>Cereal</td><td>Online</td><td>L</td></tr><tr><td>Asia</td><td>Mongolia</td><td>Vegetables</td><td>Online</td><td>C</td></tr><tr><td>Central America and the Caribbean</td><td>Dominican Republic</td><td>Clothes</td><td>Offline</td><td>L</td></tr><tr><td>Middle East and North Africa</td><td>Yemen</td><td>Cosmetics</td><td>Online</td><td>L</td></tr><tr><td>Australia and Oceania</td><td>Federated States of Micronesia</td><td>Personal Care</td><td>Online</td><td>M</td></tr><tr><td>Europe</td><td>Finland</td><td>Personal Care</td><td>Online</td><td>M</td></tr><tr><td>Central America and the Caribbean</td><td>The Bahamas</td><td>Cereal</td><td>Offline</td><td>L</td></tr><tr><td>Central America and the Caribbean</td><td>Grenada</td><td>Meat</td><td>Online</td><td>L</td></tr><tr><td>Sub-Saharan Africa</td><td>Sao Tome and Principe</td><td>Meat</td><td>Offline</td><td>M</td></tr><tr><td>Central America and the Caribbean</td><td>El Salvador</td><td>Personal Care</td><td>Offline</td><td>C</td></tr><tr><td>Europe</td><td>Sweden</td><td>Baby Food</td><td>Online</td><td>M</td></tr><tr><td>Asia</td><td>Turkmenistan</td><td>Cosmetics</td><td>Offline</td><td>H</td></tr><tr><td>Europe</td><td>Monaco</td><td>Vegetables</td><td>Online</td><td>H</td></tr><tr><td>Middle East and North Africa</td><td>Turkey</td><td>Meat</td><td>Online</td><td>H</td></tr><tr><td>Sub-Saharan Africa</td><td>Mozambique</td><td>Beverages</td><td>Online</td><td>M</td></tr><tr><td>Middle East and North Africa</td><td>Yemen</td><td>Office Supplies</td><td>Offline</td><td>C</td></tr><tr><td>Asia</td><td>Philippines</td><td>Cereal</td><td>Offline</td><td>M</td></tr><tr><td>Sub-Saharan Africa</td><td>Democratic Republic of the Congo</td><td>Personal Care</td><td>Offline</td><td>M</td></tr><tr><td>Australia and Oceania</td><td>Fiji</td><td>Snacks</td><td>Online</td><td>H</td></tr><tr><td>Europe</td><td>Macedonia</td><td>Office Supplies</td><td>Offline</td><td>H</td></tr><tr><td>Middle East and North Africa</td><td>Tunisia </td><td>Cereal</td><td>Online</td><td>H</td></tr><tr><td>Europe</td><td>Liechtenstein</td><td>Cereal</td><td>Offline</td><td>L</td></tr><tr><td>Middle East and North Africa</td><td>Qatar</td><td>Cosmetics</td><td>Online</td><td>M</td></tr><tr><td>Australia and Oceania</td><td>Tonga</td><td>Meat</td><td>Offline</td><td>C</td></tr><tr><td>Europe</td><td>Belgium</td><td>Meat</td><td>Online</td><td>L</td></tr><tr><td>Sub-Saharan Africa</td><td>Chad</td><td>Fruits</td><td>Offline</td><td>C</td></tr><tr><td>Asia</td><td>Thailand</td><td>Baby Food</td><td>Online</td><td>H</td></tr><tr><td>Europe</td><td>Iceland</td><td>Clothes</td><td>Offline</td><td>H</td></tr><tr><td>Central America and the Caribbean</td><td>Saint Lucia</td><td>Meat</td><td>Offline</td><td>L</td></tr><tr><td>Asia</td><td>Japan</td><td>Cosmetics</td><td>Offline</td><td>C</td></tr><tr><td>Asia</td><td>India</td><td>Personal Care</td><td>Offline</td><td>L</td></tr><tr><td>Australia and Oceania</td><td>Vanuatu</td><td>Office Supplies</td><td>Online</td><td>L</td></tr><tr><td>Sub-Saharan Africa</td><td>Chad</td><td>Meat</td><td>Offline</td><td>M</td></tr><tr><td>Sub-Saharan Africa</td><td>Malawi</td><td>Cosmetics</td><td>Offline</td><td>H</td></tr><tr><td>Europe</td><td>Finland</td><td>Cosmetics</td><td>Online</td><td>L</td></tr><tr><td>Middle East and North Africa</td><td>Turkey</td><td>Clothes</td><td>Online</td><td>C</td></tr><tr><td>Sub-Saharan Africa</td><td>South Africa</td><td>Meat</td><td>Online</td><td>L</td></tr><tr><td>Europe</td><td>Lithuania</td><td>Office Supplies</td><td>Offline</td><td>M</td></tr><tr><td>Europe</td><td>Russia</td><td>Beverages</td><td>Offline</td><td>L</td></tr><tr><td>Central America and the Caribbean</td><td>The Bahamas</td><td>Baby Food</td><td>Online</td><td>C</td></tr><tr><td>Central America and the Caribbean</td><td>The Bahamas</td><td>Snacks</td><td>Online</td><td>L</td></tr><tr><td>Middle East and North Africa</td><td>Turkey</td><td>Cosmetics</td><td>Offline</td><td>C</td></tr><tr><td>Sub-Saharan Africa</td><td>Mauritius </td><td>Cosmetics</td><td>Offline</td><td>H</td></tr><tr><td>Europe</td><td>Bulgaria</td><td>Vegetables</td><td>Online</td><td>H</td></tr><tr><td>Middle East and North Africa</td><td>Iran</td><td>Household</td><td>Offline</td><td>L</td></tr><tr><td>Sub-Saharan Africa</td><td>Ghana</td><td>Household</td><td>Online</td><td>M</td></tr><tr><td>Sub-Saharan Africa</td><td>Malawi</td><td>Baby Food</td><td>Online</td><td>M</td></tr><tr><td>Sub-Saharan Africa</td><td>Zimbabwe</td><td>Baby Food</td><td>Offline</td><td>M</td></tr><tr><td>Asia</td><td>Tajikistan</td><td>Vegetables</td><td>Online</td><td>H</td></tr><tr><td>Europe</td><td>Czech Republic</td><td>Cereal</td><td>Online</td><td>H</td></tr><tr><td>Sub-Saharan Africa</td><td>Mauritius </td><td>Household</td><td>Online</td><td>L</td></tr><tr><td>Sub-Saharan Africa</td><td>Lesotho</td><td>Fruits</td><td>Online</td><td>H</td></tr><tr><td>Sub-Saharan Africa</td><td>Mali</td><td>Beverages</td><td>Online</td><td>L</td></tr><tr><td>Europe</td><td>Georgia</td><td>Personal Care</td><td>Online</td><td>C</td></tr><tr><td>Europe</td><td>Albania</td><td>Office Supplies</td><td>Offline</td><td>M</td></tr><tr><td>Europe</td><td>Cyprus</td><td>Cosmetics</td><td>Offline</td><td>L</td></tr><tr><td>Central America and the Caribbean</td><td>Saint Kitts and Nevis </td><td>Household</td><td>Offline</td><td>C</td></tr><tr><td>Middle East and North Africa</td><td>Tunisia </td><td>Meat</td><td>Offline</td><td>C</td></tr><tr><td>Central America and the Caribbean</td><td>Cuba</td><td>Meat</td><td>Online</td><td>M</td></tr><tr><td>Australia and Oceania</td><td>Kiribati</td><td>Cereal</td><td>Offline</td><td>L</td></tr><tr><td>Asia</td><td>Cambodia</td><td>Snacks</td><td>Online</td><td>C</td></tr><tr><td>Europe</td><td>Moldova </td><td>Baby Food</td><td>Online</td><td>M</td></tr><tr><td>Asia</td><td>Uzbekistan</td><td>Cereal</td><td>Offline</td><td>C</td></tr><tr><td>Asia</td><td>India</td><td>Cosmetics</td><td>Offline</td><td>L</td></tr><tr><td>Europe</td><td>Germany</td><td>Personal Care</td><td>Offline</td><td>C</td></tr><tr><td>Europe</td><td>Austria</td><td>Vegetables</td><td>Online</td><td>C</td></tr><tr><td>Europe</td><td>Germany</td><td>Office Supplies</td><td>Offline</td><td>L</td></tr><tr><td>Asia</td><td>Bhutan</td><td>Clothes</td><td>Online</td><td>M</td></tr><tr><td>Asia</td><td>Kyrgyzstan</td><td>Fruits</td><td>Online</td><td>C</td></tr><tr><td>Middle East and North Africa</td><td>Somalia</td><td>Personal Care</td><td>Online</td><td>C</td></tr><tr><td>Central America and the Caribbean</td><td>Saint Lucia</td><td>Household</td><td>Online</td><td>H</td></tr><tr><td>Europe</td><td>Armenia</td><td>Snacks</td><td>Offline</td><td>H</td></tr><tr><td>North America</td><td>Canada</td><td>Beverages</td><td>Online</td><td>C</td></tr><tr><td>Sub-Saharan Africa</td><td>Burundi</td><td>Cosmetics</td><td>Offline</td><td>H</td></tr><tr><td>Europe</td><td>Liechtenstein</td><td>Cereal</td><td>Online</td><td>L</td></tr><tr><td>Middle East and North Africa</td><td>Tunisia </td><td>Snacks</td><td>Offline</td><td>L</td></tr><tr><td>Middle East and North Africa</td><td>Iraq</td><td>Beverages</td><td>Online</td><td>L</td></tr><tr><td>Asia</td><td>Indonesia</td><td>Cosmetics</td><td>Offline</td><td>C</td></tr><tr><td>Asia</td><td>Kazakhstan</td><td>Beverages</td><td>Online</td><td>H</td></tr><tr><td>Europe</td><td>Denmark</td><td>Beverages</td><td>Offline</td><td>C</td></tr><tr><td>Europe</td><td>Luxembourg</td><td>Vegetables</td><td>Offline</td><td>L</td></tr><tr><td>Sub-Saharan Africa</td><td>Cape Verde</td><td>Snacks</td><td>Offline</td><td>C</td></tr><tr><td>Australia and Oceania</td><td>Palau</td><td>Vegetables</td><td>Offline</td><td>C</td></tr><tr><td>Australia and Oceania</td><td>Australia</td><td>Vegetables</td><td>Online</td><td>M</td></tr><tr><td>Central America and the Caribbean</td><td>Nicaragua</td><td>Meat</td><td>Offline</td><td>L</td></tr><tr><td>Asia</td><td>Laos</td><td>Office Supplies</td><td>Offline</td><td>M</td></tr><tr><td>Central America and the Caribbean</td><td>Cuba</td><td>Personal Care</td><td>Online</td><td>L</td></tr><tr><td>Europe</td><td>Moldova </td><td>Cosmetics</td><td>Offline</td><td>L</td></tr><tr><td>Middle East and North Africa</td><td>Syria</td><td>Household</td><td>Online</td><td>C</td></tr><tr><td>Central America and the Caribbean</td><td>The Bahamas</td><td>Cereal</td><td>Offline</td><td>M</td></tr><tr><td>Europe</td><td>Belarus</td><td>Snacks</td><td>Offline</td><td>M</td></tr><tr><td>Middle East and North Africa</td><td>United Arab Emirates</td><td>Clothes</td><td>Offline</td><td>C</td></tr><tr><td>Sub-Saharan Africa</td><td>Angola</td><td>Beverages</td><td>Offline</td><td>H</td></tr><tr><td>Central America and the Caribbean</td><td>Cuba</td><td>Cosmetics</td><td>Offline</td><td>C</td></tr><tr><td>Europe</td><td>Ukraine</td><td>Office Supplies</td><td>Online</td><td>H</td></tr><tr><td>Sub-Saharan Africa</td><td>Mozambique</td><td>Fruits</td><td>Offline</td><td>H</td></tr><tr><td>Europe</td><td>Armenia</td><td>Personal Care</td><td>Online</td><td>M</td></tr><tr><td>North America</td><td>Greenland</td><td>Clothes</td><td>Online</td><td>H</td></tr><tr><td>Central America and the Caribbean</td><td>Saint Kitts and Nevis </td><td>Office Supplies</td><td>Online</td><td>M</td></tr><tr><td>Europe</td><td>Vatican City</td><td>Beverages</td><td>Offline</td><td>M</td></tr><tr><td>Europe</td><td>Ukraine</td><td>Clothes</td><td>Online</td><td>C</td></tr><tr><td>Sub-Saharan Africa</td><td>Niger</td><td>Cereal</td><td>Offline</td><td>L</td></tr><tr><td>Asia</td><td>Myanmar</td><td>Cosmetics</td><td>Online</td><td>L</td></tr><tr><td>Sub-Saharan Africa</td><td>Guinea</td><td>Baby Food</td><td>Offline</td><td>C</td></tr><tr><td>Sub-Saharan Africa</td><td>Guinea-Bissau</td><td>Snacks</td><td>Online</td><td>L</td></tr><tr><td>Sub-Saharan Africa</td><td>South Sudan</td><td>Office Supplies</td><td>Online</td><td>C</td></tr><tr><td>Middle East and North Africa</td><td>Turkey</td><td>Snacks</td><td>Offline</td><td>H</td></tr><tr><td>Australia and Oceania</td><td>Palau</td><td>Household</td><td>Online</td><td>M</td></tr><tr><td>Europe</td><td>Poland</td><td>Beverages</td><td>Offline</td><td>L</td></tr><tr><td>Asia</td><td>Malaysia</td><td>Beverages</td><td>Offline</td><td>L</td></tr><tr><td>North America</td><td>United States of America</td><td>Personal Care</td><td>Offline</td><td>C</td></tr><tr><td>Europe</td><td>Switzerland</td><td>Cosmetics</td><td>Online</td><td>C</td></tr><tr><td>Australia and Oceania</td><td>Papua New Guinea</td><td>Cosmetics</td><td>Offline</td><td>H</td></tr><tr><td>Sub-Saharan Africa</td><td>Namibia</td><td>Beverages</td><td>Offline</td><td>H</td></tr><tr><td>Europe</td><td>Ireland</td><td>Clothes</td><td>Online</td><td>C</td></tr><tr><td>Sub-Saharan Africa</td><td>Mozambique</td><td>Household</td><td>Online</td><td>C</td></tr><tr><td>Sub-Saharan Africa</td><td>Democratic Republic of the Congo</td><td>Baby Food</td><td>Offline</td><td>L</td></tr><tr><td>North America</td><td>United States of America</td><td>Meat</td><td>Online</td><td>M</td></tr><tr><td>Middle East and North Africa</td><td>Azerbaijan</td><td>Office Supplies</td><td>Offline</td><td>M</td></tr><tr><td>Europe</td><td>Belgium</td><td>Office Supplies</td><td>Offline</td><td>C</td></tr><tr><td>Asia</td><td>Taiwan</td><td>Office Supplies</td><td>Offline</td><td>L</td></tr><tr><td>Central America and the Caribbean</td><td>Panama</td><td>Baby Food</td><td>Online</td><td>M</td></tr><tr><td>Europe</td><td>Andorra</td><td>Beverages</td><td>Offline</td><td>H</td></tr><tr><td>Europe</td><td>Georgia</td><td>Household</td><td>Offline</td><td>H</td></tr><tr><td>Central America and the Caribbean</td><td>Barbados</td><td>Snacks</td><td>Online</td><td>C</td></tr><tr><td>Europe</td><td>Sweden</td><td>Personal Care</td><td>Offline</td><td>C</td></tr><tr><td>Middle East and North Africa</td><td>Algeria</td><td>Meat</td><td>Offline</td><td>M</td></tr><tr><td>Europe</td><td>Italy</td><td>Personal Care</td><td>Online</td><td>L</td></tr><tr><td>Europe</td><td>Russia</td><td>Fruits</td><td>Offline</td><td>L</td></tr><tr><td>Central America and the Caribbean</td><td>Antigua and Barbuda </td><td>Office Supplies</td><td>Offline</td><td>M</td></tr><tr><td>Middle East and North Africa</td><td>Jordan</td><td>Fruits</td><td>Online</td><td>C</td></tr><tr><td>Sub-Saharan Africa</td><td>Mali</td><td>Meat</td><td>Online</td><td>L</td></tr><tr><td>Middle East and North Africa</td><td>Somalia</td><td>Cereal</td><td>Offline</td><td>C</td></tr><tr><td>Middle East and North Africa</td><td>Kuwait</td><td>Snacks</td><td>Online</td><td>L</td></tr><tr><td>Sub-Saharan Africa</td><td>Liberia</td><td>Office Supplies</td><td>Offline</td><td>C</td></tr><tr><td>Asia</td><td>China</td><td>Office Supplies</td><td>Online</td><td>C</td></tr><tr><td>Europe</td><td>Andorra</td><td>Meat</td><td>Offline</td><td>M</td></tr><tr><td>Sub-Saharan Africa</td><td>Niger</td><td>Beverages</td><td>Online</td><td>C</td></tr><tr><td>Europe</td><td>Hungary</td><td>Vegetables</td><td>Offline</td><td>M</td></tr><tr><td>Europe</td><td>Monaco</td><td>Clothes</td><td>Offline</td><td>M</td></tr><tr><td>Australia and Oceania</td><td>Tuvalu</td><td>Household</td><td>Online</td><td>L</td></tr><tr><td>Sub-Saharan Africa</td><td>South Sudan</td><td>Baby Food</td><td>Online</td><td>C</td></tr><tr><td>Europe</td><td>Cyprus</td><td>Cereal</td><td>Offline</td><td>M</td></tr><tr><td>Europe</td><td>Poland</td><td>Household</td><td>Offline</td><td>M</td></tr><tr><td>Sub-Saharan Africa</td><td>Liberia</td><td>Snacks</td><td>Online</td><td>H</td></tr><tr><td>Sub-Saharan Africa</td><td>Cote d'Ivoire</td><td>Vegetables</td><td>Online</td><td>C</td></tr><tr><td>Asia</td><td>Kyrgyzstan</td><td>Beverages</td><td>Online</td><td>C</td></tr><tr><td>Europe</td><td>Slovakia</td><td>Vegetables</td><td>Offline</td><td>L</td></tr><tr><td>Asia</td><td>Malaysia</td><td>Cosmetics</td><td>Offline</td><td>M</td></tr><tr><td>Sub-Saharan Africa</td><td>Liberia</td><td>Beverages</td><td>Online</td><td>L</td></tr><tr><td>Australia and Oceania</td><td>Vanuatu</td><td>Cosmetics</td><td>Online</td><td>H</td></tr><tr><td>Australia and Oceania</td><td>Kiribati</td><td>Baby Food</td><td>Offline</td><td>L</td></tr><tr><td>Middle East and North Africa</td><td>Turkey</td><td>Baby Food</td><td>Online</td><td>M</td></tr><tr><td>Europe</td><td>San Marino</td><td>Fruits</td><td>Offline</td><td>M</td></tr><tr><td>Europe</td><td>Vatican City</td><td>Snacks</td><td>Offline</td><td>C</td></tr><tr><td>Middle East and North Africa</td><td>Morocco</td><td>Beverages</td><td>Offline</td><td>C</td></tr><tr><td>Sub-Saharan Africa</td><td>Equatorial Guinea</td><td>Meat</td><td>Offline</td><td>L</td></tr><tr><td>Middle East and North Africa</td><td>Jordan</td><td>Vegetables</td><td>Online</td><td>M</td></tr><tr><td>Asia</td><td>Kyrgyzstan</td><td>Vegetables</td><td>Online</td><td>H</td></tr><tr><td>Sub-Saharan Africa</td><td>Republic of the Congo</td><td>Fruits</td><td>Online</td><td>L</td></tr><tr><td>Australia and Oceania</td><td>East Timor</td><td>Snacks</td><td>Offline</td><td>C</td></tr><tr><td>Europe</td><td>Estonia</td><td>Meat</td><td>Offline</td><td>H</td></tr><tr><td>Asia</td><td>Bangladesh</td><td>Snacks</td><td>Online</td><td>H</td></tr><tr><td>Sub-Saharan Africa</td><td>Senegal</td><td>Fruits</td><td>Offline</td><td>H</td></tr><tr><td>Middle East and North Africa</td><td>Pakistan</td><td>Fruits</td><td>Offline</td><td>L</td></tr><tr><td>Europe</td><td>Czech Republic</td><td>Beverages</td><td>Online</td><td>H</td></tr><tr><td>Sub-Saharan Africa</td><td>Ghana</td><td>Meat</td><td>Offline</td><td>C</td></tr><tr><td>Asia</td><td>Japan</td><td>Cosmetics</td><td>Offline</td><td>H</td></tr><tr><td>Asia</td><td>Kazakhstan</td><td>Baby Food</td><td>Offline</td><td>H</td></tr><tr><td>Central America and the Caribbean</td><td>The Bahamas</td><td>Snacks</td><td>Offline</td><td>H</td></tr><tr><td>Sub-Saharan Africa</td><td>Ethiopia</td><td>Household</td><td>Online</td><td>M</td></tr><tr><td>Sub-Saharan Africa</td><td>Burkina Faso</td><td>Cosmetics</td><td>Offline</td><td>L</td></tr><tr><td>Sub-Saharan Africa</td><td>Madagascar</td><td>Fruits</td><td>Offline</td><td>M</td></tr><tr><td>Europe</td><td>Netherlands</td><td>Office Supplies</td><td>Online</td><td>M</td></tr><tr><td>Europe</td><td>Greece</td><td>Vegetables</td><td>Online</td><td>L</td></tr><tr><td>Middle East and North Africa</td><td>Egypt</td><td>Meat</td><td>Online</td><td>C</td></tr><tr><td>Sub-Saharan Africa</td><td>South Sudan</td><td>Fruits</td><td>Online</td><td>M</td></tr><tr><td>Europe</td><td>Kosovo</td><td>Baby Food</td><td>Online</td><td>L</td></tr><tr><td>Asia</td><td>Brunei</td><td>Beverages</td><td>Online</td><td>L</td></tr><tr><td>Australia and Oceania</td><td>Australia</td><td>Vegetables</td><td>Online</td><td>C</td></tr><tr><td>Sub-Saharan Africa</td><td>Cape Verde</td><td>Fruits</td><td>Offline</td><td>H</td></tr><tr><td>Sub-Saharan Africa</td><td>Malawi</td><td>Household</td><td>Offline</td><td>H</td></tr><tr><td>Asia</td><td>Philippines</td><td>Personal Care</td><td>Online</td><td>L</td></tr><tr><td>Europe</td><td>Estonia</td><td>Beverages</td><td>Online</td><td>L</td></tr><tr><td>Central America and the Caribbean</td><td>Trinidad and Tobago</td><td>Office Supplies</td><td>Offline</td><td>L</td></tr><tr><td>Asia</td><td>Mongolia</td><td>Household</td><td>Online</td><td>C</td></tr><tr><td>Asia</td><td>Japan</td><td>Personal Care</td><td>Offline</td><td>M</td></tr><tr><td>Sub-Saharan Africa</td><td>Niger</td><td>Meat</td><td>Online</td><td>C</td></tr><tr><td>Middle East and North Africa</td><td>Egypt</td><td>Baby Food</td><td>Offline</td><td>M</td></tr><tr><td>Central America and the Caribbean</td><td>Saint Lucia</td><td>Vegetables</td><td>Online</td><td>C</td></tr><tr><td>Middle East and North Africa</td><td>Qatar</td><td>Cereal</td><td>Offline</td><td>C</td></tr><tr><td>Sub-Saharan Africa</td><td>Mali</td><td>Fruits</td><td>Offline</td><td>H</td></tr><tr><td>Central America and the Caribbean</td><td>Saint Lucia</td><td>Cosmetics</td><td>Online</td><td>L</td></tr><tr><td>Sub-Saharan Africa</td><td>Swaziland</td><td>Clothes</td><td>Offline</td><td>M</td></tr><tr><td>Asia</td><td>Mongolia</td><td>Fruits</td><td>Online</td><td>M</td></tr><tr><td>Sub-Saharan Africa</td><td>Botswana</td><td>Office Supplies</td><td>Online</td><td>C</td></tr><tr><td>Europe</td><td>San Marino</td><td>Cosmetics</td><td>Online</td><td>H</td></tr><tr><td>Middle East and North Africa</td><td>Oman</td><td>Fruits</td><td>Online</td><td>C</td></tr><tr><td>Asia</td><td>Bangladesh</td><td>Office Supplies</td><td>Offline</td><td>C</td></tr><tr><td>Sub-Saharan Africa</td><td>Namibia</td><td>Cosmetics</td><td>Offline</td><td>C</td></tr><tr><td>Asia</td><td>Mongolia</td><td>Fruits</td><td>Online</td><td>M</td></tr><tr><td>Asia</td><td>North Korea</td><td>Beverages</td><td>Online</td><td>C</td></tr><tr><td>Europe</td><td>Latvia</td><td>Clothes</td><td>Online</td><td>M</td></tr><tr><td>Sub-Saharan Africa</td><td>Burundi</td><td>Snacks</td><td>Offline</td><td>M</td></tr><tr><td>Sub-Saharan Africa</td><td>Seychelles </td><td>Personal Care</td><td>Online</td><td>C</td></tr><tr><td>Sub-Saharan Africa</td><td>Kenya</td><td>Cereal</td><td>Online</td><td>H</td></tr><tr><td>Sub-Saharan Africa</td><td>Benin</td><td>Office Supplies</td><td>Online</td><td>C</td></tr><tr><td>Central America and the Caribbean</td><td>Saint Lucia</td><td>Personal Care</td><td>Online</td><td>C</td></tr><tr><td>Middle East and North Africa</td><td>Qatar</td><td>Meat</td><td>Online</td><td>H</td></tr><tr><td>Sub-Saharan Africa</td><td>Mozambique</td><td>Beverages</td><td>Online</td><td>C</td></tr><tr><td>Middle East and North Africa</td><td>Pakistan</td><td>Clothes</td><td>Offline</td><td>M</td></tr><tr><td>Asia</td><td>Taiwan</td><td>Personal Care</td><td>Online</td><td>M</td></tr><tr><td>Central America and the Caribbean</td><td>Cuba</td><td>Cereal</td><td>Offline</td><td>L</td></tr><tr><td>Central America and the Caribbean</td><td>Cuba</td><td>Household</td><td>Offline</td><td>H</td></tr><tr><td>Europe</td><td>Russia</td><td>Beverages</td><td>Offline</td><td>C</td></tr><tr><td>Europe</td><td>Switzerland</td><td>Cereal</td><td>Offline</td><td>C</td></tr><tr><td>Europe</td><td>Czech Republic</td><td>Personal Care</td><td>Offline</td><td>H</td></tr><tr><td>Europe</td><td>Poland</td><td>Meat</td><td>Offline</td><td>C</td></tr><tr><td>Sub-Saharan Africa</td><td>Mauritius </td><td>Cereal</td><td>Offline</td><td>L</td></tr><tr><td>Middle East and North Africa</td><td>Pakistan</td><td>Vegetables</td><td>Offline</td><td>M</td></tr><tr><td>Sub-Saharan Africa</td><td>South Africa</td><td>Fruits</td><td>Offline</td><td>L</td></tr><tr><td>Sub-Saharan Africa</td><td>Seychelles </td><td>Household</td><td>Online</td><td>C</td></tr><tr><td>Sub-Saharan Africa</td><td>Benin</td><td>Meat</td><td>Offline</td><td>M</td></tr><tr><td>Sub-Saharan Africa</td><td>Benin</td><td>Meat</td><td>Offline</td><td>L</td></tr><tr><td>Central America and the Caribbean</td><td>Nicaragua</td><td>Fruits</td><td>Online</td><td>M</td></tr><tr><td>Middle East and North Africa</td><td>Lebanon</td><td>Office Supplies</td><td>Online</td><td>L</td></tr><tr><td>Europe</td><td>Moldova </td><td>Meat</td><td>Online</td><td>M</td></tr><tr><td>Middle East and North Africa</td><td>Tunisia </td><td>Snacks</td><td>Online</td><td>H</td></tr><tr><td>Australia and Oceania</td><td>Vanuatu</td><td>Beverages</td><td>Offline</td><td>M</td></tr><tr><td>Sub-Saharan Africa</td><td>South Sudan</td><td>Beverages</td><td>Online</td><td>C</td></tr><tr><td>Europe</td><td>Sweden</td><td>Cereal</td><td>Online</td><td>L</td></tr><tr><td>Europe</td><td>Ireland</td><td>Meat</td><td>Offline</td><td>C</td></tr><tr><td>Europe</td><td>Italy</td><td>Vegetables</td><td>Offline</td><td>L</td></tr><tr><td>Europe</td><td>Bosnia and Herzegovina</td><td>Vegetables</td><td>Online</td><td>C</td></tr><tr><td>Europe</td><td>Bosnia and Herzegovina</td><td>Household</td><td>Online</td><td>H</td></tr><tr><td>Europe</td><td>Poland</td><td>Snacks</td><td>Offline</td><td>M</td></tr><tr><td>Middle East and North Africa</td><td>Kuwait</td><td>Snacks</td><td>Online</td><td>H</td></tr><tr><td>Sub-Saharan Africa</td><td>Sudan</td><td>Cereal</td><td>Online</td><td>M</td></tr><tr><td>Middle East and North Africa</td><td>Saudi Arabia</td><td>Vegetables</td><td>Online</td><td>C</td></tr><tr><td>Sub-Saharan Africa</td><td>Swaziland</td><td>Baby Food</td><td>Offline</td><td>M</td></tr><tr><td>Sub-Saharan Africa</td><td>Rwanda</td><td>Meat</td><td>Offline</td><td>C</td></tr><tr><td>Asia</td><td>Cambodia</td><td>Cosmetics</td><td>Offline</td><td>M</td></tr><tr><td>Sub-Saharan Africa</td><td>Central African Republic</td><td>Vegetables</td><td>Online</td><td>C</td></tr><tr><td>Asia</td><td>Maldives</td><td>Cosmetics</td><td>Offline</td><td>M</td></tr><tr><td>Sub-Saharan Africa</td><td>Djibouti</td><td>Household</td><td>Offline</td><td>C</td></tr><tr><td>Asia</td><td>Tajikistan</td><td>Beverages</td><td>Online</td><td>M</td></tr><tr><td>Asia</td><td>Sri Lanka</td><td>Baby Food</td><td>Online</td><td>H</td></tr><tr><td>Europe</td><td>Montenegro</td><td>Personal Care</td><td>Online</td><td>M</td></tr><tr><td>Middle East and North Africa</td><td>United Arab Emirates</td><td>Personal Care</td><td>Online</td><td>H</td></tr><tr><td>Central America and the Caribbean</td><td>Dominican Republic</td><td>Personal Care</td><td>Offline</td><td>C</td></tr><tr><td>Sub-Saharan Africa</td><td>Seychelles </td><td>Office Supplies</td><td>Offline</td><td>C</td></tr><tr><td>Europe</td><td>Iceland</td><td>Office Supplies</td><td>Online</td><td>C</td></tr><tr><td>Sub-Saharan Africa</td><td>Nigeria</td><td>Vegetables</td><td>Offline</td><td>C</td></tr><tr><td>Sub-Saharan Africa</td><td>Rwanda</td><td>Fruits</td><td>Online</td><td>H</td></tr><tr><td>Europe</td><td>Hungary</td><td>Snacks</td><td>Offline</td><td>C</td></tr><tr><td>Europe</td><td>Belarus</td><td>Baby Food</td><td>Online</td><td>L</td></tr><tr><td>Sub-Saharan Africa</td><td>South Sudan</td><td>Cosmetics</td><td>Offline</td><td>H</td></tr><tr><td>Europe</td><td>Andorra</td><td>Vegetables</td><td>Online</td><td>M</td></tr><tr><td>Asia</td><td>Japan</td><td>Meat</td><td>Offline</td><td>M</td></tr><tr><td>Central America and the Caribbean</td><td>El Salvador</td><td>Meat</td><td>Offline</td><td>L</td></tr><tr><td>Sub-Saharan Africa</td><td>Kenya</td><td>Office Supplies</td><td>Offline</td><td>L</td></tr><tr><td>Europe</td><td>Bosnia and Herzegovina</td><td>Snacks</td><td>Online</td><td>M</td></tr><tr><td>Europe</td><td>Andorra</td><td>Personal Care</td><td>Online</td><td>M</td></tr><tr><td>Sub-Saharan Africa</td><td>Cape Verde</td><td>Cosmetics</td><td>Online</td><td>H</td></tr><tr><td>Australia and Oceania</td><td>Nauru</td><td>Fruits</td><td>Online</td><td>L</td></tr><tr><td>Europe</td><td>Czech Republic</td><td>Cereal</td><td>Offline</td><td>H</td></tr><tr><td>Europe</td><td>Serbia</td><td>Vegetables</td><td>Online</td><td>L</td></tr><tr><td>Australia and Oceania</td><td>Tuvalu</td><td>Cereal</td><td>Offline</td><td>C</td></tr><tr><td>Sub-Saharan Africa</td><td>Madagascar</td><td>Clothes</td><td>Offline</td><td>H</td></tr><tr><td>Sub-Saharan Africa</td><td>Ethiopia</td><td>Vegetables</td><td>Online</td><td>C</td></tr><tr><td>Asia</td><td>Malaysia</td><td>Baby Food</td><td>Offline</td><td>L</td></tr><tr><td>Sub-Saharan Africa</td><td>Tanzania</td><td>Household</td><td>Offline</td><td>C</td></tr><tr><td>Sub-Saharan Africa</td><td>Cote d'Ivoire</td><td>Vegetables</td><td>Offline</td><td>M</td></tr><tr><td>Australia and Oceania</td><td>Solomon Islands</td><td>Clothes</td><td>Offline</td><td>M</td></tr><tr><td>Europe</td><td>Netherlands</td><td>Clothes</td><td>Online</td><td>H</td></tr><tr><td>Sub-Saharan Africa</td><td>Mali</td><td>Baby Food</td><td>Offline</td><td>M</td></tr><tr><td>Middle East and North Africa</td><td>Afghanistan</td><td>Cereal</td><td>Offline</td><td>C</td></tr><tr><td>Europe</td><td>Moldova </td><td>Personal Care</td><td>Online</td><td>C</td></tr><tr><td>Asia</td><td>Bhutan</td><td>Snacks</td><td>Online</td><td>H</td></tr><tr><td>Asia</td><td>Vietnam</td><td>Vegetables</td><td>Offline</td><td>M</td></tr><tr><td>Europe</td><td>Portugal</td><td>Vegetables</td><td>Online</td><td>H</td></tr><tr><td>Europe</td><td>Spain</td><td>Baby Food</td><td>Online</td><td>M</td></tr><tr><td>Middle East and North Africa</td><td>Egypt</td><td>Meat</td><td>Offline</td><td>C</td></tr><tr><td>Europe</td><td>Belgium</td><td>Snacks</td><td>Online</td><td>C</td></tr><tr><td>Asia</td><td>Malaysia</td><td>Cosmetics</td><td>Offline</td><td>H</td></tr><tr><td>Central America and the Caribbean</td><td>Dominican Republic</td><td>Cosmetics</td><td>Offline</td><td>C</td></tr><tr><td>Europe</td><td>Estonia</td><td>Beverages</td><td>Offline</td><td>H</td></tr><tr><td>Sub-Saharan Africa</td><td>Burundi</td><td>Snacks</td><td>Offline</td><td>C</td></tr><tr><td>Europe</td><td>Latvia</td><td>Beverages</td><td>Online</td><td>M</td></tr><tr><td>Asia</td><td>Tajikistan</td><td>Meat</td><td>Offline</td><td>M</td></tr><tr><td>Sub-Saharan Africa</td><td>Zimbabwe</td><td>Fruits</td><td>Offline</td><td>H</td></tr><tr><td>Sub-Saharan Africa</td><td>Comoros</td><td>Meat</td><td>Offline</td><td>L</td></tr><tr><td>Sub-Saharan Africa</td><td>Namibia</td><td>Clothes</td><td>Online</td><td>L</td></tr><tr><td>Europe</td><td>Slovenia</td><td>Cereal</td><td>Offline</td><td>H</td></tr><tr><td>Europe</td><td>Bulgaria</td><td>Snacks</td><td>Offline</td><td>L</td></tr><tr><td>Sub-Saharan Africa</td><td>Guinea-Bissau</td><td>Cereal</td><td>Online</td><td>L</td></tr><tr><td>Sub-Saharan Africa</td><td>Lesotho</td><td>Beverages</td><td>Offline</td><td>L</td></tr><tr><td>Asia</td><td>Sri Lanka</td><td>Cosmetics</td><td>Offline</td><td>L</td></tr><tr><td>Australia and Oceania</td><td>East Timor</td><td>Snacks</td><td>Online</td><td>H</td></tr><tr><td>Europe</td><td>Belarus</td><td>Household</td><td>Online</td><td>M</td></tr><tr><td>Sub-Saharan Africa</td><td>Benin</td><td>Meat</td><td>Offline</td><td>H</td></tr><tr><td>Europe</td><td>Ireland</td><td>Beverages</td><td>Offline</td><td>L</td></tr><tr><td>Middle East and North Africa</td><td>Iran</td><td>Meat</td><td>Offline</td><td>H</td></tr><tr><td>Sub-Saharan Africa</td><td>Benin</td><td>Household</td><td>Offline</td><td>C</td></tr><tr><td>Sub-Saharan Africa</td><td>South Sudan</td><td>Beverages</td><td>Online</td><td>L</td></tr><tr><td>Sub-Saharan Africa</td><td>Comoros</td><td>Personal Care</td><td>Online</td><td>L</td></tr><tr><td>Europe</td><td>Poland</td><td>Baby Food</td><td>Online</td><td>H</td></tr><tr><td>Europe</td><td>Bosnia and Herzegovina</td><td>Cosmetics</td><td>Offline</td><td>C</td></tr><tr><td>Sub-Saharan Africa</td><td>Namibia</td><td>Vegetables</td><td>Offline</td><td>C</td></tr><tr><td>Europe</td><td>Spain</td><td>Office Supplies</td><td>Offline</td><td>C</td></tr><tr><td>Middle East and North Africa</td><td>Iran</td><td>Meat</td><td>Online</td><td>C</td></tr><tr><td>Central America and the Caribbean</td><td>Guatemala</td><td>Office Supplies</td><td>Offline</td><td>C</td></tr><tr><td>Australia and Oceania</td><td>East Timor</td><td>Beverages</td><td>Online</td><td>C</td></tr><tr><td>Middle East and North Africa</td><td>Bahrain</td><td>Household</td><td>Online</td><td>H</td></tr><tr><td>Sub-Saharan Africa</td><td>Ethiopia</td><td>Office Supplies</td><td>Online</td><td>L</td></tr><tr><td>Australia and Oceania</td><td>Solomon Islands</td><td>Personal Care</td><td>Offline</td><td>M</td></tr><tr><td>Central America and the Caribbean</td><td>Belize</td><td>Snacks</td><td>Online</td><td>C</td></tr><tr><td>Asia</td><td>Sri Lanka</td><td>Office Supplies</td><td>Online</td><td>C</td></tr><tr><td>Central America and the Caribbean</td><td>Costa Rica</td><td>Clothes</td><td>Offline</td><td>H</td></tr><tr><td>Sub-Saharan Africa</td><td>Nigeria</td><td>Baby Food</td><td>Online</td><td>L</td></tr><tr><td>Middle East and North Africa</td><td>Iran</td><td>Office Supplies</td><td>Online</td><td>L</td></tr><tr><td>Sub-Saharan Africa</td><td>Djibouti</td><td>Baby Food</td><td>Online</td><td>C</td></tr><tr><td>Asia</td><td>South Korea</td><td>Snacks</td><td>Online</td><td>L</td></tr><tr><td>Central America and the Caribbean</td><td>Dominica</td><td>Snacks</td><td>Offline</td><td>L</td></tr><tr><td>Asia</td><td>Vietnam</td><td>Snacks</td><td>Online</td><td>L</td></tr><tr><td>Europe</td><td>Norway</td><td>Personal Care</td><td>Offline</td><td>H</td></tr><tr><td>Central America and the Caribbean</td><td>Haiti</td><td>Beverages</td><td>Online</td><td>C</td></tr><tr><td>Central America and the Caribbean</td><td>Jamaica</td><td>Fruits</td><td>Offline</td><td>L</td></tr><tr><td>Sub-Saharan Africa</td><td>Sudan</td><td>Vegetables</td><td>Offline</td><td>M</td></tr><tr><td>Sub-Saharan Africa</td><td>Angola</td><td>Meat</td><td>Offline</td><td>L</td></tr><tr><td>Central America and the Caribbean</td><td>Panama</td><td>Cosmetics</td><td>Offline</td><td>M</td></tr><tr><td>Europe</td><td>Greece</td><td>Personal Care</td><td>Online</td><td>M</td></tr><tr><td>Sub-Saharan Africa</td><td>Madagascar</td><td>Cereal</td><td>Offline</td><td>H</td></tr><tr><td>Sub-Saharan Africa</td><td>Guinea-Bissau</td><td>Clothes</td><td>Online</td><td>L</td></tr><tr><td>North America</td><td>Greenland</td><td>Clothes</td><td>Online</td><td>L</td></tr><tr><td>Middle East and North Africa</td><td>Libya</td><td>Beverages</td><td>Offline</td><td>H</td></tr><tr><td>Europe</td><td>Belarus</td><td>Vegetables</td><td>Offline</td><td>C</td></tr><tr><td>Middle East and North Africa</td><td>Lebanon</td><td>Clothes</td><td>Offline</td><td>H</td></tr><tr><td>Sub-Saharan Africa</td><td>Djibouti</td><td>Baby Food</td><td>Offline</td><td>H</td></tr><tr><td>Central America and the Caribbean</td><td>Barbados</td><td>Personal Care</td><td>Online</td><td>C</td></tr><tr><td>Sub-Saharan Africa</td><td>Guinea-Bissau</td><td>Vegetables</td><td>Online</td><td>L</td></tr><tr><td>Europe</td><td>Finland</td><td>Personal Care</td><td>Offline</td><td>C</td></tr><tr><td>Central America and the Caribbean</td><td>Haiti</td><td>Baby Food</td><td>Offline</td><td>L</td></tr><tr><td>Sub-Saharan Africa</td><td>Niger</td><td>Clothes</td><td>Offline</td><td>M</td></tr><tr><td>Central America and the Caribbean</td><td>Trinidad and Tobago</td><td>Fruits</td><td>Offline</td><td>L</td></tr><tr><td>Central America and the Caribbean</td><td>Grenada</td><td>Personal Care</td><td>Online</td><td>M</td></tr><tr><td>Central America and the Caribbean</td><td>Dominican Republic</td><td>Cereal</td><td>Offline</td><td>H</td></tr><tr><td>Europe</td><td>Monaco</td><td>Household</td><td>Offline</td><td>C</td></tr><tr><td>Europe</td><td>Estonia</td><td>Vegetables</td><td>Online</td><td>L</td></tr><tr><td>Europe</td><td>Italy</td><td>Beverages</td><td>Offline</td><td>H</td></tr><tr><td>Asia</td><td>Malaysia</td><td>Office Supplies</td><td>Online</td><td>C</td></tr><tr><td>Sub-Saharan Africa</td><td>Ghana</td><td>Office Supplies</td><td>Offline</td><td>L</td></tr><tr><td>Middle East and North Africa</td><td>Pakistan</td><td>Clothes</td><td>Offline</td><td>C</td></tr><tr><td>Asia</td><td>Sri Lanka</td><td>Snacks</td><td>Offline</td><td>L</td></tr><tr><td>Europe</td><td>Romania</td><td>Fruits</td><td>Offline</td><td>C</td></tr><tr><td>Middle East and North Africa</td><td>Qatar</td><td>Office Supplies</td><td>Online</td><td>H</td></tr><tr><td>Sub-Saharan Africa</td><td>Cote d'Ivoire</td><td>Clothes</td><td>Online</td><td>H</td></tr><tr><td>Middle East and North Africa</td><td>Egypt</td><td>Office Supplies</td><td>Online</td><td>M</td></tr><tr><td>Middle East and North Africa</td><td>Iran</td><td>Snacks</td><td>Offline</td><td>H</td></tr><tr><td>Middle East and North Africa</td><td>Somalia</td><td>Clothes</td><td>Online</td><td>C</td></tr><tr><td>Middle East and North Africa</td><td>Syria</td><td>Personal Care</td><td>Offline</td><td>C</td></tr><tr><td>Australia and Oceania</td><td>Solomon Islands</td><td>Cereal</td><td>Offline</td><td>C</td></tr><tr><td>Central America and the Caribbean</td><td>Guatemala</td><td>Fruits</td><td>Online</td><td>M</td></tr><tr><td>Middle East and North Africa</td><td>Kuwait</td><td>Clothes</td><td>Offline</td><td>C</td></tr><tr><td>Middle East and North Africa</td><td>Jordan</td><td>Meat</td><td>Online</td><td>L</td></tr><tr><td>Australia and Oceania</td><td>Marshall Islands</td><td>Beverages</td><td>Offline</td><td>H</td></tr><tr><td>Middle East and North Africa</td><td>Egypt</td><td>Snacks</td><td>Offline</td><td>C</td></tr><tr><td>Europe</td><td>Switzerland</td><td>Meat</td><td>Online</td><td>C</td></tr><tr><td>Australia and Oceania</td><td>Samoa </td><td>Personal Care</td><td>Online</td><td>C</td></tr><tr><td>Europe</td><td>Portugal</td><td>Cosmetics</td><td>Offline</td><td>C</td></tr><tr><td>Europe</td><td>Albania</td><td>Clothes</td><td>Offline</td><td>C</td></tr><tr><td>Central America and the Caribbean</td><td>Dominica</td><td>Vegetables</td><td>Offline</td><td>C</td></tr><tr><td>Australia and Oceania</td><td>Tuvalu</td><td>Cosmetics</td><td>Online</td><td>H</td></tr><tr><td>Australia and Oceania</td><td>Marshall Islands</td><td>Cereal</td><td>Online</td><td>L</td></tr><tr><td>Europe</td><td>Bulgaria</td><td>Fruits</td><td>Online</td><td>H</td></tr><tr><td>Sub-Saharan Africa</td><td>Niger</td><td>Office Supplies</td><td>Offline</td><td>M</td></tr><tr><td>Central America and the Caribbean</td><td>Saint Vincent and the Grenadines</td><td>Office Supplies</td><td>Offline</td><td>H</td></tr><tr><td>Sub-Saharan Africa</td><td>Malawi</td><td>Beverages</td><td>Offline</td><td>L</td></tr><tr><td>Sub-Saharan Africa</td><td>Cape Verde</td><td>Personal Care</td><td>Offline</td><td>L</td></tr><tr><td>Central America and the Caribbean</td><td>Saint Vincent and the Grenadines</td><td>Beverages</td><td>Offline</td><td>C</td></tr><tr><td>Europe</td><td>Greece</td><td>Personal Care</td><td>Offline</td><td>H</td></tr><tr><td>Europe</td><td>Monaco</td><td>Clothes</td><td>Online</td><td>L</td></tr><tr><td>Sub-Saharan Africa</td><td>Nigeria</td><td>Beverages</td><td>Online</td><td>L</td></tr><tr><td>Europe</td><td>Norway</td><td>Cosmetics</td><td>Offline</td><td>C</td></tr><tr><td>North America</td><td>Greenland</td><td>Snacks</td><td>Offline</td><td>L</td></tr><tr><td>Middle East and North Africa</td><td>Tunisia </td><td>Beverages</td><td>Online</td><td>L</td></tr><tr><td>Asia</td><td>Uzbekistan</td><td>Meat</td><td>Offline</td><td>H</td></tr><tr><td>Central America and the Caribbean</td><td>Saint Kitts and Nevis </td><td>Vegetables</td><td>Online</td><td>H</td></tr><tr><td>Central America and the Caribbean</td><td>Belize</td><td>Meat</td><td>Online</td><td>L</td></tr><tr><td>Sub-Saharan Africa</td><td>Angola</td><td>Personal Care</td><td>Online</td><td>H</td></tr><tr><td>Asia</td><td>Bhutan</td><td>Meat</td><td>Online</td><td>C</td></tr><tr><td>Central America and the Caribbean</td><td>Honduras</td><td>Personal Care</td><td>Offline</td><td>L</td></tr><tr><td>Sub-Saharan Africa</td><td>South Sudan</td><td>Household</td><td>Offline</td><td>H</td></tr><tr><td>Asia</td><td>Kyrgyzstan</td><td>Baby Food</td><td>Online</td><td>L</td></tr><tr><td>Sub-Saharan Africa</td><td>Sao Tome and Principe</td><td>Cosmetics</td><td>Offline</td><td>M</td></tr><tr><td>Sub-Saharan Africa</td><td>Madagascar</td><td>Fruits</td><td>Online</td><td>M</td></tr><tr><td>Sub-Saharan Africa</td><td>Senegal</td><td>Household</td><td>Online</td><td>H</td></tr><tr><td>Sub-Saharan Africa</td><td>Sierra Leone</td><td>Office Supplies</td><td>Online</td><td>C</td></tr><tr><td>Asia</td><td>Malaysia</td><td>Household</td><td>Offline</td><td>H</td></tr><tr><td>Central America and the Caribbean</td><td>Cuba</td><td>Office Supplies</td><td>Online</td><td>C</td></tr><tr><td>Sub-Saharan Africa</td><td>Zimbabwe</td><td>Personal Care</td><td>Offline</td><td>L</td></tr><tr><td>Europe</td><td>Serbia</td><td>Beverages</td><td>Online</td><td>H</td></tr><tr><td>Asia</td><td>Maldives</td><td>Vegetables</td><td>Offline</td><td>M</td></tr><tr><td>Europe</td><td>Ireland</td><td>Office Supplies</td><td>Offline</td><td>M</td></tr><tr><td>Europe</td><td>Romania</td><td>Clothes</td><td>Offline</td><td>L</td></tr><tr><td>Europe</td><td>Croatia</td><td>Beverages</td><td>Online</td><td>M</td></tr><tr><td>Europe</td><td>Albania</td><td>Vegetables</td><td>Offline</td><td>M</td></tr><tr><td>Central America and the Caribbean</td><td>Dominican Republic</td><td>Vegetables</td><td>Offline</td><td>L</td></tr><tr><td>Sub-Saharan Africa</td><td>Zimbabwe</td><td>Vegetables</td><td>Online</td><td>M</td></tr><tr><td>Sub-Saharan Africa</td><td>Ghana</td><td>Office Supplies</td><td>Offline</td><td>L</td></tr><tr><td>Asia</td><td>Laos</td><td>Beverages</td><td>Online</td><td>H</td></tr><tr><td>Central America and the Caribbean</td><td>Panama</td><td>Personal Care</td><td>Offline</td><td>M</td></tr><tr><td>Sub-Saharan Africa</td><td>Angola</td><td>Household</td><td>Online</td><td>L</td></tr><tr><td>Middle East and North Africa</td><td>Syria</td><td>Snacks</td><td>Offline</td><td>L</td></tr><tr><td>Sub-Saharan Africa</td><td>Sierra Leone</td><td>Cosmetics</td><td>Offline</td><td>H</td></tr><tr><td>Sub-Saharan Africa</td><td>Uganda</td><td>Fruits</td><td>Online</td><td>L</td></tr><tr><td>Asia</td><td>Taiwan</td><td>Clothes</td><td>Offline</td><td>M</td></tr><tr><td>Middle East and North Africa</td><td>Azerbaijan</td><td>Vegetables</td><td>Online</td><td>C</td></tr><tr><td>Asia</td><td>Maldives</td><td>Office Supplies</td><td>Online</td><td>H</td></tr><tr><td>Sub-Saharan Africa</td><td>Mauritania</td><td>Meat</td><td>Offline</td><td>H</td></tr><tr><td>Sub-Saharan Africa</td><td>Burundi</td><td>Baby Food</td><td>Online</td><td>H</td></tr><tr><td>Sub-Saharan Africa</td><td>Zambia</td><td>Baby Food</td><td>Offline</td><td>H</td></tr><tr><td>Asia</td><td>Singapore</td><td>Beverages</td><td>Offline</td><td>L</td></tr><tr><td>Sub-Saharan Africa</td><td>Ghana</td><td>Household</td><td>Online</td><td>L</td></tr><tr><td>Sub-Saharan Africa</td><td>Guinea</td><td>Meat</td><td>Offline</td><td>M</td></tr><tr><td>Sub-Saharan Africa</td><td>Zambia</td><td>Fruits</td><td>Online</td><td>L</td></tr><tr><td>Europe</td><td>Georgia</td><td>Snacks</td><td>Online</td><td>C</td></tr><tr><td>Middle East and North Africa</td><td>Bahrain</td><td>Baby Food</td><td>Online</td><td>M</td></tr><tr><td>Sub-Saharan Africa</td><td>Lesotho</td><td>Personal Care</td><td>Offline</td><td>M</td></tr><tr><td>Central America and the Caribbean</td><td>Barbados</td><td>Cosmetics</td><td>Offline</td><td>H</td></tr><tr><td>Middle East and North Africa</td><td>Saudi Arabia</td><td>Vegetables</td><td>Online</td><td>H</td></tr><tr><td>Europe</td><td>Macedonia</td><td>Personal Care</td><td>Offline</td><td>H</td></tr><tr><td>Asia</td><td>Turkmenistan</td><td>Office Supplies</td><td>Offline</td><td>M</td></tr><tr><td>Europe</td><td>Albania</td><td>Baby Food</td><td>Online</td><td>L</td></tr><tr><td>Middle East and North Africa</td><td>Afghanistan</td><td>Clothes</td><td>Online</td><td>C</td></tr><tr><td>Australia and Oceania</td><td>Kiribati</td><td>Clothes</td><td>Offline</td><td>M</td></tr><tr><td>Middle East and North Africa</td><td>Morocco</td><td>Cosmetics</td><td>Online</td><td>C</td></tr><tr><td>Europe</td><td>Norway</td><td>Baby Food</td><td>Offline</td><td>L</td></tr><tr><td>Europe</td><td>Sweden</td><td>Cosmetics</td><td>Online</td><td>L</td></tr><tr><td>Asia</td><td>Tajikistan</td><td>Personal Care</td><td>Online</td><td>M</td></tr><tr><td>Europe</td><td>Netherlands</td><td>Cosmetics</td><td>Online</td><td>M</td></tr><tr><td>Europe</td><td>Spain</td><td>Vegetables</td><td>Online</td><td>L</td></tr><tr><td>Sub-Saharan Africa</td><td>Chad</td><td>Baby Food</td><td>Offline</td><td>H</td></tr><tr><td>Europe</td><td>Ireland</td><td>Meat</td><td>Online</td><td>C</td></tr><tr><td>Middle East and North Africa</td><td>Pakistan</td><td>Meat</td><td>Online</td><td>C</td></tr><tr><td>Sub-Saharan Africa</td><td>Mozambique</td><td>Fruits</td><td>Online</td><td>C</td></tr><tr><td>Middle East and North Africa</td><td>Bahrain</td><td>Fruits</td><td>Online</td><td>L</td></tr><tr><td>Asia</td><td>Tajikistan</td><td>Meat</td><td>Online</td><td>M</td></tr><tr><td>Australia and Oceania</td><td>New Zealand</td><td>Meat</td><td>Offline</td><td>H</td></tr><tr><td>Sub-Saharan Africa</td><td>Niger</td><td>Baby Food</td><td>Online</td><td>L</td></tr><tr><td>Europe</td><td>Armenia</td><td>Fruits</td><td>Online</td><td>C</td></tr><tr><td>Sub-Saharan Africa</td><td>Gabon</td><td>Baby Food</td><td>Online</td><td>L</td></tr><tr><td>Asia</td><td>Kyrgyzstan</td><td>Vegetables</td><td>Offline</td><td>H</td></tr><tr><td>Australia and Oceania</td><td>Fiji</td><td>Clothes</td><td>Offline</td><td>L</td></tr><tr><td>Europe</td><td>Romania</td><td>Cosmetics</td><td>Online</td><td>H</td></tr><tr><td>Sub-Saharan Africa</td><td>Botswana</td><td>Cereal</td><td>Online</td><td>C</td></tr><tr><td>Australia and Oceania</td><td>Fiji</td><td>Cosmetics</td><td>Online</td><td>M</td></tr><tr><td>Europe</td><td>Vatican City</td><td>Clothes</td><td>Offline</td><td>C</td></tr><tr><td>Asia</td><td>Thailand</td><td>Vegetables</td><td>Online</td><td>L</td></tr><tr><td>Europe</td><td>Belarus</td><td>Cereal</td><td>Offline</td><td>C</td></tr><tr><td>Australia and Oceania</td><td>Solomon Islands</td><td>Vegetables</td><td>Offline</td><td>L</td></tr><tr><td>Asia</td><td>China</td><td>Cosmetics</td><td>Offline</td><td>M</td></tr><tr><td>Sub-Saharan Africa</td><td>Angola</td><td>Snacks</td><td>Online</td><td>C</td></tr><tr><td>Asia</td><td>Cambodia</td><td>Cereal</td><td>Online</td><td>L</td></tr><tr><td>Central America and the Caribbean</td><td>Guatemala</td><td>Baby Food</td><td>Offline</td><td>L</td></tr><tr><td>Sub-Saharan Africa</td><td>Namibia</td><td>Vegetables</td><td>Online</td><td>L</td></tr><tr><td>Europe</td><td>Serbia</td><td>Beverages</td><td>Offline</td><td>H</td></tr><tr><td>Middle East and North Africa</td><td>Turkey</td><td>Vegetables</td><td>Offline</td><td>M</td></tr><tr><td>Middle East and North Africa</td><td>Pakistan</td><td>Vegetables</td><td>Offline</td><td>C</td></tr><tr><td>Europe</td><td>Georgia</td><td>Vegetables</td><td>Offline</td><td>H</td></tr><tr><td>Australia and Oceania</td><td>Vanuatu</td><td>Snacks</td><td>Offline</td><td>L</td></tr><tr><td>Europe</td><td>Luxembourg</td><td>Cosmetics</td><td>Online</td><td>H</td></tr><tr><td>Middle East and North Africa</td><td>Saudi Arabia</td><td>Household</td><td>Online</td><td>M</td></tr><tr><td>Australia and Oceania</td><td>Vanuatu</td><td>Meat</td><td>Offline</td><td>H</td></tr><tr><td>Central America and the Caribbean</td><td>Haiti</td><td>Snacks</td><td>Offline</td><td>H</td></tr><tr><td>Sub-Saharan Africa</td><td>Tanzania</td><td>Household</td><td>Offline</td><td>C</td></tr><tr><td>Asia</td><td>North Korea</td><td>Cosmetics</td><td>Offline</td><td>C</td></tr><tr><td>Middle East and North Africa</td><td>Bahrain</td><td>Beverages</td><td>Online</td><td>L</td></tr><tr><td>Sub-Saharan Africa</td><td>Cote d'Ivoire</td><td>Cereal</td><td>Online</td><td>L</td></tr><tr><td>Asia</td><td>Singapore</td><td>Cosmetics</td><td>Offline</td><td>L</td></tr><tr><td>Asia</td><td>Malaysia</td><td>Baby Food</td><td>Offline</td><td>M</td></tr><tr><td>Europe</td><td>Albania</td><td>Baby Food</td><td>Online</td><td>L</td></tr><tr><td>Sub-Saharan Africa</td><td>Gabon</td><td>Snacks</td><td>Online</td><td>L</td></tr><tr><td>Europe</td><td>Poland</td><td>Snacks</td><td>Offline</td><td>L</td></tr><tr><td>Sub-Saharan Africa</td><td>Chad</td><td>Office Supplies</td><td>Online</td><td>H</td></tr><tr><td>Sub-Saharan Africa</td><td>Republic of the Congo</td><td>Clothes</td><td>Online</td><td>H</td></tr><tr><td>Asia</td><td>Philippines</td><td>Fruits</td><td>Offline</td><td>L</td></tr><tr><td>Europe</td><td>France</td><td>Snacks</td><td>Offline</td><td>M</td></tr><tr><td>Europe</td><td>Germany</td><td>Household</td><td>Offline</td><td>H</td></tr><tr><td>Sub-Saharan Africa</td><td>Uganda</td><td>Personal Care</td><td>Online</td><td>M</td></tr><tr><td>Middle East and North Africa</td><td>Bahrain</td><td>Personal Care</td><td>Online</td><td>C</td></tr><tr><td>Middle East and North Africa</td><td>Jordan</td><td>Office Supplies</td><td>Offline</td><td>M</td></tr><tr><td>Europe</td><td>Montenegro</td><td>Beverages</td><td>Offline</td><td>L</td></tr><tr><td>Middle East and North Africa</td><td>Tunisia </td><td>Personal Care</td><td>Offline</td><td>H</td></tr><tr><td>Europe</td><td>Germany</td><td>Cereal</td><td>Offline</td><td>M</td></tr><tr><td>Europe</td><td>Italy</td><td>Snacks</td><td>Online</td><td>L</td></tr><tr><td>Europe</td><td>France</td><td>Office Supplies</td><td>Offline</td><td>H</td></tr><tr><td>Middle East and North Africa</td><td>Algeria</td><td>Baby Food</td><td>Online</td><td>L</td></tr><tr><td>Asia</td><td>Myanmar</td><td>Beverages</td><td>Online</td><td>H</td></tr><tr><td>Europe</td><td>France</td><td>Vegetables</td><td>Offline</td><td>C</td></tr><tr><td>Europe</td><td>Spain</td><td>Vegetables</td><td>Online</td><td>C</td></tr><tr><td>Asia</td><td>Cambodia</td><td>Baby Food</td><td>Offline</td><td>C</td></tr><tr><td>Sub-Saharan Africa</td><td>The Gambia</td><td>Vegetables</td><td>Online</td><td>M</td></tr><tr><td>Europe</td><td>Russia</td><td>Baby Food</td><td>Offline</td><td>L</td></tr><tr><td>Europe</td><td>Belarus</td><td>Baby Food</td><td>Offline</td><td>H</td></tr><tr><td>Middle East and North Africa</td><td>Turkey</td><td>Beverages</td><td>Online</td><td>C</td></tr><tr><td>Sub-Saharan Africa</td><td>Kenya</td><td>Meat</td><td>Offline</td><td>C</td></tr><tr><td>Middle East and North Africa</td><td>Iran</td><td>Cosmetics</td><td>Offline</td><td>M</td></tr><tr><td>Asia</td><td>Vietnam</td><td>Personal Care</td><td>Offline</td><td>L</td></tr><tr><td>Europe</td><td>Albania</td><td>Beverages</td><td>Online</td><td>L</td></tr><tr><td>Central America and the Caribbean</td><td>Antigua and Barbuda </td><td>Clothes</td><td>Offline</td><td>C</td></tr><tr><td>Sub-Saharan Africa</td><td>Senegal</td><td>Cereal</td><td>Offline</td><td>M</td></tr><tr><td>Europe</td><td>Netherlands</td><td>Fruits</td><td>Online</td><td>L</td></tr><tr><td>Europe</td><td>Russia</td><td>Fruits</td><td>Online</td><td>C</td></tr><tr><td>Europe</td><td>Slovakia</td><td>Cosmetics</td><td>Online</td><td>H</td></tr><tr><td>Australia and Oceania</td><td>East Timor</td><td>Beverages</td><td>Offline</td><td>L</td></tr><tr><td>Central America and the Caribbean</td><td>Haiti</td><td>Vegetables</td><td>Offline</td><td>H</td></tr><tr><td>Middle East and North Africa</td><td>Yemen</td><td>Cereal</td><td>Online</td><td>H</td></tr><tr><td>Australia and Oceania</td><td>Tuvalu</td><td>Cereal</td><td>Online</td><td>C</td></tr><tr><td>Sub-Saharan Africa</td><td>Liberia</td><td>Snacks</td><td>Offline</td><td>M</td></tr><tr><td>Asia</td><td>North Korea</td><td>Beverages</td><td>Online</td><td>C</td></tr><tr><td>Asia</td><td>North Korea</td><td>Household</td><td>Online</td><td>M</td></tr><tr><td>Europe</td><td>Romania</td><td>Household</td><td>Online</td><td>H</td></tr><tr><td>Sub-Saharan Africa</td><td>Sao Tome and Principe</td><td>Cereal</td><td>Offline</td><td>M</td></tr><tr><td>Middle East and North Africa</td><td>Bahrain</td><td>Fruits</td><td>Online</td><td>M</td></tr><tr><td>Middle East and North Africa</td><td>Somalia</td><td>Cosmetics</td><td>Offline</td><td>M</td></tr><tr><td>Europe</td><td>Cyprus</td><td>Cereal</td><td>Online</td><td>C</td></tr><tr><td>Europe</td><td>United Kingdom</td><td>Beverages</td><td>Offline</td><td>C</td></tr><tr><td>Europe</td><td>Germany</td><td>Personal Care</td><td>Offline</td><td>H</td></tr><tr><td>Middle East and North Africa</td><td>Somalia</td><td>Beverages</td><td>Online</td><td>M</td></tr><tr><td>Australia and Oceania</td><td>New Zealand</td><td>Household</td><td>Offline</td><td>H</td></tr><tr><td>Middle East and North Africa</td><td>Kuwait</td><td>Meat</td><td>Online</td><td>C</td></tr><tr><td>Asia</td><td>Japan</td><td>Cosmetics</td><td>Online</td><td>L</td></tr><tr><td>Europe</td><td>Norway</td><td>Baby Food</td><td>Offline</td><td>H</td></tr><tr><td>Sub-Saharan Africa</td><td>Lesotho</td><td>Personal Care</td><td>Offline</td><td>C</td></tr><tr><td>Europe</td><td>Belgium</td><td>Cosmetics</td><td>Online</td><td>H</td></tr><tr><td>Central America and the Caribbean</td><td>Honduras</td><td>Cosmetics</td><td>Offline</td><td>L</td></tr><tr><td>Europe</td><td>Austria</td><td>Household</td><td>Offline</td><td>C</td></tr><tr><td>Middle East and North Africa</td><td>Oman</td><td>Baby Food</td><td>Online</td><td>M</td></tr><tr><td>Middle East and North Africa</td><td>Oman</td><td>Baby Food</td><td>Offline</td><td>C</td></tr><tr><td>Europe</td><td>Spain</td><td>Snacks</td><td>Offline</td><td>M</td></tr><tr><td>Middle East and North Africa</td><td>Afghanistan</td><td>Fruits</td><td>Online</td><td>C</td></tr><tr><td>Central America and the Caribbean</td><td>Saint Vincent and the Grenadines</td><td>Cosmetics</td><td>Offline</td><td>L</td></tr><tr><td>Europe</td><td>Iceland</td><td>Vegetables</td><td>Online</td><td>M</td></tr><tr><td>Asia</td><td>Myanmar</td><td>Vegetables</td><td>Offline</td><td>L</td></tr><tr><td>Europe</td><td>Netherlands</td><td>Snacks</td><td>Offline</td><td>L</td></tr><tr><td>Europe</td><td>Slovakia</td><td>Vegetables</td><td>Online</td><td>M</td></tr><tr><td>Middle East and North Africa</td><td>Bahrain</td><td>Fruits</td><td>Offline</td><td>H</td></tr><tr><td>Sub-Saharan Africa</td><td>Lesotho</td><td>Baby Food</td><td>Online</td><td>L</td></tr><tr><td>Central America and the Caribbean</td><td>Cuba</td><td>Clothes</td><td>Offline</td><td>L</td></tr><tr><td>Middle East and North Africa</td><td>Afghanistan</td><td>Clothes</td><td>Offline</td><td>C</td></tr><tr><td>Australia and Oceania</td><td>Vanuatu</td><td>Cereal</td><td>Online</td><td>L</td></tr><tr><td>Asia</td><td>Bhutan</td><td>Beverages</td><td>Offline</td><td>M</td></tr><tr><td>Australia and Oceania</td><td>Palau</td><td>Cereal</td><td>Offline</td><td>L</td></tr><tr><td>Asia</td><td>Indonesia</td><td>Personal Care</td><td>Online</td><td>H</td></tr><tr><td>Europe</td><td>Andorra</td><td>Baby Food</td><td>Offline</td><td>C</td></tr><tr><td>Middle East and North Africa</td><td>Algeria</td><td>Office Supplies</td><td>Online</td><td>C</td></tr><tr><td>Australia and Oceania</td><td>Vanuatu</td><td>Cosmetics</td><td>Offline</td><td>C</td></tr><tr><td>North America</td><td>Mexico</td><td>Baby Food</td><td>Online</td><td>H</td></tr><tr><td>Europe</td><td>Macedonia</td><td>Fruits</td><td>Offline</td><td>M</td></tr><tr><td>Central America and the Caribbean</td><td>Panama</td><td>Personal Care</td><td>Online</td><td>H</td></tr><tr><td>Asia</td><td>Nepal</td><td>Cereal</td><td>Offline</td><td>H</td></tr><tr><td>Asia</td><td>Nepal</td><td>Fruits</td><td>Online</td><td>C</td></tr><tr><td>Sub-Saharan Africa</td><td>Mauritius </td><td>Cereal</td><td>Offline</td><td>C</td></tr><tr><td>Sub-Saharan Africa</td><td>Sao Tome and Principe</td><td>Clothes</td><td>Online</td><td>H</td></tr><tr><td>Central America and the Caribbean</td><td>Saint Vincent and the Grenadines</td><td>Fruits</td><td>Offline</td><td>L</td></tr><tr><td>Asia</td><td>Maldives</td><td>Personal Care</td><td>Online</td><td>M</td></tr><tr><td>Sub-Saharan Africa</td><td>Swaziland</td><td>Personal Care</td><td>Offline</td><td>H</td></tr><tr><td>Middle East and North Africa</td><td>Morocco</td><td>Cereal</td><td>Online</td><td>H</td></tr><tr><td>Asia</td><td>Maldives</td><td>Clothes</td><td>Offline</td><td>M</td></tr><tr><td>Sub-Saharan Africa</td><td>Zimbabwe</td><td>Fruits</td><td>Offline</td><td>C</td></tr><tr><td>Asia</td><td>India</td><td>Cereal</td><td>Online</td><td>C</td></tr><tr><td>Asia</td><td>Tajikistan</td><td>Beverages</td><td>Offline</td><td>C</td></tr><tr><td>Sub-Saharan Africa</td><td>Lesotho</td><td>Snacks</td><td>Offline</td><td>M</td></tr><tr><td>Asia</td><td>Bhutan</td><td>Office Supplies</td><td>Offline</td><td>M</td></tr><tr><td>Central America and the Caribbean</td><td>Trinidad and Tobago</td><td>Snacks</td><td>Offline</td><td>L</td></tr><tr><td>Australia and Oceania</td><td>Tuvalu</td><td>Fruits</td><td>Offline</td><td>L</td></tr><tr><td>Middle East and North Africa</td><td>Iraq</td><td>Clothes</td><td>Offline</td><td>L</td></tr><tr><td>Sub-Saharan Africa</td><td>The Gambia</td><td>Vegetables</td><td>Offline</td><td>L</td></tr><tr><td>Middle East and North Africa</td><td>Bahrain</td><td>Beverages</td><td>Online</td><td>C</td></tr><tr><td>Middle East and North Africa</td><td>Qatar</td><td>Meat</td><td>Online</td><td>H</td></tr><tr><td>Sub-Saharan Africa</td><td>Angola</td><td>Household</td><td>Offline</td><td>H</td></tr><tr><td>Central America and the Caribbean</td><td>Costa Rica</td><td>Cosmetics</td><td>Online</td><td>L</td></tr><tr><td>Australia and Oceania</td><td>Papua New Guinea</td><td>Household</td><td>Online</td><td>M</td></tr><tr><td>Middle East and North Africa</td><td>Qatar</td><td>Clothes</td><td>Offline</td><td>C</td></tr><tr><td>Central America and the Caribbean</td><td>Saint Kitts and Nevis </td><td>Clothes</td><td>Offline</td><td>H</td></tr><tr><td>Sub-Saharan Africa</td><td>Sierra Leone</td><td>Fruits</td><td>Offline</td><td>C</td></tr><tr><td>Europe</td><td>Russia</td><td>Fruits</td><td>Online</td><td>M</td></tr><tr><td>Europe</td><td>Lithuania</td><td>Vegetables</td><td>Offline</td><td>M</td></tr><tr><td>Europe</td><td>United Kingdom</td><td>Vegetables</td><td>Online</td><td>L</td></tr><tr><td>Asia</td><td>Indonesia</td><td>Personal Care</td><td>Offline</td><td>H</td></tr><tr><td>Asia</td><td>Mongolia</td><td>Beverages</td><td>Offline</td><td>M</td></tr><tr><td>Middle East and North Africa</td><td>Egypt</td><td>Office Supplies</td><td>Online</td><td>C</td></tr><tr><td>Sub-Saharan Africa</td><td>Comoros</td><td>Household</td><td>Online</td><td>M</td></tr><tr><td>Europe</td><td>Slovenia</td><td>Household</td><td>Offline</td><td>M</td></tr><tr><td>Middle East and North Africa</td><td>Lebanon</td><td>Beverages</td><td>Online</td><td>M</td></tr><tr><td>Australia and Oceania</td><td>Australia</td><td>Cosmetics</td><td>Offline</td><td>L</td></tr><tr><td>Central America and the Caribbean</td><td>Haiti</td><td>Snacks</td><td>Online</td><td>M</td></tr><tr><td>Central America and the Caribbean</td><td>Saint Kitts and Nevis </td><td>Meat</td><td>Online</td><td>L</td></tr><tr><td>Middle East and North Africa</td><td>Syria</td><td>Vegetables</td><td>Offline</td><td>M</td></tr><tr><td>Asia</td><td>Laos</td><td>Snacks</td><td>Offline</td><td>M</td></tr><tr><td>Central America and the Caribbean</td><td>Saint Kitts and Nevis </td><td>Cereal</td><td>Offline</td><td>H</td></tr><tr><td>Sub-Saharan Africa</td><td>Sudan</td><td>Vegetables</td><td>Offline</td><td>H</td></tr><tr><td>Central America and the Caribbean</td><td>Guatemala</td><td>Meat</td><td>Offline</td><td>H</td></tr><tr><td>Asia</td><td>Brunei</td><td>Clothes</td><td>Offline</td><td>H</td></tr><tr><td>Middle East and North Africa</td><td>Jordan</td><td>Clothes</td><td>Online</td><td>M</td></tr><tr><td>Central America and the Caribbean</td><td>Panama</td><td>Meat</td><td>Offline</td><td>C</td></tr><tr><td>Sub-Saharan Africa</td><td>Central African Republic</td><td>Household</td><td>Online</td><td>H</td></tr><tr><td>Middle East and North Africa</td><td>Bahrain</td><td>Beverages</td><td>Offline</td><td>M</td></tr><tr><td>Sub-Saharan Africa</td><td>Burundi</td><td>Beverages</td><td>Online</td><td>C</td></tr><tr><td>Europe</td><td>Austria</td><td>Cereal</td><td>Online</td><td>L</td></tr><tr><td>Australia and Oceania</td><td>Fiji</td><td>Beverages</td><td>Offline</td><td>H</td></tr><tr><td>Australia and Oceania</td><td>Fiji</td><td>Clothes</td><td>Offline</td><td>M</td></tr><tr><td>Europe</td><td>Switzerland</td><td>Snacks</td><td>Online</td><td>H</td></tr><tr><td>Middle East and North Africa</td><td>Yemen</td><td>Office Supplies</td><td>Offline</td><td>M</td></tr><tr><td>Sub-Saharan Africa</td><td>Comoros</td><td>Personal Care</td><td>Offline</td><td>H</td></tr><tr><td>Sub-Saharan Africa</td><td>Democratic Republic of the Congo</td><td>Office Supplies</td><td>Online</td><td>C</td></tr><tr><td>Asia</td><td>Mongolia</td><td>Clothes</td><td>Offline</td><td>H</td></tr><tr><td>Australia and Oceania</td><td>Palau</td><td>Household</td><td>Offline</td><td>L</td></tr><tr><td>Europe</td><td>Monaco</td><td>Snacks</td><td>Offline</td><td>M</td></tr><tr><td>Australia and Oceania</td><td>Fiji</td><td>Cereal</td><td>Online</td><td>L</td></tr><tr><td>Sub-Saharan Africa</td><td>Mali</td><td>Beverages</td><td>Online</td><td>L</td></tr><tr><td>Sub-Saharan Africa</td><td>Liberia</td><td>Cereal</td><td>Offline</td><td>H</td></tr><tr><td>Europe</td><td>Switzerland</td><td>Beverages</td><td>Offline</td><td>L</td></tr><tr><td>Australia and Oceania</td><td>Samoa </td><td>Baby Food</td><td>Online</td><td>L</td></tr><tr><td>Asia</td><td>Nepal</td><td>Meat</td><td>Offline</td><td>C</td></tr><tr><td>Middle East and North Africa</td><td>Azerbaijan</td><td>Snacks</td><td>Offline</td><td>C</td></tr><tr><td>Europe</td><td>Georgia</td><td>Baby Food</td><td>Offline</td><td>H</td></tr><tr><td>Middle East and North Africa</td><td>United Arab Emirates</td><td>Vegetables</td><td>Online</td><td>C</td></tr><tr><td>Europe</td><td>Finland</td><td>Household</td><td>Offline</td><td>L</td></tr><tr><td>Europe</td><td>Portugal</td><td>Cereal</td><td>Offline</td><td>C</td></tr></tbody></table></div>"
      ]
     },
     "metadata": {
      "application/vnd.databricks.v1+output": {
       "addedWidgets": {},
       "aggData": [],
       "aggError": "",
       "aggOverflow": false,
       "aggSchema": [],
       "aggSeriesLimitReached": false,
       "aggType": "",
       "arguments": {},
       "columnCustomDisplayInfos": {},
       "data": [
        [
         "Middle East and North Africa",
         "Libya",
         "Cosmetics",
         "Offline",
         "M"
        ],
        [
         "North America",
         "Canada",
         "Vegetables",
         "Online",
         "M"
        ],
        [
         "Middle East and North Africa",
         "Libya",
         "Baby Food",
         "Offline",
         "C"
        ],
        [
         "Asia",
         "Japan",
         "Cereal",
         "Offline",
         "C"
        ],
        [
         "Sub-Saharan Africa",
         "Chad",
         "Fruits",
         "Offline",
         "H"
        ],
        [
         "Europe",
         "Armenia",
         "Cereal",
         "Online",
         "H"
        ],
        [
         "Sub-Saharan Africa",
         "Eritrea",
         "Cereal",
         "Online",
         "H"
        ],
        [
         "Europe",
         "Montenegro",
         "Clothes",
         "Offline",
         "M"
        ],
        [
         "Central America and the Caribbean",
         "Jamaica",
         "Vegetables",
         "Online",
         "H"
        ],
        [
         "Australia and Oceania",
         "Fiji",
         "Vegetables",
         "Offline",
         "H"
        ],
        [
         "Sub-Saharan Africa",
         "Togo",
         "Clothes",
         "Online",
         "M"
        ],
        [
         "Europe",
         "Montenegro",
         "Snacks",
         "Offline",
         "M"
        ],
        [
         "Europe",
         "Greece",
         "Household",
         "Online",
         "C"
        ],
        [
         "Sub-Saharan Africa",
         "Sudan",
         "Cosmetics",
         "Online",
         "C"
        ],
        [
         "Asia",
         "Maldives",
         "Fruits",
         "Offline",
         "L"
        ],
        [
         "Europe",
         "Montenegro",
         "Clothes",
         "Offline",
         "H"
        ],
        [
         "Europe",
         "Estonia",
         "Office Supplies",
         "Online",
         "H"
        ],
        [
         "North America",
         "Greenland",
         "Beverages",
         "Online",
         "M"
        ],
        [
         "Sub-Saharan Africa",
         "Cape Verde",
         "Clothes",
         "Online",
         "C"
        ],
        [
         "Sub-Saharan Africa",
         "Senegal",
         "Household",
         "Offline",
         "L"
        ],
        [
         "Australia and Oceania",
         "Federated States of Micronesia",
         "Snacks",
         "Online",
         "C"
        ],
        [
         "Europe",
         "Bulgaria",
         "Clothes",
         "Online",
         "L"
        ],
        [
         "Middle East and North Africa",
         "Algeria",
         "Personal Care",
         "Online",
         "H"
        ],
        [
         "Asia",
         "Mongolia",
         "Clothes",
         "Online",
         "L"
        ],
        [
         "Central America and the Caribbean",
         "Grenada",
         "Cereal",
         "Online",
         "H"
        ],
        [
         "Central America and the Caribbean",
         "Grenada",
         "Beverages",
         "Online",
         "M"
        ],
        [
         "Sub-Saharan Africa",
         "Senegal",
         "Beverages",
         "Offline",
         "M"
        ],
        [
         "North America",
         "Greenland",
         "Fruits",
         "Offline",
         "M"
        ],
        [
         "Sub-Saharan Africa",
         "Chad",
         "Meat",
         "Offline",
         "H"
        ],
        [
         "Sub-Saharan Africa",
         "Mauritius ",
         "Personal Care",
         "Online",
         "C"
        ],
        [
         "Middle East and North Africa",
         "Morocco",
         "Beverages",
         "Offline",
         "C"
        ],
        [
         "Central America and the Caribbean",
         "Honduras",
         "Office Supplies",
         "Online",
         "H"
        ],
        [
         "Sub-Saharan Africa",
         "Benin",
         "Fruits",
         "Online",
         "L"
        ],
        [
         "Europe",
         "Greece",
         "Baby Food",
         "Offline",
         "M"
        ],
        [
         "Central America and the Caribbean",
         "Jamaica",
         "Beverages",
         "Offline",
         "L"
        ],
        [
         "Sub-Saharan Africa",
         "Equatorial Guinea",
         "Office Supplies",
         "Online",
         "M"
        ],
        [
         "Sub-Saharan Africa",
         "Swaziland",
         "Office Supplies",
         "Offline",
         "H"
        ],
        [
         "Central America and the Caribbean",
         "Trinidad and Tobago",
         "Vegetables",
         "Offline",
         "M"
        ],
        [
         "Europe",
         "Sweden",
         "Baby Food",
         "Online",
         "L"
        ],
        [
         "Europe",
         "Belarus",
         "Office Supplies",
         "Online",
         "L"
        ],
        [
         "Sub-Saharan Africa",
         "Guinea-Bissau",
         "Office Supplies",
         "Offline",
         "C"
        ],
        [
         "Asia",
         "Mongolia",
         "Beverages",
         "Online",
         "M"
        ],
        [
         "Middle East and North Africa",
         "Turkey",
         "Meat",
         "Online",
         "L"
        ],
        [
         "Sub-Saharan Africa",
         "Central African Republic",
         "Snacks",
         "Offline",
         "L"
        ],
        [
         "Sub-Saharan Africa",
         "Equatorial Guinea",
         "Office Supplies",
         "Offline",
         "L"
        ],
        [
         "Asia",
         "Laos",
         "Beverages",
         "Online",
         "M"
        ],
        [
         "Europe",
         "Armenia",
         "Meat",
         "Online",
         "C"
        ],
        [
         "Europe",
         "Greece",
         "Household",
         "Online",
         "L"
        ],
        [
         "Middle East and North Africa",
         "Israel",
         "Personal Care",
         "Offline",
         "H"
        ],
        [
         "Asia",
         "Bhutan",
         "Meat",
         "Online",
         "H"
        ],
        [
         "Australia and Oceania",
         "Vanuatu",
         "Vegetables",
         "Online",
         "L"
        ],
        [
         "Sub-Saharan Africa",
         "Burundi",
         "Vegetables",
         "Online",
         "M"
        ],
        [
         "Europe",
         "Ukraine",
         "Cosmetics",
         "Online",
         "M"
        ],
        [
         "Europe",
         "Croatia",
         "Beverages",
         "Online",
         "C"
        ],
        [
         "Sub-Saharan Africa",
         "Madagascar",
         "Fruits",
         "Online",
         "L"
        ],
        [
         "Asia",
         "Malaysia",
         "Snacks",
         "Offline",
         "M"
        ],
        [
         "Asia",
         "Uzbekistan",
         "Office Supplies",
         "Offline",
         "L"
        ],
        [
         "Europe",
         "Italy",
         "Office Supplies",
         "Online",
         "M"
        ],
        [
         "Asia",
         "Nepal",
         "Vegetables",
         "Offline",
         "C"
        ],
        [
         "Australia and Oceania",
         "Fiji",
         "Personal Care",
         "Offline",
         "H"
        ],
        [
         "Europe",
         "Portugal",
         "Office Supplies",
         "Online",
         "L"
        ],
        [
         "Central America and the Caribbean",
         "Panama",
         "Cosmetics",
         "Offline",
         "H"
        ],
        [
         "Europe",
         "Belarus",
         "Beverages",
         "Offline",
         "L"
        ],
        [
         "Sub-Saharan Africa",
         "Botswana",
         "Clothes",
         "Offline",
         "C"
        ],
        [
         "Sub-Saharan Africa",
         "Tanzania",
         "Personal Care",
         "Online",
         "M"
        ],
        [
         "Europe",
         "Romania",
         "Office Supplies",
         "Offline",
         "C"
        ],
        [
         "Sub-Saharan Africa",
         "Mali",
         "Cereal",
         "Online",
         "L"
        ],
        [
         "Sub-Saharan Africa",
         "Central African Republic",
         "Office Supplies",
         "Offline",
         "C"
        ],
        [
         "Sub-Saharan Africa",
         "Niger",
         "Baby Food",
         "Online",
         "M"
        ],
        [
         "Europe",
         "Austria",
         "Office Supplies",
         "Online",
         "L"
        ],
        [
         "Asia",
         "India",
         "Fruits",
         "Online",
         "H"
        ],
        [
         "Europe",
         "Luxembourg",
         "Baby Food",
         "Offline",
         "L"
        ],
        [
         "Sub-Saharan Africa",
         "Cape Verde",
         "Beverages",
         "Offline",
         "H"
        ],
        [
         "Europe",
         "Sweden",
         "Vegetables",
         "Offline",
         "M"
        ],
        [
         "Europe",
         "Iceland",
         "Meat",
         "Offline",
         "H"
        ],
        [
         "Middle East and North Africa",
         "Qatar",
         "Personal Care",
         "Offline",
         "L"
        ],
        [
         "Sub-Saharan Africa",
         "South Sudan",
         "Meat",
         "Online",
         "C"
        ],
        [
         "Europe",
         "United Kingdom",
         "Office Supplies",
         "Online",
         "M"
        ],
        [
         "Middle East and North Africa",
         "Tunisia ",
         "Cereal",
         "Online",
         "L"
        ],
        [
         "North America",
         "United States of America",
         "Office Supplies",
         "Online",
         "C"
        ],
        [
         "Sub-Saharan Africa",
         "Liberia",
         "Cereal",
         "Online",
         "L"
        ],
        [
         "Sub-Saharan Africa",
         "Eritrea",
         "Snacks",
         "Offline",
         "L"
        ],
        [
         "Asia",
         "South Korea",
         "Fruits",
         "Offline",
         "L"
        ],
        [
         "Sub-Saharan Africa",
         "Kenya",
         "Clothes",
         "Offline",
         "M"
        ],
        [
         "Sub-Saharan Africa",
         "Rwanda",
         "Snacks",
         "Online",
         "M"
        ],
        [
         "Central America and the Caribbean",
         "Cuba",
         "Beverages",
         "Offline",
         "C"
        ],
        [
         "Middle East and North Africa",
         "Libya",
         "Cereal",
         "Offline",
         "M"
        ],
        [
         "Europe",
         "Czech Republic",
         "Snacks",
         "Online",
         "C"
        ],
        [
         "Europe",
         "Montenegro",
         "Beverages",
         "Offline",
         "M"
        ],
        [
         "Europe",
         "Montenegro",
         "Clothes",
         "Offline",
         "M"
        ],
        [
         "Asia",
         "Philippines",
         "Baby Food",
         "Online",
         "L"
        ],
        [
         "Central America and the Caribbean",
         "El Salvador",
         "Clothes",
         "Offline",
         "L"
        ],
        [
         "Australia and Oceania",
         "Tonga",
         "Household",
         "Online",
         "M"
        ],
        [
         "Sub-Saharan Africa",
         "Democratic Republic of the Congo",
         "Personal Care",
         "Offline",
         "H"
        ],
        [
         "Middle East and North Africa",
         "Afghanistan",
         "Cereal",
         "Online",
         "M"
        ],
        [
         "Australia and Oceania",
         "Tuvalu",
         "Snacks",
         "Offline",
         "L"
        ],
        [
         "Sub-Saharan Africa",
         "Sudan",
         "Fruits",
         "Online",
         "L"
        ],
        [
         "Sub-Saharan Africa",
         "Niger",
         "Clothes",
         "Online",
         "M"
        ],
        [
         "Sub-Saharan Africa",
         "Gabon",
         "Household",
         "Offline",
         "C"
        ],
        [
         "Australia and Oceania",
         "East Timor",
         "Vegetables",
         "Offline",
         "C"
        ],
        [
         "North America",
         "United States of America",
         "Clothes",
         "Offline",
         "C"
        ],
        [
         "Middle East and North Africa",
         "Jordan",
         "Vegetables",
         "Offline",
         "L"
        ],
        [
         "Europe",
         "Cyprus",
         "Snacks",
         "Offline",
         "H"
        ],
        [
         "Sub-Saharan Africa",
         "Malawi",
         "Vegetables",
         "Online",
         "L"
        ],
        [
         "Europe",
         "Iceland",
         "Personal Care",
         "Online",
         "M"
        ],
        [
         "Middle East and North Africa",
         "Israel",
         "Personal Care",
         "Online",
         "M"
        ],
        [
         "Middle East and North Africa",
         "United Arab Emirates",
         "Snacks",
         "Offline",
         "H"
        ],
        [
         "Asia",
         "China",
         "Cosmetics",
         "Offline",
         "L"
        ],
        [
         "Sub-Saharan Africa",
         "Kenya",
         "Beverages",
         "Online",
         "M"
        ],
        [
         "Middle East and North Africa",
         "Somalia",
         "Clothes",
         "Offline",
         "M"
        ],
        [
         "Australia and Oceania",
         "Tonga",
         "Beverages",
         "Offline",
         "L"
        ],
        [
         "Asia",
         "Bangladesh",
         "Baby Food",
         "Online",
         "H"
        ],
        [
         "Middle East and North Africa",
         "Egypt",
         "Beverages",
         "Offline",
         "M"
        ],
        [
         "Sub-Saharan Africa",
         "Eritrea",
         "Cereal",
         "Offline",
         "C"
        ],
        [
         "Sub-Saharan Africa",
         "Swaziland",
         "Office Supplies",
         "Online",
         "H"
        ],
        [
         "Asia",
         "Vietnam",
         "Baby Food",
         "Online",
         "C"
        ],
        [
         "Australia and Oceania",
         "Marshall Islands",
         "Snacks",
         "Online",
         "L"
        ],
        [
         "Asia",
         "Taiwan",
         "Household",
         "Online",
         "C"
        ],
        [
         "Europe",
         "Ireland",
         "Vegetables",
         "Online",
         "M"
        ],
        [
         "Sub-Saharan Africa",
         "Rwanda",
         "Meat",
         "Offline",
         "H"
        ],
        [
         "Europe",
         "Sweden",
         "Snacks",
         "Online",
         "M"
        ],
        [
         "Sub-Saharan Africa",
         "Gabon",
         "Snacks",
         "Offline",
         "M"
        ],
        [
         "Sub-Saharan Africa",
         "South Africa",
         "Baby Food",
         "Online",
         "L"
        ],
        [
         "Europe",
         "United Kingdom",
         "Clothes",
         "Offline",
         "C"
        ],
        [
         "Europe",
         "Albania",
         "Fruits",
         "Offline",
         "M"
        ],
        [
         "Asia",
         "Malaysia",
         "Snacks",
         "Offline",
         "H"
        ],
        [
         "Sub-Saharan Africa",
         "Ghana",
         "Household",
         "Offline",
         "L"
        ],
        [
         "Central America and the Caribbean",
         "Cuba",
         "Clothes",
         "Offline",
         "H"
        ],
        [
         "Central America and the Caribbean",
         "Saint Lucia",
         "Cosmetics",
         "Online",
         "C"
        ],
        [
         "Europe",
         "Romania",
         "Snacks",
         "Offline",
         "L"
        ],
        [
         "Europe",
         "Portugal",
         "Office Supplies",
         "Online",
         "L"
        ],
        [
         "Europe",
         "Macedonia",
         "Beverages",
         "Online",
         "C"
        ],
        [
         "Asia",
         "China",
         "Beverages",
         "Offline",
         "C"
        ],
        [
         "Europe",
         "Germany",
         "Baby Food",
         "Online",
         "L"
        ],
        [
         "Europe",
         "Ireland",
         "Household",
         "Online",
         "M"
        ],
        [
         "Europe",
         "Poland",
         "Office Supplies",
         "Offline",
         "M"
        ],
        [
         "Sub-Saharan Africa",
         "Namibia",
         "Household",
         "Online",
         "H"
        ],
        [
         "Asia",
         "Uzbekistan",
         "Personal Care",
         "Offline",
         "H"
        ],
        [
         "Sub-Saharan Africa",
         "Zimbabwe",
         "Meat",
         "Online",
         "M"
        ],
        [
         "Asia",
         "Mongolia",
         "Meat",
         "Offline",
         "M"
        ],
        [
         "Europe",
         "Norway",
         "Personal Care",
         "Online",
         "H"
        ],
        [
         "Middle East and North Africa",
         "Oman",
         "Snacks",
         "Offline",
         "M"
        ],
        [
         "Europe",
         "Serbia",
         "Cosmetics",
         "Online",
         "H"
        ],
        [
         "Sub-Saharan Africa",
         "Democratic Republic of the Congo",
         "Fruits",
         "Offline",
         "H"
        ],
        [
         "Europe",
         "Bulgaria",
         "Baby Food",
         "Online",
         "M"
        ],
        [
         "Asia",
         "Brunei",
         "Baby Food",
         "Online",
         "H"
        ],
        [
         "Europe",
         "Serbia",
         "Snacks",
         "Offline",
         "C"
        ],
        [
         "Sub-Saharan Africa",
         "Ghana",
         "Cereal",
         "Offline",
         "M"
        ],
        [
         "Sub-Saharan Africa",
         "Malawi",
         "Cereal",
         "Offline",
         "M"
        ],
        [
         "Sub-Saharan Africa",
         "Zimbabwe",
         "Fruits",
         "Offline",
         "L"
        ],
        [
         "Europe",
         "Cyprus",
         "Snacks",
         "Offline",
         "C"
        ],
        [
         "Central America and the Caribbean",
         "Nicaragua",
         "Cereal",
         "Online",
         "M"
        ],
        [
         "Europe",
         "Estonia",
         "Baby Food",
         "Offline",
         "C"
        ],
        [
         "Europe",
         "Estonia",
         "Clothes",
         "Online",
         "C"
        ],
        [
         "Europe",
         "Lithuania",
         "Fruits",
         "Offline",
         "H"
        ],
        [
         "Sub-Saharan Africa",
         "Republic of the Congo",
         "Meat",
         "Offline",
         "H"
        ],
        [
         "Europe",
         "Czech Republic",
         "Baby Food",
         "Online",
         "C"
        ],
        [
         "Sub-Saharan Africa",
         "Cameroon",
         "Snacks",
         "Online",
         "C"
        ],
        [
         "Asia",
         "Vietnam",
         "Office Supplies",
         "Online",
         "H"
        ],
        [
         "Europe",
         "Moldova ",
         "Meat",
         "Offline",
         "L"
        ],
        [
         "Middle East and North Africa",
         "Bahrain",
         "Office Supplies",
         "Offline",
         "L"
        ],
        [
         "Europe",
         "Hungary",
         "Household",
         "Online",
         "L"
        ],
        [
         "Australia and Oceania",
         "Marshall Islands",
         "Personal Care",
         "Offline",
         "L"
        ],
        [
         "Middle East and North Africa",
         "Iraq",
         "Office Supplies",
         "Online",
         "C"
        ],
        [
         "Europe",
         "Albania",
         "Vegetables",
         "Online",
         "H"
        ],
        [
         "Sub-Saharan Africa",
         "Lesotho",
         "Office Supplies",
         "Online",
         "H"
        ],
        [
         "Middle East and North Africa",
         "Lebanon",
         "Clothes",
         "Offline",
         "H"
        ],
        [
         "Europe",
         "Hungary",
         "Vegetables",
         "Online",
         "C"
        ],
        [
         "Asia",
         "Japan",
         "Beverages",
         "Online",
         "H"
        ],
        [
         "Europe",
         "Georgia",
         "Office Supplies",
         "Offline",
         "L"
        ],
        [
         "Europe",
         "Estonia",
         "Office Supplies",
         "Online",
         "C"
        ],
        [
         "Europe",
         "Luxembourg",
         "Household",
         "Online",
         "C"
        ],
        [
         "Sub-Saharan Africa",
         "Swaziland",
         "Personal Care",
         "Online",
         "H"
        ],
        [
         "Europe",
         "Romania",
         "Clothes",
         "Offline",
         "C"
        ],
        [
         "Sub-Saharan Africa",
         "Ethiopia",
         "Personal Care",
         "Offline",
         "C"
        ],
        [
         "Sub-Saharan Africa",
         "Chad",
         "Office Supplies",
         "Offline",
         "C"
        ],
        [
         "Middle East and North Africa",
         "Morocco",
         "Office Supplies",
         "Online",
         "C"
        ],
        [
         "North America",
         "Mexico",
         "Clothes",
         "Online",
         "H"
        ],
        [
         "Sub-Saharan Africa",
         "Nigeria",
         "Personal Care",
         "Offline",
         "H"
        ],
        [
         "Central America and the Caribbean",
         "Trinidad and Tobago",
         "Beverages",
         "Offline",
         "L"
        ],
        [
         "Europe",
         "Moldova ",
         "Personal Care",
         "Offline",
         "H"
        ],
        [
         "Australia and Oceania",
         "Solomon Islands",
         "Personal Care",
         "Online",
         "H"
        ],
        [
         "Asia",
         "India",
         "Personal Care",
         "Online",
         "L"
        ],
        [
         "Sub-Saharan Africa",
         "Burkina Faso",
         "Office Supplies",
         "Offline",
         "M"
        ],
        [
         "Australia and Oceania",
         "Kiribati",
         "Meat",
         "Online",
         "L"
        ],
        [
         "Middle East and North Africa",
         "Israel",
         "Meat",
         "Offline",
         "M"
        ],
        [
         "Sub-Saharan Africa",
         "Comoros",
         "Snacks",
         "Offline",
         "L"
        ],
        [
         "Middle East and North Africa",
         "Iran",
         "Baby Food",
         "Offline",
         "H"
        ],
        [
         "Asia",
         "Vietnam",
         "Cosmetics",
         "Offline",
         "L"
        ],
        [
         "Central America and the Caribbean",
         "Belize",
         "Household",
         "Online",
         "M"
        ],
        [
         "Europe",
         "Belarus",
         "Personal Care",
         "Offline",
         "H"
        ],
        [
         "North America",
         "United States of America",
         "Baby Food",
         "Offline",
         "C"
        ],
        [
         "Europe",
         "Poland",
         "Beverages",
         "Online",
         "L"
        ],
        [
         "North America",
         "Canada",
         "Vegetables",
         "Offline",
         "L"
        ],
        [
         "Middle East and North Africa",
         "Israel",
         "Beverages",
         "Offline",
         "C"
        ],
        [
         "Middle East and North Africa",
         "Lebanon",
         "Household",
         "Online",
         "L"
        ],
        [
         "Europe",
         "Andorra",
         "Baby Food",
         "Online",
         "L"
        ],
        [
         "Europe",
         "Slovakia",
         "Clothes",
         "Online",
         "L"
        ],
        [
         "Sub-Saharan Africa",
         "Liberia",
         "Fruits",
         "Online",
         "H"
        ],
        [
         "Central America and the Caribbean",
         "Antigua and Barbuda ",
         "Cereal",
         "Offline",
         "M"
        ],
        [
         "Asia",
         "China",
         "Personal Care",
         "Online",
         "L"
        ],
        [
         "Sub-Saharan Africa",
         "Niger",
         "Baby Food",
         "Online",
         "H"
        ],
        [
         "Europe",
         "United Kingdom",
         "Household",
         "Offline",
         "L"
        ],
        [
         "Asia",
         "Bangladesh",
         "Personal Care",
         "Offline",
         "M"
        ],
        [
         "Asia",
         "Myanmar",
         "Snacks",
         "Online",
         "L"
        ],
        [
         "Australia and Oceania",
         "Tonga",
         "Meat",
         "Offline",
         "M"
        ],
        [
         "Sub-Saharan Africa",
         "Guinea-Bissau",
         "Vegetables",
         "Online",
         "C"
        ],
        [
         "Australia and Oceania",
         "Nauru",
         "Vegetables",
         "Offline",
         "M"
        ],
        [
         "Sub-Saharan Africa",
         "Swaziland",
         "Cereal",
         "Online",
         "L"
        ],
        [
         "Europe",
         "Finland",
         "Vegetables",
         "Online",
         "C"
        ],
        [
         "Australia and Oceania",
         "Papua New Guinea",
         "Household",
         "Offline",
         "L"
        ],
        [
         "Sub-Saharan Africa",
         "Mauritius ",
         "Personal Care",
         "Online",
         "L"
        ],
        [
         "Sub-Saharan Africa",
         "Mozambique",
         "Office Supplies",
         "Online",
         "M"
        ],
        [
         "Europe",
         "Bulgaria",
         "Clothes",
         "Online",
         "L"
        ],
        [
         "Europe",
         "Spain",
         "Household",
         "Online",
         "C"
        ],
        [
         "Australia and Oceania",
         "Vanuatu",
         "Meat",
         "Online",
         "H"
        ],
        [
         "Europe",
         "Belgium",
         "Fruits",
         "Offline",
         "L"
        ],
        [
         "Europe",
         "Belgium",
         "Baby Food",
         "Offline",
         "L"
        ],
        [
         "Sub-Saharan Africa",
         "Guinea-Bissau",
         "Clothes",
         "Online",
         "L"
        ],
        [
         "Sub-Saharan Africa",
         "Togo",
         "Vegetables",
         "Online",
         "C"
        ],
        [
         "Sub-Saharan Africa",
         "Cote d'Ivoire",
         "Personal Care",
         "Offline",
         "C"
        ],
        [
         "Sub-Saharan Africa",
         "Republic of the Congo",
         "Fruits",
         "Offline",
         "C"
        ],
        [
         "Middle East and North Africa",
         "Libya",
         "Baby Food",
         "Offline",
         "M"
        ],
        [
         "Australia and Oceania",
         "East Timor",
         "Vegetables",
         "Online",
         "C"
        ],
        [
         "Europe",
         "Switzerland",
         "Clothes",
         "Offline",
         "H"
        ],
        [
         "Australia and Oceania",
         "Palau",
         "Snacks",
         "Offline",
         "M"
        ],
        [
         "Middle East and North Africa",
         "Jordan",
         "Household",
         "Online",
         "M"
        ],
        [
         "Europe",
         "Slovenia",
         "Household",
         "Online",
         "H"
        ],
        [
         "Asia",
         "South Korea",
         "Baby Food",
         "Online",
         "L"
        ],
        [
         "Europe",
         "Norway",
         "Clothes",
         "Online",
         "H"
        ],
        [
         "Middle East and North Africa",
         "Afghanistan",
         "Baby Food",
         "Online",
         "M"
        ],
        [
         "Asia",
         "Bangladesh",
         "Personal Care",
         "Online",
         "L"
        ],
        [
         "Sub-Saharan Africa",
         "Guinea",
         "Meat",
         "Offline",
         "M"
        ],
        [
         "Central America and the Caribbean",
         "Cuba",
         "Office Supplies",
         "Offline",
         "H"
        ],
        [
         "Europe",
         "Russia",
         "Cosmetics",
         "Offline",
         "C"
        ],
        [
         "Sub-Saharan Africa",
         "Seychelles ",
         "Vegetables",
         "Offline",
         "L"
        ],
        [
         "Asia",
         "South Korea",
         "Office Supplies",
         "Offline",
         "M"
        ],
        [
         "Sub-Saharan Africa",
         "Ghana",
         "Baby Food",
         "Offline",
         "L"
        ],
        [
         "Central America and the Caribbean",
         "Costa Rica",
         "Office Supplies",
         "Online",
         "H"
        ],
        [
         "Europe",
         "Romania",
         "Cereal",
         "Online",
         "C"
        ],
        [
         "Europe",
         "Czech Republic",
         "Cereal",
         "Online",
         "L"
        ],
        [
         "Europe",
         "Liechtenstein",
         "Household",
         "Offline",
         "L"
        ],
        [
         "Sub-Saharan Africa",
         "Seychelles ",
         "Baby Food",
         "Online",
         "M"
        ],
        [
         "Middle East and North Africa",
         "Somalia",
         "Baby Food",
         "Online",
         "L"
        ],
        [
         "Australia and Oceania",
         "Solomon Islands",
         "Personal Care",
         "Offline",
         "H"
        ],
        [
         "Sub-Saharan Africa",
         "Uganda",
         "Clothes",
         "Offline",
         "C"
        ],
        [
         "Sub-Saharan Africa",
         "Equatorial Guinea",
         "Cereal",
         "Offline",
         "M"
        ],
        [
         "Central America and the Caribbean",
         "Costa Rica",
         "Office Supplies",
         "Offline",
         "C"
        ],
        [
         "Europe",
         "Moldova ",
         "Fruits",
         "Offline",
         "C"
        ],
        [
         "Sub-Saharan Africa",
         "Burkina Faso",
         "Vegetables",
         "Online",
         "L"
        ],
        [
         "Central America and the Caribbean",
         "Guatemala",
         "Beverages",
         "Offline",
         "H"
        ],
        [
         "Sub-Saharan Africa",
         "Swaziland",
         "Meat",
         "Online",
         "M"
        ],
        [
         "Asia",
         "Maldives",
         "Vegetables",
         "Online",
         "H"
        ],
        [
         "Asia",
         "Thailand",
         "Household",
         "Online",
         "H"
        ],
        [
         "Sub-Saharan Africa",
         "Sudan",
         "Household",
         "Online",
         "C"
        ],
        [
         "Central America and the Caribbean",
         "Costa Rica",
         "Meat",
         "Offline",
         "L"
        ],
        [
         "Europe",
         "Denmark",
         "Beverages",
         "Online",
         "C"
        ],
        [
         "Sub-Saharan Africa",
         "Angola",
         "Cereal",
         "Offline",
         "C"
        ],
        [
         "Australia and Oceania",
         "Papua New Guinea",
         "Household",
         "Online",
         "M"
        ],
        [
         "Asia",
         "North Korea",
         "Meat",
         "Online",
         "M"
        ],
        [
         "Central America and the Caribbean",
         "El Salvador",
         "Fruits",
         "Online",
         "C"
        ],
        [
         "Sub-Saharan Africa",
         "Burkina Faso",
         "Household",
         "Online",
         "M"
        ],
        [
         "Middle East and North Africa",
         "Yemen",
         "Baby Food",
         "Online",
         "C"
        ],
        [
         "Sub-Saharan Africa",
         "Republic of the Congo",
         "Beverages",
         "Online",
         "L"
        ],
        [
         "Europe",
         "Andorra",
         "Household",
         "Online",
         "M"
        ],
        [
         "Central America and the Caribbean",
         "Dominican Republic",
         "Household",
         "Offline",
         "H"
        ],
        [
         "Middle East and North Africa",
         "Israel",
         "Baby Food",
         "Offline",
         "M"
        ],
        [
         "Australia and Oceania",
         "Solomon Islands",
         "Snacks",
         "Offline",
         "L"
        ],
        [
         "Sub-Saharan Africa",
         "Liberia",
         "Fruits",
         "Online",
         "M"
        ],
        [
         "Sub-Saharan Africa",
         "Mali",
         "Vegetables",
         "Online",
         "C"
        ],
        [
         "Asia",
         "Uzbekistan",
         "Clothes",
         "Online",
         "C"
        ],
        [
         "Middle East and North Africa",
         "Tunisia ",
         "Personal Care",
         "Offline",
         "H"
        ],
        [
         "Europe",
         "Vatican City",
         "Vegetables",
         "Online",
         "C"
        ],
        [
         "Sub-Saharan Africa",
         "Djibouti",
         "Snacks",
         "Offline",
         "H"
        ],
        [
         "Europe",
         "Ukraine",
         "Household",
         "Offline",
         "M"
        ],
        [
         "Australia and Oceania",
         "East Timor",
         "Fruits",
         "Offline",
         "M"
        ],
        [
         "Sub-Saharan Africa",
         "Uganda",
         "Cereal",
         "Online",
         "C"
        ],
        [
         "Sub-Saharan Africa",
         "Guinea",
         "Meat",
         "Online",
         "H"
        ],
        [
         "Sub-Saharan Africa",
         "Equatorial Guinea",
         "Clothes",
         "Offline",
         "H"
        ],
        [
         "Europe",
         "Malta",
         "Cosmetics",
         "Online",
         "M"
        ],
        [
         "Europe",
         "Cyprus",
         "Household",
         "Offline",
         "L"
        ],
        [
         "Europe",
         "Czech Republic",
         "Office Supplies",
         "Online",
         "L"
        ],
        [
         "Middle East and North Africa",
         "Libya",
         "Vegetables",
         "Online",
         "C"
        ],
        [
         "Asia",
         "Vietnam",
         "Office Supplies",
         "Offline",
         "C"
        ],
        [
         "Middle East and North Africa",
         "Jordan",
         "Vegetables",
         "Online",
         "C"
        ],
        [
         "Sub-Saharan Africa",
         "Mali",
         "Beverages",
         "Offline",
         "H"
        ],
        [
         "Europe",
         "Czech Republic",
         "Household",
         "Online",
         "L"
        ],
        [
         "Europe",
         "Slovakia",
         "Vegetables",
         "Online",
         "M"
        ],
        [
         "Sub-Saharan Africa",
         "Zimbabwe",
         "Vegetables",
         "Offline",
         "C"
        ],
        [
         "Central America and the Caribbean",
         "Honduras",
         "Cereal",
         "Online",
         "M"
        ],
        [
         "Europe",
         "Switzerland",
         "Beverages",
         "Offline",
         "L"
        ],
        [
         "Sub-Saharan Africa",
         "South Africa",
         "Cosmetics",
         "Offline",
         "L"
        ],
        [
         "Sub-Saharan Africa",
         "Uganda",
         "Beverages",
         "Online",
         "M"
        ],
        [
         "Middle East and North Africa",
         "Iran",
         "Vegetables",
         "Offline",
         "M"
        ],
        [
         "Middle East and North Africa",
         "Algeria",
         "Vegetables",
         "Online",
         "C"
        ],
        [
         "Sub-Saharan Africa",
         "Central African Republic",
         "Baby Food",
         "Online",
         "L"
        ],
        [
         "Central America and the Caribbean",
         "The Bahamas",
         "Cosmetics",
         "Offline",
         "C"
        ],
        [
         "Sub-Saharan Africa",
         "South Africa",
         "Household",
         "Offline",
         "H"
        ],
        [
         "Sub-Saharan Africa",
         "Benin",
         "Cereal",
         "Online",
         "M"
        ],
        [
         "Europe",
         "Hungary",
         "Cosmetics",
         "Online",
         "M"
        ],
        [
         "Europe",
         "Austria",
         "Office Supplies",
         "Offline",
         "C"
        ],
        [
         "Asia",
         "Tajikistan",
         "Office Supplies",
         "Offline",
         "C"
        ],
        [
         "Europe",
         "Portugal",
         "Office Supplies",
         "Online",
         "C"
        ],
        [
         "Europe",
         "Belgium",
         "Beverages",
         "Offline",
         "M"
        ],
        [
         "Europe",
         "Slovenia",
         "Beverages",
         "Offline",
         "L"
        ],
        [
         "Europe",
         "Czech Republic",
         "Snacks",
         "Online",
         "M"
        ],
        [
         "Australia and Oceania",
         "Marshall Islands",
         "Personal Care",
         "Offline",
         "C"
        ],
        [
         "Sub-Saharan Africa",
         "Sudan",
         "Fruits",
         "Online",
         "C"
        ],
        [
         "Central America and the Caribbean",
         "Dominican Republic",
         "Clothes",
         "Online",
         "H"
        ],
        [
         "Sub-Saharan Africa",
         "Tanzania",
         "Cereal",
         "Offline",
         "C"
        ],
        [
         "Europe",
         "Switzerland",
         "Clothes",
         "Offline",
         "H"
        ],
        [
         "North America",
         "Greenland",
         "Household",
         "Online",
         "L"
        ],
        [
         "Australia and Oceania",
         "Tonga",
         "Fruits",
         "Offline",
         "L"
        ],
        [
         "Middle East and North Africa",
         "Saudi Arabia",
         "Vegetables",
         "Online",
         "M"
        ],
        [
         "Central America and the Caribbean",
         "Belize",
         "Cosmetics",
         "Offline",
         "C"
        ],
        [
         "Sub-Saharan Africa",
         "Angola",
         "Cosmetics",
         "Online",
         "H"
        ],
        [
         "Asia",
         "Malaysia",
         "Household",
         "Online",
         "H"
        ],
        [
         "Sub-Saharan Africa",
         "Ethiopia",
         "Beverages",
         "Online",
         "C"
        ],
        [
         "North America",
         "Greenland",
         "Baby Food",
         "Offline",
         "C"
        ],
        [
         "Sub-Saharan Africa",
         "Benin",
         "Cereal",
         "Offline",
         "C"
        ],
        [
         "Middle East and North Africa",
         "Yemen",
         "Cereal",
         "Offline",
         "H"
        ],
        [
         "Sub-Saharan Africa",
         "Rwanda",
         "Baby Food",
         "Offline",
         "M"
        ],
        [
         "Sub-Saharan Africa",
         "Mauritania",
         "Meat",
         "Offline",
         "M"
        ],
        [
         "Australia and Oceania",
         "New Zealand",
         "Personal Care",
         "Online",
         "L"
        ],
        [
         "Australia and Oceania",
         "Samoa ",
         "Clothes",
         "Offline",
         "M"
        ],
        [
         "Australia and Oceania",
         "Fiji",
         "Clothes",
         "Online",
         "H"
        ],
        [
         "Sub-Saharan Africa",
         "Malawi",
         "Beverages",
         "Online",
         "H"
        ],
        [
         "Australia and Oceania",
         "Marshall Islands",
         "Beverages",
         "Offline",
         "M"
        ],
        [
         "Central America and the Caribbean",
         "Grenada",
         "Baby Food",
         "Online",
         "M"
        ],
        [
         "Europe",
         "Luxembourg",
         "Meat",
         "Online",
         "C"
        ],
        [
         "Sub-Saharan Africa",
         "Zimbabwe",
         "Meat",
         "Offline",
         "M"
        ],
        [
         "Asia",
         "China",
         "Vegetables",
         "Online",
         "H"
        ],
        [
         "North America",
         "United States of America",
         "Beverages",
         "Online",
         "L"
        ],
        [
         "Sub-Saharan Africa",
         "Central African Republic",
         "Vegetables",
         "Online",
         "L"
        ],
        [
         "Central America and the Caribbean",
         "Antigua and Barbuda ",
         "Vegetables",
         "Online",
         "M"
        ],
        [
         "Central America and the Caribbean",
         "Guatemala",
         "Baby Food",
         "Offline",
         "H"
        ],
        [
         "Middle East and North Africa",
         "Qatar",
         "Clothes",
         "Offline",
         "L"
        ],
        [
         "Middle East and North Africa",
         "Israel",
         "Personal Care",
         "Online",
         "L"
        ],
        [
         "Asia",
         "Thailand",
         "Snacks",
         "Offline",
         "L"
        ],
        [
         "Asia",
         "Singapore",
         "Cereal",
         "Online",
         "M"
        ],
        [
         "Asia",
         "North Korea",
         "Snacks",
         "Online",
         "C"
        ],
        [
         "Europe",
         "Austria",
         "Office Supplies",
         "Online",
         "L"
        ],
        [
         "Asia",
         "Japan",
         "Baby Food",
         "Offline",
         "L"
        ],
        [
         "Sub-Saharan Africa",
         "Zimbabwe",
         "Beverages",
         "Offline",
         "L"
        ],
        [
         "Europe",
         "Lithuania",
         "Fruits",
         "Offline",
         "H"
        ],
        [
         "Europe",
         "Luxembourg",
         "Baby Food",
         "Offline",
         "H"
        ],
        [
         "Sub-Saharan Africa",
         "Central African Republic",
         "Cosmetics",
         "Offline",
         "H"
        ],
        [
         "Europe",
         "Norway",
         "Household",
         "Offline",
         "M"
        ],
        [
         "Sub-Saharan Africa",
         "Democratic Republic of the Congo",
         "Fruits",
         "Offline",
         "M"
        ],
        [
         "Australia and Oceania",
         "New Zealand",
         "Household",
         "Offline",
         "L"
        ],
        [
         "Europe",
         "Ukraine",
         "Personal Care",
         "Offline",
         "M"
        ],
        [
         "Asia",
         "Taiwan",
         "Personal Care",
         "Offline",
         "H"
        ],
        [
         "Europe",
         "Italy",
         "Cereal",
         "Offline",
         "C"
        ],
        [
         "Europe",
         "Finland",
         "Personal Care",
         "Online",
         "L"
        ],
        [
         "Sub-Saharan Africa",
         "Sudan",
         "Office Supplies",
         "Online",
         "H"
        ],
        [
         "Europe",
         "Croatia",
         "Snacks",
         "Offline",
         "M"
        ],
        [
         "Sub-Saharan Africa",
         "Mauritania",
         "Beverages",
         "Online",
         "L"
        ],
        [
         "Australia and Oceania",
         "New Zealand",
         "Baby Food",
         "Offline",
         "L"
        ],
        [
         "Middle East and North Africa",
         "Pakistan",
         "Beverages",
         "Online",
         "L"
        ],
        [
         "Europe",
         "Poland",
         "Household",
         "Online",
         "C"
        ],
        [
         "Europe",
         "Lithuania",
         "Cereal",
         "Offline",
         "M"
        ],
        [
         "Middle East and North Africa",
         "Pakistan",
         "Cereal",
         "Offline",
         "M"
        ],
        [
         "Australia and Oceania",
         "East Timor",
         "Cosmetics",
         "Offline",
         "C"
        ],
        [
         "Australia and Oceania",
         "Marshall Islands",
         "Fruits",
         "Online",
         "L"
        ],
        [
         "Central America and the Caribbean",
         "Cuba",
         "Household",
         "Offline",
         "L"
        ],
        [
         "North America",
         "Greenland",
         "Baby Food",
         "Offline",
         "H"
        ],
        [
         "Europe",
         "Luxembourg",
         "Personal Care",
         "Offline",
         "C"
        ],
        [
         "Middle East and North Africa",
         "Israel",
         "Beverages",
         "Online",
         "C"
        ],
        [
         "Sub-Saharan Africa",
         "Djibouti",
         "Baby Food",
         "Online",
         "H"
        ],
        [
         "Europe",
         "Bulgaria",
         "Cereal",
         "Online",
         "L"
        ],
        [
         "Asia",
         "Mongolia",
         "Vegetables",
         "Online",
         "C"
        ],
        [
         "Central America and the Caribbean",
         "Dominican Republic",
         "Clothes",
         "Offline",
         "L"
        ],
        [
         "Middle East and North Africa",
         "Yemen",
         "Cosmetics",
         "Online",
         "L"
        ],
        [
         "Australia and Oceania",
         "Federated States of Micronesia",
         "Personal Care",
         "Online",
         "M"
        ],
        [
         "Europe",
         "Finland",
         "Personal Care",
         "Online",
         "M"
        ],
        [
         "Central America and the Caribbean",
         "The Bahamas",
         "Cereal",
         "Offline",
         "L"
        ],
        [
         "Central America and the Caribbean",
         "Grenada",
         "Meat",
         "Online",
         "L"
        ],
        [
         "Sub-Saharan Africa",
         "Sao Tome and Principe",
         "Meat",
         "Offline",
         "M"
        ],
        [
         "Central America and the Caribbean",
         "El Salvador",
         "Personal Care",
         "Offline",
         "C"
        ],
        [
         "Europe",
         "Sweden",
         "Baby Food",
         "Online",
         "M"
        ],
        [
         "Asia",
         "Turkmenistan",
         "Cosmetics",
         "Offline",
         "H"
        ],
        [
         "Europe",
         "Monaco",
         "Vegetables",
         "Online",
         "H"
        ],
        [
         "Middle East and North Africa",
         "Turkey",
         "Meat",
         "Online",
         "H"
        ],
        [
         "Sub-Saharan Africa",
         "Mozambique",
         "Beverages",
         "Online",
         "M"
        ],
        [
         "Middle East and North Africa",
         "Yemen",
         "Office Supplies",
         "Offline",
         "C"
        ],
        [
         "Asia",
         "Philippines",
         "Cereal",
         "Offline",
         "M"
        ],
        [
         "Sub-Saharan Africa",
         "Democratic Republic of the Congo",
         "Personal Care",
         "Offline",
         "M"
        ],
        [
         "Australia and Oceania",
         "Fiji",
         "Snacks",
         "Online",
         "H"
        ],
        [
         "Europe",
         "Macedonia",
         "Office Supplies",
         "Offline",
         "H"
        ],
        [
         "Middle East and North Africa",
         "Tunisia ",
         "Cereal",
         "Online",
         "H"
        ],
        [
         "Europe",
         "Liechtenstein",
         "Cereal",
         "Offline",
         "L"
        ],
        [
         "Middle East and North Africa",
         "Qatar",
         "Cosmetics",
         "Online",
         "M"
        ],
        [
         "Australia and Oceania",
         "Tonga",
         "Meat",
         "Offline",
         "C"
        ],
        [
         "Europe",
         "Belgium",
         "Meat",
         "Online",
         "L"
        ],
        [
         "Sub-Saharan Africa",
         "Chad",
         "Fruits",
         "Offline",
         "C"
        ],
        [
         "Asia",
         "Thailand",
         "Baby Food",
         "Online",
         "H"
        ],
        [
         "Europe",
         "Iceland",
         "Clothes",
         "Offline",
         "H"
        ],
        [
         "Central America and the Caribbean",
         "Saint Lucia",
         "Meat",
         "Offline",
         "L"
        ],
        [
         "Asia",
         "Japan",
         "Cosmetics",
         "Offline",
         "C"
        ],
        [
         "Asia",
         "India",
         "Personal Care",
         "Offline",
         "L"
        ],
        [
         "Australia and Oceania",
         "Vanuatu",
         "Office Supplies",
         "Online",
         "L"
        ],
        [
         "Sub-Saharan Africa",
         "Chad",
         "Meat",
         "Offline",
         "M"
        ],
        [
         "Sub-Saharan Africa",
         "Malawi",
         "Cosmetics",
         "Offline",
         "H"
        ],
        [
         "Europe",
         "Finland",
         "Cosmetics",
         "Online",
         "L"
        ],
        [
         "Middle East and North Africa",
         "Turkey",
         "Clothes",
         "Online",
         "C"
        ],
        [
         "Sub-Saharan Africa",
         "South Africa",
         "Meat",
         "Online",
         "L"
        ],
        [
         "Europe",
         "Lithuania",
         "Office Supplies",
         "Offline",
         "M"
        ],
        [
         "Europe",
         "Russia",
         "Beverages",
         "Offline",
         "L"
        ],
        [
         "Central America and the Caribbean",
         "The Bahamas",
         "Baby Food",
         "Online",
         "C"
        ],
        [
         "Central America and the Caribbean",
         "The Bahamas",
         "Snacks",
         "Online",
         "L"
        ],
        [
         "Middle East and North Africa",
         "Turkey",
         "Cosmetics",
         "Offline",
         "C"
        ],
        [
         "Sub-Saharan Africa",
         "Mauritius ",
         "Cosmetics",
         "Offline",
         "H"
        ],
        [
         "Europe",
         "Bulgaria",
         "Vegetables",
         "Online",
         "H"
        ],
        [
         "Middle East and North Africa",
         "Iran",
         "Household",
         "Offline",
         "L"
        ],
        [
         "Sub-Saharan Africa",
         "Ghana",
         "Household",
         "Online",
         "M"
        ],
        [
         "Sub-Saharan Africa",
         "Malawi",
         "Baby Food",
         "Online",
         "M"
        ],
        [
         "Sub-Saharan Africa",
         "Zimbabwe",
         "Baby Food",
         "Offline",
         "M"
        ],
        [
         "Asia",
         "Tajikistan",
         "Vegetables",
         "Online",
         "H"
        ],
        [
         "Europe",
         "Czech Republic",
         "Cereal",
         "Online",
         "H"
        ],
        [
         "Sub-Saharan Africa",
         "Mauritius ",
         "Household",
         "Online",
         "L"
        ],
        [
         "Sub-Saharan Africa",
         "Lesotho",
         "Fruits",
         "Online",
         "H"
        ],
        [
         "Sub-Saharan Africa",
         "Mali",
         "Beverages",
         "Online",
         "L"
        ],
        [
         "Europe",
         "Georgia",
         "Personal Care",
         "Online",
         "C"
        ],
        [
         "Europe",
         "Albania",
         "Office Supplies",
         "Offline",
         "M"
        ],
        [
         "Europe",
         "Cyprus",
         "Cosmetics",
         "Offline",
         "L"
        ],
        [
         "Central America and the Caribbean",
         "Saint Kitts and Nevis ",
         "Household",
         "Offline",
         "C"
        ],
        [
         "Middle East and North Africa",
         "Tunisia ",
         "Meat",
         "Offline",
         "C"
        ],
        [
         "Central America and the Caribbean",
         "Cuba",
         "Meat",
         "Online",
         "M"
        ],
        [
         "Australia and Oceania",
         "Kiribati",
         "Cereal",
         "Offline",
         "L"
        ],
        [
         "Asia",
         "Cambodia",
         "Snacks",
         "Online",
         "C"
        ],
        [
         "Europe",
         "Moldova ",
         "Baby Food",
         "Online",
         "M"
        ],
        [
         "Asia",
         "Uzbekistan",
         "Cereal",
         "Offline",
         "C"
        ],
        [
         "Asia",
         "India",
         "Cosmetics",
         "Offline",
         "L"
        ],
        [
         "Europe",
         "Germany",
         "Personal Care",
         "Offline",
         "C"
        ],
        [
         "Europe",
         "Austria",
         "Vegetables",
         "Online",
         "C"
        ],
        [
         "Europe",
         "Germany",
         "Office Supplies",
         "Offline",
         "L"
        ],
        [
         "Asia",
         "Bhutan",
         "Clothes",
         "Online",
         "M"
        ],
        [
         "Asia",
         "Kyrgyzstan",
         "Fruits",
         "Online",
         "C"
        ],
        [
         "Middle East and North Africa",
         "Somalia",
         "Personal Care",
         "Online",
         "C"
        ],
        [
         "Central America and the Caribbean",
         "Saint Lucia",
         "Household",
         "Online",
         "H"
        ],
        [
         "Europe",
         "Armenia",
         "Snacks",
         "Offline",
         "H"
        ],
        [
         "North America",
         "Canada",
         "Beverages",
         "Online",
         "C"
        ],
        [
         "Sub-Saharan Africa",
         "Burundi",
         "Cosmetics",
         "Offline",
         "H"
        ],
        [
         "Europe",
         "Liechtenstein",
         "Cereal",
         "Online",
         "L"
        ],
        [
         "Middle East and North Africa",
         "Tunisia ",
         "Snacks",
         "Offline",
         "L"
        ],
        [
         "Middle East and North Africa",
         "Iraq",
         "Beverages",
         "Online",
         "L"
        ],
        [
         "Asia",
         "Indonesia",
         "Cosmetics",
         "Offline",
         "C"
        ],
        [
         "Asia",
         "Kazakhstan",
         "Beverages",
         "Online",
         "H"
        ],
        [
         "Europe",
         "Denmark",
         "Beverages",
         "Offline",
         "C"
        ],
        [
         "Europe",
         "Luxembourg",
         "Vegetables",
         "Offline",
         "L"
        ],
        [
         "Sub-Saharan Africa",
         "Cape Verde",
         "Snacks",
         "Offline",
         "C"
        ],
        [
         "Australia and Oceania",
         "Palau",
         "Vegetables",
         "Offline",
         "C"
        ],
        [
         "Australia and Oceania",
         "Australia",
         "Vegetables",
         "Online",
         "M"
        ],
        [
         "Central America and the Caribbean",
         "Nicaragua",
         "Meat",
         "Offline",
         "L"
        ],
        [
         "Asia",
         "Laos",
         "Office Supplies",
         "Offline",
         "M"
        ],
        [
         "Central America and the Caribbean",
         "Cuba",
         "Personal Care",
         "Online",
         "L"
        ],
        [
         "Europe",
         "Moldova ",
         "Cosmetics",
         "Offline",
         "L"
        ],
        [
         "Middle East and North Africa",
         "Syria",
         "Household",
         "Online",
         "C"
        ],
        [
         "Central America and the Caribbean",
         "The Bahamas",
         "Cereal",
         "Offline",
         "M"
        ],
        [
         "Europe",
         "Belarus",
         "Snacks",
         "Offline",
         "M"
        ],
        [
         "Middle East and North Africa",
         "United Arab Emirates",
         "Clothes",
         "Offline",
         "C"
        ],
        [
         "Sub-Saharan Africa",
         "Angola",
         "Beverages",
         "Offline",
         "H"
        ],
        [
         "Central America and the Caribbean",
         "Cuba",
         "Cosmetics",
         "Offline",
         "C"
        ],
        [
         "Europe",
         "Ukraine",
         "Office Supplies",
         "Online",
         "H"
        ],
        [
         "Sub-Saharan Africa",
         "Mozambique",
         "Fruits",
         "Offline",
         "H"
        ],
        [
         "Europe",
         "Armenia",
         "Personal Care",
         "Online",
         "M"
        ],
        [
         "North America",
         "Greenland",
         "Clothes",
         "Online",
         "H"
        ],
        [
         "Central America and the Caribbean",
         "Saint Kitts and Nevis ",
         "Office Supplies",
         "Online",
         "M"
        ],
        [
         "Europe",
         "Vatican City",
         "Beverages",
         "Offline",
         "M"
        ],
        [
         "Europe",
         "Ukraine",
         "Clothes",
         "Online",
         "C"
        ],
        [
         "Sub-Saharan Africa",
         "Niger",
         "Cereal",
         "Offline",
         "L"
        ],
        [
         "Asia",
         "Myanmar",
         "Cosmetics",
         "Online",
         "L"
        ],
        [
         "Sub-Saharan Africa",
         "Guinea",
         "Baby Food",
         "Offline",
         "C"
        ],
        [
         "Sub-Saharan Africa",
         "Guinea-Bissau",
         "Snacks",
         "Online",
         "L"
        ],
        [
         "Sub-Saharan Africa",
         "South Sudan",
         "Office Supplies",
         "Online",
         "C"
        ],
        [
         "Middle East and North Africa",
         "Turkey",
         "Snacks",
         "Offline",
         "H"
        ],
        [
         "Australia and Oceania",
         "Palau",
         "Household",
         "Online",
         "M"
        ],
        [
         "Europe",
         "Poland",
         "Beverages",
         "Offline",
         "L"
        ],
        [
         "Asia",
         "Malaysia",
         "Beverages",
         "Offline",
         "L"
        ],
        [
         "North America",
         "United States of America",
         "Personal Care",
         "Offline",
         "C"
        ],
        [
         "Europe",
         "Switzerland",
         "Cosmetics",
         "Online",
         "C"
        ],
        [
         "Australia and Oceania",
         "Papua New Guinea",
         "Cosmetics",
         "Offline",
         "H"
        ],
        [
         "Sub-Saharan Africa",
         "Namibia",
         "Beverages",
         "Offline",
         "H"
        ],
        [
         "Europe",
         "Ireland",
         "Clothes",
         "Online",
         "C"
        ],
        [
         "Sub-Saharan Africa",
         "Mozambique",
         "Household",
         "Online",
         "C"
        ],
        [
         "Sub-Saharan Africa",
         "Democratic Republic of the Congo",
         "Baby Food",
         "Offline",
         "L"
        ],
        [
         "North America",
         "United States of America",
         "Meat",
         "Online",
         "M"
        ],
        [
         "Middle East and North Africa",
         "Azerbaijan",
         "Office Supplies",
         "Offline",
         "M"
        ],
        [
         "Europe",
         "Belgium",
         "Office Supplies",
         "Offline",
         "C"
        ],
        [
         "Asia",
         "Taiwan",
         "Office Supplies",
         "Offline",
         "L"
        ],
        [
         "Central America and the Caribbean",
         "Panama",
         "Baby Food",
         "Online",
         "M"
        ],
        [
         "Europe",
         "Andorra",
         "Beverages",
         "Offline",
         "H"
        ],
        [
         "Europe",
         "Georgia",
         "Household",
         "Offline",
         "H"
        ],
        [
         "Central America and the Caribbean",
         "Barbados",
         "Snacks",
         "Online",
         "C"
        ],
        [
         "Europe",
         "Sweden",
         "Personal Care",
         "Offline",
         "C"
        ],
        [
         "Middle East and North Africa",
         "Algeria",
         "Meat",
         "Offline",
         "M"
        ],
        [
         "Europe",
         "Italy",
         "Personal Care",
         "Online",
         "L"
        ],
        [
         "Europe",
         "Russia",
         "Fruits",
         "Offline",
         "L"
        ],
        [
         "Central America and the Caribbean",
         "Antigua and Barbuda ",
         "Office Supplies",
         "Offline",
         "M"
        ],
        [
         "Middle East and North Africa",
         "Jordan",
         "Fruits",
         "Online",
         "C"
        ],
        [
         "Sub-Saharan Africa",
         "Mali",
         "Meat",
         "Online",
         "L"
        ],
        [
         "Middle East and North Africa",
         "Somalia",
         "Cereal",
         "Offline",
         "C"
        ],
        [
         "Middle East and North Africa",
         "Kuwait",
         "Snacks",
         "Online",
         "L"
        ],
        [
         "Sub-Saharan Africa",
         "Liberia",
         "Office Supplies",
         "Offline",
         "C"
        ],
        [
         "Asia",
         "China",
         "Office Supplies",
         "Online",
         "C"
        ],
        [
         "Europe",
         "Andorra",
         "Meat",
         "Offline",
         "M"
        ],
        [
         "Sub-Saharan Africa",
         "Niger",
         "Beverages",
         "Online",
         "C"
        ],
        [
         "Europe",
         "Hungary",
         "Vegetables",
         "Offline",
         "M"
        ],
        [
         "Europe",
         "Monaco",
         "Clothes",
         "Offline",
         "M"
        ],
        [
         "Australia and Oceania",
         "Tuvalu",
         "Household",
         "Online",
         "L"
        ],
        [
         "Sub-Saharan Africa",
         "South Sudan",
         "Baby Food",
         "Online",
         "C"
        ],
        [
         "Europe",
         "Cyprus",
         "Cereal",
         "Offline",
         "M"
        ],
        [
         "Europe",
         "Poland",
         "Household",
         "Offline",
         "M"
        ],
        [
         "Sub-Saharan Africa",
         "Liberia",
         "Snacks",
         "Online",
         "H"
        ],
        [
         "Sub-Saharan Africa",
         "Cote d'Ivoire",
         "Vegetables",
         "Online",
         "C"
        ],
        [
         "Asia",
         "Kyrgyzstan",
         "Beverages",
         "Online",
         "C"
        ],
        [
         "Europe",
         "Slovakia",
         "Vegetables",
         "Offline",
         "L"
        ],
        [
         "Asia",
         "Malaysia",
         "Cosmetics",
         "Offline",
         "M"
        ],
        [
         "Sub-Saharan Africa",
         "Liberia",
         "Beverages",
         "Online",
         "L"
        ],
        [
         "Australia and Oceania",
         "Vanuatu",
         "Cosmetics",
         "Online",
         "H"
        ],
        [
         "Australia and Oceania",
         "Kiribati",
         "Baby Food",
         "Offline",
         "L"
        ],
        [
         "Middle East and North Africa",
         "Turkey",
         "Baby Food",
         "Online",
         "M"
        ],
        [
         "Europe",
         "San Marino",
         "Fruits",
         "Offline",
         "M"
        ],
        [
         "Europe",
         "Vatican City",
         "Snacks",
         "Offline",
         "C"
        ],
        [
         "Middle East and North Africa",
         "Morocco",
         "Beverages",
         "Offline",
         "C"
        ],
        [
         "Sub-Saharan Africa",
         "Equatorial Guinea",
         "Meat",
         "Offline",
         "L"
        ],
        [
         "Middle East and North Africa",
         "Jordan",
         "Vegetables",
         "Online",
         "M"
        ],
        [
         "Asia",
         "Kyrgyzstan",
         "Vegetables",
         "Online",
         "H"
        ],
        [
         "Sub-Saharan Africa",
         "Republic of the Congo",
         "Fruits",
         "Online",
         "L"
        ],
        [
         "Australia and Oceania",
         "East Timor",
         "Snacks",
         "Offline",
         "C"
        ],
        [
         "Europe",
         "Estonia",
         "Meat",
         "Offline",
         "H"
        ],
        [
         "Asia",
         "Bangladesh",
         "Snacks",
         "Online",
         "H"
        ],
        [
         "Sub-Saharan Africa",
         "Senegal",
         "Fruits",
         "Offline",
         "H"
        ],
        [
         "Middle East and North Africa",
         "Pakistan",
         "Fruits",
         "Offline",
         "L"
        ],
        [
         "Europe",
         "Czech Republic",
         "Beverages",
         "Online",
         "H"
        ],
        [
         "Sub-Saharan Africa",
         "Ghana",
         "Meat",
         "Offline",
         "C"
        ],
        [
         "Asia",
         "Japan",
         "Cosmetics",
         "Offline",
         "H"
        ],
        [
         "Asia",
         "Kazakhstan",
         "Baby Food",
         "Offline",
         "H"
        ],
        [
         "Central America and the Caribbean",
         "The Bahamas",
         "Snacks",
         "Offline",
         "H"
        ],
        [
         "Sub-Saharan Africa",
         "Ethiopia",
         "Household",
         "Online",
         "M"
        ],
        [
         "Sub-Saharan Africa",
         "Burkina Faso",
         "Cosmetics",
         "Offline",
         "L"
        ],
        [
         "Sub-Saharan Africa",
         "Madagascar",
         "Fruits",
         "Offline",
         "M"
        ],
        [
         "Europe",
         "Netherlands",
         "Office Supplies",
         "Online",
         "M"
        ],
        [
         "Europe",
         "Greece",
         "Vegetables",
         "Online",
         "L"
        ],
        [
         "Middle East and North Africa",
         "Egypt",
         "Meat",
         "Online",
         "C"
        ],
        [
         "Sub-Saharan Africa",
         "South Sudan",
         "Fruits",
         "Online",
         "M"
        ],
        [
         "Europe",
         "Kosovo",
         "Baby Food",
         "Online",
         "L"
        ],
        [
         "Asia",
         "Brunei",
         "Beverages",
         "Online",
         "L"
        ],
        [
         "Australia and Oceania",
         "Australia",
         "Vegetables",
         "Online",
         "C"
        ],
        [
         "Sub-Saharan Africa",
         "Cape Verde",
         "Fruits",
         "Offline",
         "H"
        ],
        [
         "Sub-Saharan Africa",
         "Malawi",
         "Household",
         "Offline",
         "H"
        ],
        [
         "Asia",
         "Philippines",
         "Personal Care",
         "Online",
         "L"
        ],
        [
         "Europe",
         "Estonia",
         "Beverages",
         "Online",
         "L"
        ],
        [
         "Central America and the Caribbean",
         "Trinidad and Tobago",
         "Office Supplies",
         "Offline",
         "L"
        ],
        [
         "Asia",
         "Mongolia",
         "Household",
         "Online",
         "C"
        ],
        [
         "Asia",
         "Japan",
         "Personal Care",
         "Offline",
         "M"
        ],
        [
         "Sub-Saharan Africa",
         "Niger",
         "Meat",
         "Online",
         "C"
        ],
        [
         "Middle East and North Africa",
         "Egypt",
         "Baby Food",
         "Offline",
         "M"
        ],
        [
         "Central America and the Caribbean",
         "Saint Lucia",
         "Vegetables",
         "Online",
         "C"
        ],
        [
         "Middle East and North Africa",
         "Qatar",
         "Cereal",
         "Offline",
         "C"
        ],
        [
         "Sub-Saharan Africa",
         "Mali",
         "Fruits",
         "Offline",
         "H"
        ],
        [
         "Central America and the Caribbean",
         "Saint Lucia",
         "Cosmetics",
         "Online",
         "L"
        ],
        [
         "Sub-Saharan Africa",
         "Swaziland",
         "Clothes",
         "Offline",
         "M"
        ],
        [
         "Asia",
         "Mongolia",
         "Fruits",
         "Online",
         "M"
        ],
        [
         "Sub-Saharan Africa",
         "Botswana",
         "Office Supplies",
         "Online",
         "C"
        ],
        [
         "Europe",
         "San Marino",
         "Cosmetics",
         "Online",
         "H"
        ],
        [
         "Middle East and North Africa",
         "Oman",
         "Fruits",
         "Online",
         "C"
        ],
        [
         "Asia",
         "Bangladesh",
         "Office Supplies",
         "Offline",
         "C"
        ],
        [
         "Sub-Saharan Africa",
         "Namibia",
         "Cosmetics",
         "Offline",
         "C"
        ],
        [
         "Asia",
         "Mongolia",
         "Fruits",
         "Online",
         "M"
        ],
        [
         "Asia",
         "North Korea",
         "Beverages",
         "Online",
         "C"
        ],
        [
         "Europe",
         "Latvia",
         "Clothes",
         "Online",
         "M"
        ],
        [
         "Sub-Saharan Africa",
         "Burundi",
         "Snacks",
         "Offline",
         "M"
        ],
        [
         "Sub-Saharan Africa",
         "Seychelles ",
         "Personal Care",
         "Online",
         "C"
        ],
        [
         "Sub-Saharan Africa",
         "Kenya",
         "Cereal",
         "Online",
         "H"
        ],
        [
         "Sub-Saharan Africa",
         "Benin",
         "Office Supplies",
         "Online",
         "C"
        ],
        [
         "Central America and the Caribbean",
         "Saint Lucia",
         "Personal Care",
         "Online",
         "C"
        ],
        [
         "Middle East and North Africa",
         "Qatar",
         "Meat",
         "Online",
         "H"
        ],
        [
         "Sub-Saharan Africa",
         "Mozambique",
         "Beverages",
         "Online",
         "C"
        ],
        [
         "Middle East and North Africa",
         "Pakistan",
         "Clothes",
         "Offline",
         "M"
        ],
        [
         "Asia",
         "Taiwan",
         "Personal Care",
         "Online",
         "M"
        ],
        [
         "Central America and the Caribbean",
         "Cuba",
         "Cereal",
         "Offline",
         "L"
        ],
        [
         "Central America and the Caribbean",
         "Cuba",
         "Household",
         "Offline",
         "H"
        ],
        [
         "Europe",
         "Russia",
         "Beverages",
         "Offline",
         "C"
        ],
        [
         "Europe",
         "Switzerland",
         "Cereal",
         "Offline",
         "C"
        ],
        [
         "Europe",
         "Czech Republic",
         "Personal Care",
         "Offline",
         "H"
        ],
        [
         "Europe",
         "Poland",
         "Meat",
         "Offline",
         "C"
        ],
        [
         "Sub-Saharan Africa",
         "Mauritius ",
         "Cereal",
         "Offline",
         "L"
        ],
        [
         "Middle East and North Africa",
         "Pakistan",
         "Vegetables",
         "Offline",
         "M"
        ],
        [
         "Sub-Saharan Africa",
         "South Africa",
         "Fruits",
         "Offline",
         "L"
        ],
        [
         "Sub-Saharan Africa",
         "Seychelles ",
         "Household",
         "Online",
         "C"
        ],
        [
         "Sub-Saharan Africa",
         "Benin",
         "Meat",
         "Offline",
         "M"
        ],
        [
         "Sub-Saharan Africa",
         "Benin",
         "Meat",
         "Offline",
         "L"
        ],
        [
         "Central America and the Caribbean",
         "Nicaragua",
         "Fruits",
         "Online",
         "M"
        ],
        [
         "Middle East and North Africa",
         "Lebanon",
         "Office Supplies",
         "Online",
         "L"
        ],
        [
         "Europe",
         "Moldova ",
         "Meat",
         "Online",
         "M"
        ],
        [
         "Middle East and North Africa",
         "Tunisia ",
         "Snacks",
         "Online",
         "H"
        ],
        [
         "Australia and Oceania",
         "Vanuatu",
         "Beverages",
         "Offline",
         "M"
        ],
        [
         "Sub-Saharan Africa",
         "South Sudan",
         "Beverages",
         "Online",
         "C"
        ],
        [
         "Europe",
         "Sweden",
         "Cereal",
         "Online",
         "L"
        ],
        [
         "Europe",
         "Ireland",
         "Meat",
         "Offline",
         "C"
        ],
        [
         "Europe",
         "Italy",
         "Vegetables",
         "Offline",
         "L"
        ],
        [
         "Europe",
         "Bosnia and Herzegovina",
         "Vegetables",
         "Online",
         "C"
        ],
        [
         "Europe",
         "Bosnia and Herzegovina",
         "Household",
         "Online",
         "H"
        ],
        [
         "Europe",
         "Poland",
         "Snacks",
         "Offline",
         "M"
        ],
        [
         "Middle East and North Africa",
         "Kuwait",
         "Snacks",
         "Online",
         "H"
        ],
        [
         "Sub-Saharan Africa",
         "Sudan",
         "Cereal",
         "Online",
         "M"
        ],
        [
         "Middle East and North Africa",
         "Saudi Arabia",
         "Vegetables",
         "Online",
         "C"
        ],
        [
         "Sub-Saharan Africa",
         "Swaziland",
         "Baby Food",
         "Offline",
         "M"
        ],
        [
         "Sub-Saharan Africa",
         "Rwanda",
         "Meat",
         "Offline",
         "C"
        ],
        [
         "Asia",
         "Cambodia",
         "Cosmetics",
         "Offline",
         "M"
        ],
        [
         "Sub-Saharan Africa",
         "Central African Republic",
         "Vegetables",
         "Online",
         "C"
        ],
        [
         "Asia",
         "Maldives",
         "Cosmetics",
         "Offline",
         "M"
        ],
        [
         "Sub-Saharan Africa",
         "Djibouti",
         "Household",
         "Offline",
         "C"
        ],
        [
         "Asia",
         "Tajikistan",
         "Beverages",
         "Online",
         "M"
        ],
        [
         "Asia",
         "Sri Lanka",
         "Baby Food",
         "Online",
         "H"
        ],
        [
         "Europe",
         "Montenegro",
         "Personal Care",
         "Online",
         "M"
        ],
        [
         "Middle East and North Africa",
         "United Arab Emirates",
         "Personal Care",
         "Online",
         "H"
        ],
        [
         "Central America and the Caribbean",
         "Dominican Republic",
         "Personal Care",
         "Offline",
         "C"
        ],
        [
         "Sub-Saharan Africa",
         "Seychelles ",
         "Office Supplies",
         "Offline",
         "C"
        ],
        [
         "Europe",
         "Iceland",
         "Office Supplies",
         "Online",
         "C"
        ],
        [
         "Sub-Saharan Africa",
         "Nigeria",
         "Vegetables",
         "Offline",
         "C"
        ],
        [
         "Sub-Saharan Africa",
         "Rwanda",
         "Fruits",
         "Online",
         "H"
        ],
        [
         "Europe",
         "Hungary",
         "Snacks",
         "Offline",
         "C"
        ],
        [
         "Europe",
         "Belarus",
         "Baby Food",
         "Online",
         "L"
        ],
        [
         "Sub-Saharan Africa",
         "South Sudan",
         "Cosmetics",
         "Offline",
         "H"
        ],
        [
         "Europe",
         "Andorra",
         "Vegetables",
         "Online",
         "M"
        ],
        [
         "Asia",
         "Japan",
         "Meat",
         "Offline",
         "M"
        ],
        [
         "Central America and the Caribbean",
         "El Salvador",
         "Meat",
         "Offline",
         "L"
        ],
        [
         "Sub-Saharan Africa",
         "Kenya",
         "Office Supplies",
         "Offline",
         "L"
        ],
        [
         "Europe",
         "Bosnia and Herzegovina",
         "Snacks",
         "Online",
         "M"
        ],
        [
         "Europe",
         "Andorra",
         "Personal Care",
         "Online",
         "M"
        ],
        [
         "Sub-Saharan Africa",
         "Cape Verde",
         "Cosmetics",
         "Online",
         "H"
        ],
        [
         "Australia and Oceania",
         "Nauru",
         "Fruits",
         "Online",
         "L"
        ],
        [
         "Europe",
         "Czech Republic",
         "Cereal",
         "Offline",
         "H"
        ],
        [
         "Europe",
         "Serbia",
         "Vegetables",
         "Online",
         "L"
        ],
        [
         "Australia and Oceania",
         "Tuvalu",
         "Cereal",
         "Offline",
         "C"
        ],
        [
         "Sub-Saharan Africa",
         "Madagascar",
         "Clothes",
         "Offline",
         "H"
        ],
        [
         "Sub-Saharan Africa",
         "Ethiopia",
         "Vegetables",
         "Online",
         "C"
        ],
        [
         "Asia",
         "Malaysia",
         "Baby Food",
         "Offline",
         "L"
        ],
        [
         "Sub-Saharan Africa",
         "Tanzania",
         "Household",
         "Offline",
         "C"
        ],
        [
         "Sub-Saharan Africa",
         "Cote d'Ivoire",
         "Vegetables",
         "Offline",
         "M"
        ],
        [
         "Australia and Oceania",
         "Solomon Islands",
         "Clothes",
         "Offline",
         "M"
        ],
        [
         "Europe",
         "Netherlands",
         "Clothes",
         "Online",
         "H"
        ],
        [
         "Sub-Saharan Africa",
         "Mali",
         "Baby Food",
         "Offline",
         "M"
        ],
        [
         "Middle East and North Africa",
         "Afghanistan",
         "Cereal",
         "Offline",
         "C"
        ],
        [
         "Europe",
         "Moldova ",
         "Personal Care",
         "Online",
         "C"
        ],
        [
         "Asia",
         "Bhutan",
         "Snacks",
         "Online",
         "H"
        ],
        [
         "Asia",
         "Vietnam",
         "Vegetables",
         "Offline",
         "M"
        ],
        [
         "Europe",
         "Portugal",
         "Vegetables",
         "Online",
         "H"
        ],
        [
         "Europe",
         "Spain",
         "Baby Food",
         "Online",
         "M"
        ],
        [
         "Middle East and North Africa",
         "Egypt",
         "Meat",
         "Offline",
         "C"
        ],
        [
         "Europe",
         "Belgium",
         "Snacks",
         "Online",
         "C"
        ],
        [
         "Asia",
         "Malaysia",
         "Cosmetics",
         "Offline",
         "H"
        ],
        [
         "Central America and the Caribbean",
         "Dominican Republic",
         "Cosmetics",
         "Offline",
         "C"
        ],
        [
         "Europe",
         "Estonia",
         "Beverages",
         "Offline",
         "H"
        ],
        [
         "Sub-Saharan Africa",
         "Burundi",
         "Snacks",
         "Offline",
         "C"
        ],
        [
         "Europe",
         "Latvia",
         "Beverages",
         "Online",
         "M"
        ],
        [
         "Asia",
         "Tajikistan",
         "Meat",
         "Offline",
         "M"
        ],
        [
         "Sub-Saharan Africa",
         "Zimbabwe",
         "Fruits",
         "Offline",
         "H"
        ],
        [
         "Sub-Saharan Africa",
         "Comoros",
         "Meat",
         "Offline",
         "L"
        ],
        [
         "Sub-Saharan Africa",
         "Namibia",
         "Clothes",
         "Online",
         "L"
        ],
        [
         "Europe",
         "Slovenia",
         "Cereal",
         "Offline",
         "H"
        ],
        [
         "Europe",
         "Bulgaria",
         "Snacks",
         "Offline",
         "L"
        ],
        [
         "Sub-Saharan Africa",
         "Guinea-Bissau",
         "Cereal",
         "Online",
         "L"
        ],
        [
         "Sub-Saharan Africa",
         "Lesotho",
         "Beverages",
         "Offline",
         "L"
        ],
        [
         "Asia",
         "Sri Lanka",
         "Cosmetics",
         "Offline",
         "L"
        ],
        [
         "Australia and Oceania",
         "East Timor",
         "Snacks",
         "Online",
         "H"
        ],
        [
         "Europe",
         "Belarus",
         "Household",
         "Online",
         "M"
        ],
        [
         "Sub-Saharan Africa",
         "Benin",
         "Meat",
         "Offline",
         "H"
        ],
        [
         "Europe",
         "Ireland",
         "Beverages",
         "Offline",
         "L"
        ],
        [
         "Middle East and North Africa",
         "Iran",
         "Meat",
         "Offline",
         "H"
        ],
        [
         "Sub-Saharan Africa",
         "Benin",
         "Household",
         "Offline",
         "C"
        ],
        [
         "Sub-Saharan Africa",
         "South Sudan",
         "Beverages",
         "Online",
         "L"
        ],
        [
         "Sub-Saharan Africa",
         "Comoros",
         "Personal Care",
         "Online",
         "L"
        ],
        [
         "Europe",
         "Poland",
         "Baby Food",
         "Online",
         "H"
        ],
        [
         "Europe",
         "Bosnia and Herzegovina",
         "Cosmetics",
         "Offline",
         "C"
        ],
        [
         "Sub-Saharan Africa",
         "Namibia",
         "Vegetables",
         "Offline",
         "C"
        ],
        [
         "Europe",
         "Spain",
         "Office Supplies",
         "Offline",
         "C"
        ],
        [
         "Middle East and North Africa",
         "Iran",
         "Meat",
         "Online",
         "C"
        ],
        [
         "Central America and the Caribbean",
         "Guatemala",
         "Office Supplies",
         "Offline",
         "C"
        ],
        [
         "Australia and Oceania",
         "East Timor",
         "Beverages",
         "Online",
         "C"
        ],
        [
         "Middle East and North Africa",
         "Bahrain",
         "Household",
         "Online",
         "H"
        ],
        [
         "Sub-Saharan Africa",
         "Ethiopia",
         "Office Supplies",
         "Online",
         "L"
        ],
        [
         "Australia and Oceania",
         "Solomon Islands",
         "Personal Care",
         "Offline",
         "M"
        ],
        [
         "Central America and the Caribbean",
         "Belize",
         "Snacks",
         "Online",
         "C"
        ],
        [
         "Asia",
         "Sri Lanka",
         "Office Supplies",
         "Online",
         "C"
        ],
        [
         "Central America and the Caribbean",
         "Costa Rica",
         "Clothes",
         "Offline",
         "H"
        ],
        [
         "Sub-Saharan Africa",
         "Nigeria",
         "Baby Food",
         "Online",
         "L"
        ],
        [
         "Middle East and North Africa",
         "Iran",
         "Office Supplies",
         "Online",
         "L"
        ],
        [
         "Sub-Saharan Africa",
         "Djibouti",
         "Baby Food",
         "Online",
         "C"
        ],
        [
         "Asia",
         "South Korea",
         "Snacks",
         "Online",
         "L"
        ],
        [
         "Central America and the Caribbean",
         "Dominica",
         "Snacks",
         "Offline",
         "L"
        ],
        [
         "Asia",
         "Vietnam",
         "Snacks",
         "Online",
         "L"
        ],
        [
         "Europe",
         "Norway",
         "Personal Care",
         "Offline",
         "H"
        ],
        [
         "Central America and the Caribbean",
         "Haiti",
         "Beverages",
         "Online",
         "C"
        ],
        [
         "Central America and the Caribbean",
         "Jamaica",
         "Fruits",
         "Offline",
         "L"
        ],
        [
         "Sub-Saharan Africa",
         "Sudan",
         "Vegetables",
         "Offline",
         "M"
        ],
        [
         "Sub-Saharan Africa",
         "Angola",
         "Meat",
         "Offline",
         "L"
        ],
        [
         "Central America and the Caribbean",
         "Panama",
         "Cosmetics",
         "Offline",
         "M"
        ],
        [
         "Europe",
         "Greece",
         "Personal Care",
         "Online",
         "M"
        ],
        [
         "Sub-Saharan Africa",
         "Madagascar",
         "Cereal",
         "Offline",
         "H"
        ],
        [
         "Sub-Saharan Africa",
         "Guinea-Bissau",
         "Clothes",
         "Online",
         "L"
        ],
        [
         "North America",
         "Greenland",
         "Clothes",
         "Online",
         "L"
        ],
        [
         "Middle East and North Africa",
         "Libya",
         "Beverages",
         "Offline",
         "H"
        ],
        [
         "Europe",
         "Belarus",
         "Vegetables",
         "Offline",
         "C"
        ],
        [
         "Middle East and North Africa",
         "Lebanon",
         "Clothes",
         "Offline",
         "H"
        ],
        [
         "Sub-Saharan Africa",
         "Djibouti",
         "Baby Food",
         "Offline",
         "H"
        ],
        [
         "Central America and the Caribbean",
         "Barbados",
         "Personal Care",
         "Online",
         "C"
        ],
        [
         "Sub-Saharan Africa",
         "Guinea-Bissau",
         "Vegetables",
         "Online",
         "L"
        ],
        [
         "Europe",
         "Finland",
         "Personal Care",
         "Offline",
         "C"
        ],
        [
         "Central America and the Caribbean",
         "Haiti",
         "Baby Food",
         "Offline",
         "L"
        ],
        [
         "Sub-Saharan Africa",
         "Niger",
         "Clothes",
         "Offline",
         "M"
        ],
        [
         "Central America and the Caribbean",
         "Trinidad and Tobago",
         "Fruits",
         "Offline",
         "L"
        ],
        [
         "Central America and the Caribbean",
         "Grenada",
         "Personal Care",
         "Online",
         "M"
        ],
        [
         "Central America and the Caribbean",
         "Dominican Republic",
         "Cereal",
         "Offline",
         "H"
        ],
        [
         "Europe",
         "Monaco",
         "Household",
         "Offline",
         "C"
        ],
        [
         "Europe",
         "Estonia",
         "Vegetables",
         "Online",
         "L"
        ],
        [
         "Europe",
         "Italy",
         "Beverages",
         "Offline",
         "H"
        ],
        [
         "Asia",
         "Malaysia",
         "Office Supplies",
         "Online",
         "C"
        ],
        [
         "Sub-Saharan Africa",
         "Ghana",
         "Office Supplies",
         "Offline",
         "L"
        ],
        [
         "Middle East and North Africa",
         "Pakistan",
         "Clothes",
         "Offline",
         "C"
        ],
        [
         "Asia",
         "Sri Lanka",
         "Snacks",
         "Offline",
         "L"
        ],
        [
         "Europe",
         "Romania",
         "Fruits",
         "Offline",
         "C"
        ],
        [
         "Middle East and North Africa",
         "Qatar",
         "Office Supplies",
         "Online",
         "H"
        ],
        [
         "Sub-Saharan Africa",
         "Cote d'Ivoire",
         "Clothes",
         "Online",
         "H"
        ],
        [
         "Middle East and North Africa",
         "Egypt",
         "Office Supplies",
         "Online",
         "M"
        ],
        [
         "Middle East and North Africa",
         "Iran",
         "Snacks",
         "Offline",
         "H"
        ],
        [
         "Middle East and North Africa",
         "Somalia",
         "Clothes",
         "Online",
         "C"
        ],
        [
         "Middle East and North Africa",
         "Syria",
         "Personal Care",
         "Offline",
         "C"
        ],
        [
         "Australia and Oceania",
         "Solomon Islands",
         "Cereal",
         "Offline",
         "C"
        ],
        [
         "Central America and the Caribbean",
         "Guatemala",
         "Fruits",
         "Online",
         "M"
        ],
        [
         "Middle East and North Africa",
         "Kuwait",
         "Clothes",
         "Offline",
         "C"
        ],
        [
         "Middle East and North Africa",
         "Jordan",
         "Meat",
         "Online",
         "L"
        ],
        [
         "Australia and Oceania",
         "Marshall Islands",
         "Beverages",
         "Offline",
         "H"
        ],
        [
         "Middle East and North Africa",
         "Egypt",
         "Snacks",
         "Offline",
         "C"
        ],
        [
         "Europe",
         "Switzerland",
         "Meat",
         "Online",
         "C"
        ],
        [
         "Australia and Oceania",
         "Samoa ",
         "Personal Care",
         "Online",
         "C"
        ],
        [
         "Europe",
         "Portugal",
         "Cosmetics",
         "Offline",
         "C"
        ],
        [
         "Europe",
         "Albania",
         "Clothes",
         "Offline",
         "C"
        ],
        [
         "Central America and the Caribbean",
         "Dominica",
         "Vegetables",
         "Offline",
         "C"
        ],
        [
         "Australia and Oceania",
         "Tuvalu",
         "Cosmetics",
         "Online",
         "H"
        ],
        [
         "Australia and Oceania",
         "Marshall Islands",
         "Cereal",
         "Online",
         "L"
        ],
        [
         "Europe",
         "Bulgaria",
         "Fruits",
         "Online",
         "H"
        ],
        [
         "Sub-Saharan Africa",
         "Niger",
         "Office Supplies",
         "Offline",
         "M"
        ],
        [
         "Central America and the Caribbean",
         "Saint Vincent and the Grenadines",
         "Office Supplies",
         "Offline",
         "H"
        ],
        [
         "Sub-Saharan Africa",
         "Malawi",
         "Beverages",
         "Offline",
         "L"
        ],
        [
         "Sub-Saharan Africa",
         "Cape Verde",
         "Personal Care",
         "Offline",
         "L"
        ],
        [
         "Central America and the Caribbean",
         "Saint Vincent and the Grenadines",
         "Beverages",
         "Offline",
         "C"
        ],
        [
         "Europe",
         "Greece",
         "Personal Care",
         "Offline",
         "H"
        ],
        [
         "Europe",
         "Monaco",
         "Clothes",
         "Online",
         "L"
        ],
        [
         "Sub-Saharan Africa",
         "Nigeria",
         "Beverages",
         "Online",
         "L"
        ],
        [
         "Europe",
         "Norway",
         "Cosmetics",
         "Offline",
         "C"
        ],
        [
         "North America",
         "Greenland",
         "Snacks",
         "Offline",
         "L"
        ],
        [
         "Middle East and North Africa",
         "Tunisia ",
         "Beverages",
         "Online",
         "L"
        ],
        [
         "Asia",
         "Uzbekistan",
         "Meat",
         "Offline",
         "H"
        ],
        [
         "Central America and the Caribbean",
         "Saint Kitts and Nevis ",
         "Vegetables",
         "Online",
         "H"
        ],
        [
         "Central America and the Caribbean",
         "Belize",
         "Meat",
         "Online",
         "L"
        ],
        [
         "Sub-Saharan Africa",
         "Angola",
         "Personal Care",
         "Online",
         "H"
        ],
        [
         "Asia",
         "Bhutan",
         "Meat",
         "Online",
         "C"
        ],
        [
         "Central America and the Caribbean",
         "Honduras",
         "Personal Care",
         "Offline",
         "L"
        ],
        [
         "Sub-Saharan Africa",
         "South Sudan",
         "Household",
         "Offline",
         "H"
        ],
        [
         "Asia",
         "Kyrgyzstan",
         "Baby Food",
         "Online",
         "L"
        ],
        [
         "Sub-Saharan Africa",
         "Sao Tome and Principe",
         "Cosmetics",
         "Offline",
         "M"
        ],
        [
         "Sub-Saharan Africa",
         "Madagascar",
         "Fruits",
         "Online",
         "M"
        ],
        [
         "Sub-Saharan Africa",
         "Senegal",
         "Household",
         "Online",
         "H"
        ],
        [
         "Sub-Saharan Africa",
         "Sierra Leone",
         "Office Supplies",
         "Online",
         "C"
        ],
        [
         "Asia",
         "Malaysia",
         "Household",
         "Offline",
         "H"
        ],
        [
         "Central America and the Caribbean",
         "Cuba",
         "Office Supplies",
         "Online",
         "C"
        ],
        [
         "Sub-Saharan Africa",
         "Zimbabwe",
         "Personal Care",
         "Offline",
         "L"
        ],
        [
         "Europe",
         "Serbia",
         "Beverages",
         "Online",
         "H"
        ],
        [
         "Asia",
         "Maldives",
         "Vegetables",
         "Offline",
         "M"
        ],
        [
         "Europe",
         "Ireland",
         "Office Supplies",
         "Offline",
         "M"
        ],
        [
         "Europe",
         "Romania",
         "Clothes",
         "Offline",
         "L"
        ],
        [
         "Europe",
         "Croatia",
         "Beverages",
         "Online",
         "M"
        ],
        [
         "Europe",
         "Albania",
         "Vegetables",
         "Offline",
         "M"
        ],
        [
         "Central America and the Caribbean",
         "Dominican Republic",
         "Vegetables",
         "Offline",
         "L"
        ],
        [
         "Sub-Saharan Africa",
         "Zimbabwe",
         "Vegetables",
         "Online",
         "M"
        ],
        [
         "Sub-Saharan Africa",
         "Ghana",
         "Office Supplies",
         "Offline",
         "L"
        ],
        [
         "Asia",
         "Laos",
         "Beverages",
         "Online",
         "H"
        ],
        [
         "Central America and the Caribbean",
         "Panama",
         "Personal Care",
         "Offline",
         "M"
        ],
        [
         "Sub-Saharan Africa",
         "Angola",
         "Household",
         "Online",
         "L"
        ],
        [
         "Middle East and North Africa",
         "Syria",
         "Snacks",
         "Offline",
         "L"
        ],
        [
         "Sub-Saharan Africa",
         "Sierra Leone",
         "Cosmetics",
         "Offline",
         "H"
        ],
        [
         "Sub-Saharan Africa",
         "Uganda",
         "Fruits",
         "Online",
         "L"
        ],
        [
         "Asia",
         "Taiwan",
         "Clothes",
         "Offline",
         "M"
        ],
        [
         "Middle East and North Africa",
         "Azerbaijan",
         "Vegetables",
         "Online",
         "C"
        ],
        [
         "Asia",
         "Maldives",
         "Office Supplies",
         "Online",
         "H"
        ],
        [
         "Sub-Saharan Africa",
         "Mauritania",
         "Meat",
         "Offline",
         "H"
        ],
        [
         "Sub-Saharan Africa",
         "Burundi",
         "Baby Food",
         "Online",
         "H"
        ],
        [
         "Sub-Saharan Africa",
         "Zambia",
         "Baby Food",
         "Offline",
         "H"
        ],
        [
         "Asia",
         "Singapore",
         "Beverages",
         "Offline",
         "L"
        ],
        [
         "Sub-Saharan Africa",
         "Ghana",
         "Household",
         "Online",
         "L"
        ],
        [
         "Sub-Saharan Africa",
         "Guinea",
         "Meat",
         "Offline",
         "M"
        ],
        [
         "Sub-Saharan Africa",
         "Zambia",
         "Fruits",
         "Online",
         "L"
        ],
        [
         "Europe",
         "Georgia",
         "Snacks",
         "Online",
         "C"
        ],
        [
         "Middle East and North Africa",
         "Bahrain",
         "Baby Food",
         "Online",
         "M"
        ],
        [
         "Sub-Saharan Africa",
         "Lesotho",
         "Personal Care",
         "Offline",
         "M"
        ],
        [
         "Central America and the Caribbean",
         "Barbados",
         "Cosmetics",
         "Offline",
         "H"
        ],
        [
         "Middle East and North Africa",
         "Saudi Arabia",
         "Vegetables",
         "Online",
         "H"
        ],
        [
         "Europe",
         "Macedonia",
         "Personal Care",
         "Offline",
         "H"
        ],
        [
         "Asia",
         "Turkmenistan",
         "Office Supplies",
         "Offline",
         "M"
        ],
        [
         "Europe",
         "Albania",
         "Baby Food",
         "Online",
         "L"
        ],
        [
         "Middle East and North Africa",
         "Afghanistan",
         "Clothes",
         "Online",
         "C"
        ],
        [
         "Australia and Oceania",
         "Kiribati",
         "Clothes",
         "Offline",
         "M"
        ],
        [
         "Middle East and North Africa",
         "Morocco",
         "Cosmetics",
         "Online",
         "C"
        ],
        [
         "Europe",
         "Norway",
         "Baby Food",
         "Offline",
         "L"
        ],
        [
         "Europe",
         "Sweden",
         "Cosmetics",
         "Online",
         "L"
        ],
        [
         "Asia",
         "Tajikistan",
         "Personal Care",
         "Online",
         "M"
        ],
        [
         "Europe",
         "Netherlands",
         "Cosmetics",
         "Online",
         "M"
        ],
        [
         "Europe",
         "Spain",
         "Vegetables",
         "Online",
         "L"
        ],
        [
         "Sub-Saharan Africa",
         "Chad",
         "Baby Food",
         "Offline",
         "H"
        ],
        [
         "Europe",
         "Ireland",
         "Meat",
         "Online",
         "C"
        ],
        [
         "Middle East and North Africa",
         "Pakistan",
         "Meat",
         "Online",
         "C"
        ],
        [
         "Sub-Saharan Africa",
         "Mozambique",
         "Fruits",
         "Online",
         "C"
        ],
        [
         "Middle East and North Africa",
         "Bahrain",
         "Fruits",
         "Online",
         "L"
        ],
        [
         "Asia",
         "Tajikistan",
         "Meat",
         "Online",
         "M"
        ],
        [
         "Australia and Oceania",
         "New Zealand",
         "Meat",
         "Offline",
         "H"
        ],
        [
         "Sub-Saharan Africa",
         "Niger",
         "Baby Food",
         "Online",
         "L"
        ],
        [
         "Europe",
         "Armenia",
         "Fruits",
         "Online",
         "C"
        ],
        [
         "Sub-Saharan Africa",
         "Gabon",
         "Baby Food",
         "Online",
         "L"
        ],
        [
         "Asia",
         "Kyrgyzstan",
         "Vegetables",
         "Offline",
         "H"
        ],
        [
         "Australia and Oceania",
         "Fiji",
         "Clothes",
         "Offline",
         "L"
        ],
        [
         "Europe",
         "Romania",
         "Cosmetics",
         "Online",
         "H"
        ],
        [
         "Sub-Saharan Africa",
         "Botswana",
         "Cereal",
         "Online",
         "C"
        ],
        [
         "Australia and Oceania",
         "Fiji",
         "Cosmetics",
         "Online",
         "M"
        ],
        [
         "Europe",
         "Vatican City",
         "Clothes",
         "Offline",
         "C"
        ],
        [
         "Asia",
         "Thailand",
         "Vegetables",
         "Online",
         "L"
        ],
        [
         "Europe",
         "Belarus",
         "Cereal",
         "Offline",
         "C"
        ],
        [
         "Australia and Oceania",
         "Solomon Islands",
         "Vegetables",
         "Offline",
         "L"
        ],
        [
         "Asia",
         "China",
         "Cosmetics",
         "Offline",
         "M"
        ],
        [
         "Sub-Saharan Africa",
         "Angola",
         "Snacks",
         "Online",
         "C"
        ],
        [
         "Asia",
         "Cambodia",
         "Cereal",
         "Online",
         "L"
        ],
        [
         "Central America and the Caribbean",
         "Guatemala",
         "Baby Food",
         "Offline",
         "L"
        ],
        [
         "Sub-Saharan Africa",
         "Namibia",
         "Vegetables",
         "Online",
         "L"
        ],
        [
         "Europe",
         "Serbia",
         "Beverages",
         "Offline",
         "H"
        ],
        [
         "Middle East and North Africa",
         "Turkey",
         "Vegetables",
         "Offline",
         "M"
        ],
        [
         "Middle East and North Africa",
         "Pakistan",
         "Vegetables",
         "Offline",
         "C"
        ],
        [
         "Europe",
         "Georgia",
         "Vegetables",
         "Offline",
         "H"
        ],
        [
         "Australia and Oceania",
         "Vanuatu",
         "Snacks",
         "Offline",
         "L"
        ],
        [
         "Europe",
         "Luxembourg",
         "Cosmetics",
         "Online",
         "H"
        ],
        [
         "Middle East and North Africa",
         "Saudi Arabia",
         "Household",
         "Online",
         "M"
        ],
        [
         "Australia and Oceania",
         "Vanuatu",
         "Meat",
         "Offline",
         "H"
        ],
        [
         "Central America and the Caribbean",
         "Haiti",
         "Snacks",
         "Offline",
         "H"
        ],
        [
         "Sub-Saharan Africa",
         "Tanzania",
         "Household",
         "Offline",
         "C"
        ],
        [
         "Asia",
         "North Korea",
         "Cosmetics",
         "Offline",
         "C"
        ],
        [
         "Middle East and North Africa",
         "Bahrain",
         "Beverages",
         "Online",
         "L"
        ],
        [
         "Sub-Saharan Africa",
         "Cote d'Ivoire",
         "Cereal",
         "Online",
         "L"
        ],
        [
         "Asia",
         "Singapore",
         "Cosmetics",
         "Offline",
         "L"
        ],
        [
         "Asia",
         "Malaysia",
         "Baby Food",
         "Offline",
         "M"
        ],
        [
         "Europe",
         "Albania",
         "Baby Food",
         "Online",
         "L"
        ],
        [
         "Sub-Saharan Africa",
         "Gabon",
         "Snacks",
         "Online",
         "L"
        ],
        [
         "Europe",
         "Poland",
         "Snacks",
         "Offline",
         "L"
        ],
        [
         "Sub-Saharan Africa",
         "Chad",
         "Office Supplies",
         "Online",
         "H"
        ],
        [
         "Sub-Saharan Africa",
         "Republic of the Congo",
         "Clothes",
         "Online",
         "H"
        ],
        [
         "Asia",
         "Philippines",
         "Fruits",
         "Offline",
         "L"
        ],
        [
         "Europe",
         "France",
         "Snacks",
         "Offline",
         "M"
        ],
        [
         "Europe",
         "Germany",
         "Household",
         "Offline",
         "H"
        ],
        [
         "Sub-Saharan Africa",
         "Uganda",
         "Personal Care",
         "Online",
         "M"
        ],
        [
         "Middle East and North Africa",
         "Bahrain",
         "Personal Care",
         "Online",
         "C"
        ],
        [
         "Middle East and North Africa",
         "Jordan",
         "Office Supplies",
         "Offline",
         "M"
        ],
        [
         "Europe",
         "Montenegro",
         "Beverages",
         "Offline",
         "L"
        ],
        [
         "Middle East and North Africa",
         "Tunisia ",
         "Personal Care",
         "Offline",
         "H"
        ],
        [
         "Europe",
         "Germany",
         "Cereal",
         "Offline",
         "M"
        ],
        [
         "Europe",
         "Italy",
         "Snacks",
         "Online",
         "L"
        ],
        [
         "Europe",
         "France",
         "Office Supplies",
         "Offline",
         "H"
        ],
        [
         "Middle East and North Africa",
         "Algeria",
         "Baby Food",
         "Online",
         "L"
        ],
        [
         "Asia",
         "Myanmar",
         "Beverages",
         "Online",
         "H"
        ],
        [
         "Europe",
         "France",
         "Vegetables",
         "Offline",
         "C"
        ],
        [
         "Europe",
         "Spain",
         "Vegetables",
         "Online",
         "C"
        ],
        [
         "Asia",
         "Cambodia",
         "Baby Food",
         "Offline",
         "C"
        ],
        [
         "Sub-Saharan Africa",
         "The Gambia",
         "Vegetables",
         "Online",
         "M"
        ],
        [
         "Europe",
         "Russia",
         "Baby Food",
         "Offline",
         "L"
        ],
        [
         "Europe",
         "Belarus",
         "Baby Food",
         "Offline",
         "H"
        ],
        [
         "Middle East and North Africa",
         "Turkey",
         "Beverages",
         "Online",
         "C"
        ],
        [
         "Sub-Saharan Africa",
         "Kenya",
         "Meat",
         "Offline",
         "C"
        ],
        [
         "Middle East and North Africa",
         "Iran",
         "Cosmetics",
         "Offline",
         "M"
        ],
        [
         "Asia",
         "Vietnam",
         "Personal Care",
         "Offline",
         "L"
        ],
        [
         "Europe",
         "Albania",
         "Beverages",
         "Online",
         "L"
        ],
        [
         "Central America and the Caribbean",
         "Antigua and Barbuda ",
         "Clothes",
         "Offline",
         "C"
        ],
        [
         "Sub-Saharan Africa",
         "Senegal",
         "Cereal",
         "Offline",
         "M"
        ],
        [
         "Europe",
         "Netherlands",
         "Fruits",
         "Online",
         "L"
        ],
        [
         "Europe",
         "Russia",
         "Fruits",
         "Online",
         "C"
        ],
        [
         "Europe",
         "Slovakia",
         "Cosmetics",
         "Online",
         "H"
        ],
        [
         "Australia and Oceania",
         "East Timor",
         "Beverages",
         "Offline",
         "L"
        ],
        [
         "Central America and the Caribbean",
         "Haiti",
         "Vegetables",
         "Offline",
         "H"
        ],
        [
         "Middle East and North Africa",
         "Yemen",
         "Cereal",
         "Online",
         "H"
        ],
        [
         "Australia and Oceania",
         "Tuvalu",
         "Cereal",
         "Online",
         "C"
        ],
        [
         "Sub-Saharan Africa",
         "Liberia",
         "Snacks",
         "Offline",
         "M"
        ],
        [
         "Asia",
         "North Korea",
         "Beverages",
         "Online",
         "C"
        ],
        [
         "Asia",
         "North Korea",
         "Household",
         "Online",
         "M"
        ],
        [
         "Europe",
         "Romania",
         "Household",
         "Online",
         "H"
        ],
        [
         "Sub-Saharan Africa",
         "Sao Tome and Principe",
         "Cereal",
         "Offline",
         "M"
        ],
        [
         "Middle East and North Africa",
         "Bahrain",
         "Fruits",
         "Online",
         "M"
        ],
        [
         "Middle East and North Africa",
         "Somalia",
         "Cosmetics",
         "Offline",
         "M"
        ],
        [
         "Europe",
         "Cyprus",
         "Cereal",
         "Online",
         "C"
        ],
        [
         "Europe",
         "United Kingdom",
         "Beverages",
         "Offline",
         "C"
        ],
        [
         "Europe",
         "Germany",
         "Personal Care",
         "Offline",
         "H"
        ],
        [
         "Middle East and North Africa",
         "Somalia",
         "Beverages",
         "Online",
         "M"
        ],
        [
         "Australia and Oceania",
         "New Zealand",
         "Household",
         "Offline",
         "H"
        ],
        [
         "Middle East and North Africa",
         "Kuwait",
         "Meat",
         "Online",
         "C"
        ],
        [
         "Asia",
         "Japan",
         "Cosmetics",
         "Online",
         "L"
        ],
        [
         "Europe",
         "Norway",
         "Baby Food",
         "Offline",
         "H"
        ],
        [
         "Sub-Saharan Africa",
         "Lesotho",
         "Personal Care",
         "Offline",
         "C"
        ],
        [
         "Europe",
         "Belgium",
         "Cosmetics",
         "Online",
         "H"
        ],
        [
         "Central America and the Caribbean",
         "Honduras",
         "Cosmetics",
         "Offline",
         "L"
        ],
        [
         "Europe",
         "Austria",
         "Household",
         "Offline",
         "C"
        ],
        [
         "Middle East and North Africa",
         "Oman",
         "Baby Food",
         "Online",
         "M"
        ],
        [
         "Middle East and North Africa",
         "Oman",
         "Baby Food",
         "Offline",
         "C"
        ],
        [
         "Europe",
         "Spain",
         "Snacks",
         "Offline",
         "M"
        ],
        [
         "Middle East and North Africa",
         "Afghanistan",
         "Fruits",
         "Online",
         "C"
        ],
        [
         "Central America and the Caribbean",
         "Saint Vincent and the Grenadines",
         "Cosmetics",
         "Offline",
         "L"
        ],
        [
         "Europe",
         "Iceland",
         "Vegetables",
         "Online",
         "M"
        ],
        [
         "Asia",
         "Myanmar",
         "Vegetables",
         "Offline",
         "L"
        ],
        [
         "Europe",
         "Netherlands",
         "Snacks",
         "Offline",
         "L"
        ],
        [
         "Europe",
         "Slovakia",
         "Vegetables",
         "Online",
         "M"
        ],
        [
         "Middle East and North Africa",
         "Bahrain",
         "Fruits",
         "Offline",
         "H"
        ],
        [
         "Sub-Saharan Africa",
         "Lesotho",
         "Baby Food",
         "Online",
         "L"
        ],
        [
         "Central America and the Caribbean",
         "Cuba",
         "Clothes",
         "Offline",
         "L"
        ],
        [
         "Middle East and North Africa",
         "Afghanistan",
         "Clothes",
         "Offline",
         "C"
        ],
        [
         "Australia and Oceania",
         "Vanuatu",
         "Cereal",
         "Online",
         "L"
        ],
        [
         "Asia",
         "Bhutan",
         "Beverages",
         "Offline",
         "M"
        ],
        [
         "Australia and Oceania",
         "Palau",
         "Cereal",
         "Offline",
         "L"
        ],
        [
         "Asia",
         "Indonesia",
         "Personal Care",
         "Online",
         "H"
        ],
        [
         "Europe",
         "Andorra",
         "Baby Food",
         "Offline",
         "C"
        ],
        [
         "Middle East and North Africa",
         "Algeria",
         "Office Supplies",
         "Online",
         "C"
        ],
        [
         "Australia and Oceania",
         "Vanuatu",
         "Cosmetics",
         "Offline",
         "C"
        ],
        [
         "North America",
         "Mexico",
         "Baby Food",
         "Online",
         "H"
        ],
        [
         "Europe",
         "Macedonia",
         "Fruits",
         "Offline",
         "M"
        ],
        [
         "Central America and the Caribbean",
         "Panama",
         "Personal Care",
         "Online",
         "H"
        ],
        [
         "Asia",
         "Nepal",
         "Cereal",
         "Offline",
         "H"
        ],
        [
         "Asia",
         "Nepal",
         "Fruits",
         "Online",
         "C"
        ],
        [
         "Sub-Saharan Africa",
         "Mauritius ",
         "Cereal",
         "Offline",
         "C"
        ],
        [
         "Sub-Saharan Africa",
         "Sao Tome and Principe",
         "Clothes",
         "Online",
         "H"
        ],
        [
         "Central America and the Caribbean",
         "Saint Vincent and the Grenadines",
         "Fruits",
         "Offline",
         "L"
        ],
        [
         "Asia",
         "Maldives",
         "Personal Care",
         "Online",
         "M"
        ],
        [
         "Sub-Saharan Africa",
         "Swaziland",
         "Personal Care",
         "Offline",
         "H"
        ],
        [
         "Middle East and North Africa",
         "Morocco",
         "Cereal",
         "Online",
         "H"
        ],
        [
         "Asia",
         "Maldives",
         "Clothes",
         "Offline",
         "M"
        ],
        [
         "Sub-Saharan Africa",
         "Zimbabwe",
         "Fruits",
         "Offline",
         "C"
        ],
        [
         "Asia",
         "India",
         "Cereal",
         "Online",
         "C"
        ],
        [
         "Asia",
         "Tajikistan",
         "Beverages",
         "Offline",
         "C"
        ],
        [
         "Sub-Saharan Africa",
         "Lesotho",
         "Snacks",
         "Offline",
         "M"
        ],
        [
         "Asia",
         "Bhutan",
         "Office Supplies",
         "Offline",
         "M"
        ],
        [
         "Central America and the Caribbean",
         "Trinidad and Tobago",
         "Snacks",
         "Offline",
         "L"
        ],
        [
         "Australia and Oceania",
         "Tuvalu",
         "Fruits",
         "Offline",
         "L"
        ],
        [
         "Middle East and North Africa",
         "Iraq",
         "Clothes",
         "Offline",
         "L"
        ],
        [
         "Sub-Saharan Africa",
         "The Gambia",
         "Vegetables",
         "Offline",
         "L"
        ],
        [
         "Middle East and North Africa",
         "Bahrain",
         "Beverages",
         "Online",
         "C"
        ],
        [
         "Middle East and North Africa",
         "Qatar",
         "Meat",
         "Online",
         "H"
        ],
        [
         "Sub-Saharan Africa",
         "Angola",
         "Household",
         "Offline",
         "H"
        ],
        [
         "Central America and the Caribbean",
         "Costa Rica",
         "Cosmetics",
         "Online",
         "L"
        ],
        [
         "Australia and Oceania",
         "Papua New Guinea",
         "Household",
         "Online",
         "M"
        ],
        [
         "Middle East and North Africa",
         "Qatar",
         "Clothes",
         "Offline",
         "C"
        ],
        [
         "Central America and the Caribbean",
         "Saint Kitts and Nevis ",
         "Clothes",
         "Offline",
         "H"
        ],
        [
         "Sub-Saharan Africa",
         "Sierra Leone",
         "Fruits",
         "Offline",
         "C"
        ],
        [
         "Europe",
         "Russia",
         "Fruits",
         "Online",
         "M"
        ],
        [
         "Europe",
         "Lithuania",
         "Vegetables",
         "Offline",
         "M"
        ],
        [
         "Europe",
         "United Kingdom",
         "Vegetables",
         "Online",
         "L"
        ],
        [
         "Asia",
         "Indonesia",
         "Personal Care",
         "Offline",
         "H"
        ],
        [
         "Asia",
         "Mongolia",
         "Beverages",
         "Offline",
         "M"
        ],
        [
         "Middle East and North Africa",
         "Egypt",
         "Office Supplies",
         "Online",
         "C"
        ],
        [
         "Sub-Saharan Africa",
         "Comoros",
         "Household",
         "Online",
         "M"
        ],
        [
         "Europe",
         "Slovenia",
         "Household",
         "Offline",
         "M"
        ],
        [
         "Middle East and North Africa",
         "Lebanon",
         "Beverages",
         "Online",
         "M"
        ],
        [
         "Australia and Oceania",
         "Australia",
         "Cosmetics",
         "Offline",
         "L"
        ],
        [
         "Central America and the Caribbean",
         "Haiti",
         "Snacks",
         "Online",
         "M"
        ],
        [
         "Central America and the Caribbean",
         "Saint Kitts and Nevis ",
         "Meat",
         "Online",
         "L"
        ],
        [
         "Middle East and North Africa",
         "Syria",
         "Vegetables",
         "Offline",
         "M"
        ],
        [
         "Asia",
         "Laos",
         "Snacks",
         "Offline",
         "M"
        ],
        [
         "Central America and the Caribbean",
         "Saint Kitts and Nevis ",
         "Cereal",
         "Offline",
         "H"
        ],
        [
         "Sub-Saharan Africa",
         "Sudan",
         "Vegetables",
         "Offline",
         "H"
        ],
        [
         "Central America and the Caribbean",
         "Guatemala",
         "Meat",
         "Offline",
         "H"
        ],
        [
         "Asia",
         "Brunei",
         "Clothes",
         "Offline",
         "H"
        ],
        [
         "Middle East and North Africa",
         "Jordan",
         "Clothes",
         "Online",
         "M"
        ],
        [
         "Central America and the Caribbean",
         "Panama",
         "Meat",
         "Offline",
         "C"
        ],
        [
         "Sub-Saharan Africa",
         "Central African Republic",
         "Household",
         "Online",
         "H"
        ],
        [
         "Middle East and North Africa",
         "Bahrain",
         "Beverages",
         "Offline",
         "M"
        ],
        [
         "Sub-Saharan Africa",
         "Burundi",
         "Beverages",
         "Online",
         "C"
        ],
        [
         "Europe",
         "Austria",
         "Cereal",
         "Online",
         "L"
        ],
        [
         "Australia and Oceania",
         "Fiji",
         "Beverages",
         "Offline",
         "H"
        ],
        [
         "Australia and Oceania",
         "Fiji",
         "Clothes",
         "Offline",
         "M"
        ],
        [
         "Europe",
         "Switzerland",
         "Snacks",
         "Online",
         "H"
        ],
        [
         "Middle East and North Africa",
         "Yemen",
         "Office Supplies",
         "Offline",
         "M"
        ],
        [
         "Sub-Saharan Africa",
         "Comoros",
         "Personal Care",
         "Offline",
         "H"
        ],
        [
         "Sub-Saharan Africa",
         "Democratic Republic of the Congo",
         "Office Supplies",
         "Online",
         "C"
        ],
        [
         "Asia",
         "Mongolia",
         "Clothes",
         "Offline",
         "H"
        ],
        [
         "Australia and Oceania",
         "Palau",
         "Household",
         "Offline",
         "L"
        ],
        [
         "Europe",
         "Monaco",
         "Snacks",
         "Offline",
         "M"
        ],
        [
         "Australia and Oceania",
         "Fiji",
         "Cereal",
         "Online",
         "L"
        ],
        [
         "Sub-Saharan Africa",
         "Mali",
         "Beverages",
         "Online",
         "L"
        ],
        [
         "Sub-Saharan Africa",
         "Liberia",
         "Cereal",
         "Offline",
         "H"
        ],
        [
         "Europe",
         "Switzerland",
         "Beverages",
         "Offline",
         "L"
        ],
        [
         "Australia and Oceania",
         "Samoa ",
         "Baby Food",
         "Online",
         "L"
        ],
        [
         "Asia",
         "Nepal",
         "Meat",
         "Offline",
         "C"
        ],
        [
         "Middle East and North Africa",
         "Azerbaijan",
         "Snacks",
         "Offline",
         "C"
        ],
        [
         "Europe",
         "Georgia",
         "Baby Food",
         "Offline",
         "H"
        ],
        [
         "Middle East and North Africa",
         "United Arab Emirates",
         "Vegetables",
         "Online",
         "C"
        ],
        [
         "Europe",
         "Finland",
         "Household",
         "Offline",
         "L"
        ],
        [
         "Europe",
         "Portugal",
         "Cereal",
         "Offline",
         "C"
        ]
       ],
       "datasetInfos": [],
       "dbfsResultPath": null,
       "isJsonSchema": true,
       "metadata": {},
       "overflow": false,
       "plotOptions": {
        "customPlotOptions": {},
        "displayType": "table",
        "pivotAggregation": null,
        "pivotColumns": null,
        "xColumns": null,
        "yColumns": null
       },
       "removedWidgets": [],
       "schema": [
        {
         "metadata": "{}",
         "name": "region",
         "type": "\"string\""
        },
        {
         "metadata": "{}",
         "name": "country",
         "type": "\"string\""
        },
        {
         "metadata": "{}",
         "name": "ItemType",
         "type": "\"string\""
        },
        {
         "metadata": "{}",
         "name": "SalesChannel",
         "type": "\"string\""
        },
        {
         "metadata": "{}",
         "name": "OrderPriority",
         "type": "\"string\""
        }
       ],
       "type": "table"
      }
     },
     "output_type": "display_data"
    },
    {
     "output_type": "stream",
     "name": "stdout",
     "output_type": "stream",
     "text": [
      "root\n |-- region: string (nullable = true)\n |-- country: string (nullable = true)\n |-- ItemType: string (nullable = true)\n |-- SalesChannel: string (nullable = true)\n |-- OrderPriority: string (nullable = true)\n\n"
     ]
    },
    {
     "output_type": "display_data",
     "data": {
      "text/html": [
       "<style scoped>\n",
       "  .table-result-container {\n",
       "    max-height: 300px;\n",
       "    overflow: auto;\n",
       "  }\n",
       "  table, th, td {\n",
       "    border: 1px solid black;\n",
       "    border-collapse: collapse;\n",
       "  }\n",
       "  th, td {\n",
       "    padding: 5px;\n",
       "  }\n",
       "  th {\n",
       "    text-align: left;\n",
       "  }\n",
       "</style><div class='table-result-container'><table class='table-result'><thead style='background-color: white'><tr><th>name</th><th>employee_id</th></tr></thead><tbody><tr><td>Pavan</td><td>1</td></tr><tr><td>Sai</td><td>2</td></tr></tbody></table></div>"
      ]
     },
     "metadata": {
      "application/vnd.databricks.v1+output": {
       "addedWidgets": {},
       "aggData": [],
       "aggError": "",
       "aggOverflow": false,
       "aggSchema": [],
       "aggSeriesLimitReached": false,
       "aggType": "",
       "arguments": {},
       "columnCustomDisplayInfos": {},
       "data": [
        [
         "Pavan",
         1
        ],
        [
         "Sai",
         2
        ]
       ],
       "datasetInfos": [],
       "dbfsResultPath": null,
       "isJsonSchema": true,
       "metadata": {},
       "overflow": false,
       "plotOptions": {
        "customPlotOptions": {},
        "displayType": "table",
        "pivotAggregation": null,
        "pivotColumns": null,
        "xColumns": null,
        "yColumns": null
       },
       "removedWidgets": [],
       "schema": [
        {
         "metadata": "{}",
         "name": "name",
         "type": "\"string\""
        },
        {
         "metadata": "{}",
         "name": "employee_id",
         "type": "\"integer\""
        }
       ],
       "type": "table"
      }
     },
     "output_type": "display_data"
    }
   ],
   "source": [
    "#to define own schema 2 approches using traditional pyspark or using sql\n",
    "#using traditional method\n",
    "from pyspark.sql.types import *\n",
    "orderschema = StructType([StructField(\"Region\", StringType(), True),\n",
    "                         StructField(\"Country\", StringType(), True)])\n",
    "df = spark.read.load(\"/FileStore/tables/Order.csv\",header=True,format='csv', schema=orderschema) #schema will take our own schema\n",
    "# display(df)\n",
    "#sql method (most using and easy way)\n",
    "orderschema_sql = \"region string, country String, ItemType String, SalesChannel String, OrderPriority String\"\n",
    "df_main = spark.read.load(\"/FileStore/tables/Order.csv\",header=True,format='csv', schema=orderschema_sql) #schema will take our own schema\n",
    "display(df_main)\n",
    "df_main.printSchema()\n",
    "df2= df1.drop(\"OrderPriority\",\"ItemType\")  # drop helps us to remove columns from our data frame\n",
    "display(df2)\n"
   ]
  },
  {
   "cell_type": "code",
   "execution_count": 0,
   "metadata": {
    "application/vnd.databricks.v1+cell": {
     "cellMetadata": {
      "byteLimit": 2048000,
      "rowLimit": 10000
     },
     "inputWidgets": {},
     "nuid": "4ec9924d-94dc-46cb-91f5-0adda0b659ef",
     "showTitle": false,
     "title": ""
    }
   },
   "outputs": [
    {
     "output_type": "display_data",
     "data": {
      "text/html": [
       "<style scoped>\n",
       "  .table-result-container {\n",
       "    max-height: 300px;\n",
       "    overflow: auto;\n",
       "  }\n",
       "  table, th, td {\n",
       "    border: 1px solid black;\n",
       "    border-collapse: collapse;\n",
       "  }\n",
       "  th, td {\n",
       "    padding: 5px;\n",
       "  }\n",
       "  th {\n",
       "    text-align: left;\n",
       "  }\n",
       "</style><div class='table-result-container'><table class='table-result'><thead style='background-color: white'><tr><th>name</th><th>employee_id</th><th>employee_salary</th></tr></thead><tbody><tr><td>Pavan</td><td>1</td><td>50000</td></tr><tr><td>Sai</td><td>2</td><td>75000</td></tr></tbody></table></div>"
      ]
     },
     "metadata": {
      "application/vnd.databricks.v1+output": {
       "addedWidgets": {},
       "aggData": [],
       "aggError": "",
       "aggOverflow": false,
       "aggSchema": [],
       "aggSeriesLimitReached": false,
       "aggType": "",
       "arguments": {},
       "columnCustomDisplayInfos": {},
       "data": [
        [
         "Pavan",
         1,
         50000
        ],
        [
         "Sai",
         2,
         75000
        ]
       ],
       "datasetInfos": [],
       "dbfsResultPath": null,
       "isJsonSchema": true,
       "metadata": {},
       "overflow": false,
       "plotOptions": {
        "customPlotOptions": {},
        "displayType": "table",
        "pivotAggregation": null,
        "pivotColumns": null,
        "xColumns": null,
        "yColumns": null
       },
       "removedWidgets": [],
       "schema": [
        {
         "metadata": "{}",
         "name": "name",
         "type": "\"string\""
        },
        {
         "metadata": "{}",
         "name": "employee_id",
         "type": "\"integer\""
        },
        {
         "metadata": "{}",
         "name": "employee_salary",
         "type": "\"integer\""
        }
       ],
       "type": "table"
      }
     },
     "output_type": "display_data"
    },
    {
     "output_type": "display_data",
     "data": {
      "text/html": [
       "<style scoped>\n",
       "  .table-result-container {\n",
       "    max-height: 300px;\n",
       "    overflow: auto;\n",
       "  }\n",
       "  table, th, td {\n",
       "    border: 1px solid black;\n",
       "    border-collapse: collapse;\n",
       "  }\n",
       "  th, td {\n",
       "    padding: 5px;\n",
       "  }\n",
       "  th {\n",
       "    text-align: left;\n",
       "  }\n",
       "</style><div class='table-result-container'><table class='table-result'><thead style='background-color: white'><tr><th>name</th><th>employee_salary</th></tr></thead><tbody><tr><td>Pavan</td><td>50000</td></tr><tr><td>Sai</td><td>75000</td></tr></tbody></table></div>"
      ]
     },
     "metadata": {
      "application/vnd.databricks.v1+output": {
       "addedWidgets": {},
       "aggData": [],
       "aggError": "",
       "aggOverflow": false,
       "aggSchema": [],
       "aggSeriesLimitReached": false,
       "aggType": "",
       "arguments": {},
       "columnCustomDisplayInfos": {},
       "data": [
        [
         "Pavan",
         50000
        ],
        [
         "Sai",
         75000
        ]
       ],
       "datasetInfos": [],
       "dbfsResultPath": null,
       "isJsonSchema": true,
       "metadata": {},
       "overflow": false,
       "plotOptions": {
        "customPlotOptions": {},
        "displayType": "table",
        "pivotAggregation": null,
        "pivotColumns": null,
        "xColumns": null,
        "yColumns": null
       },
       "removedWidgets": [],
       "schema": [
        {
         "metadata": "{}",
         "name": "name",
         "type": "\"string\""
        },
        {
         "metadata": "{}",
         "name": "employee_salary",
         "type": "\"integer\""
        }
       ],
       "type": "table"
      }
     },
     "output_type": "display_data"
    }
   ],
   "source": [
    "#creating data frame manually\n",
    "# we need columns(schema) and rows for creating data frame\n",
    "# from pyspark.sql import *\n",
    "from pyspark.sql.functions import *\n",
    "row1 = Row(\"Pavan\", 1, 50000)\n",
    "row2 = Row(\"Sai\", 2, 75000)\n",
    "employee_schema = (\"name String, employee_id Integer, employee_salary Integer\")\n",
    "df = spark.createDataFrame([row1, row2], schema=employee_schema)\n",
    "display(df)\n",
    "\n",
    "#for selecting particular columns 5 methods \n",
    "df1 = df.select(\"name\", \"employee_id\") #for selecting particular multiple columns (popularly used)\n",
    "df2 = df.select(col(\"name\")) #drawback -- col,column,expr only can select 1 argument\n",
    "df3 = df.select(column(\"name\"))\n",
    "df4 = df.select(expr(\"name\")) #popularly used\n",
    "df5 = df.select(df.name,df.employee_salary)\n",
    "df6 = df.selectExpr(\"Country as countries_all\", \"region\", \"SalesChannel\") #for column selection along with column name change\n",
    "display(df6)\n",
    "# display(df4)\n"
   ]
  },
  {
   "cell_type": "code",
   "execution_count": 0,
   "metadata": {
    "application/vnd.databricks.v1+cell": {
     "cellMetadata": {
      "byteLimit": 2048000,
      "rowLimit": 10000
     },
     "inputWidgets": {},
     "nuid": "68cca78f-8b45-4096-adf5-1327582267a7",
     "showTitle": false,
     "title": ""
    },
    "jupyter": {
     "outputs_hidden": true
    }
   },
   "outputs": [
    {
     "output_type": "display_data",
     "data": {
      "text/html": [
       "<style scoped>\n",
       "  .table-result-container {\n",
       "    max-height: 300px;\n",
       "    overflow: auto;\n",
       "  }\n",
       "  table, th, td {\n",
       "    border: 1px solid black;\n",
       "    border-collapse: collapse;\n",
       "  }\n",
       "  th, td {\n",
       "    padding: 5px;\n",
       "  }\n",
       "  th {\n",
       "    text-align: left;\n",
       "  }\n",
       "</style><div class='table-result-container'><table class='table-result'><thead style='background-color: white'><tr><th>Region</th><th>Country</th></tr></thead><tbody><tr><td>Asia</td><td>Japan</td></tr><tr><td>Middle East and North Africa</td><td>Morocco</td></tr><tr><td>Sub-Saharan Africa</td><td>Ethiopia</td></tr><tr><td>Europe</td><td>Russia</td></tr><tr><td>Middle East and North Africa</td><td>Iran</td></tr><tr><td>Central America and the Caribbean</td><td>Cuba</td></tr><tr><td>Sub-Saharan Africa</td><td>Seychelles </td></tr><tr><td>Sub-Saharan Africa</td><td>Tanzania</td></tr><tr><td>Sub-Saharan Africa</td><td>Gabon</td></tr><tr><td>Asia</td><td>Singapore</td></tr><tr><td>Sub-Saharan Africa</td><td>Zambia</td></tr><tr><td>Sub-Saharan Africa</td><td>Central African Republic</td></tr><tr><td>Sub-Saharan Africa</td><td>South Sudan</td></tr><tr><td>Europe</td><td>Belgium</td></tr><tr><td>Europe</td><td>Kosovo</td></tr><tr><td>Europe</td><td>San Marino</td></tr><tr><td>Europe</td><td>United Kingdom</td></tr><tr><td>Sub-Saharan Africa</td><td>Mauritius </td></tr><tr><td>Sub-Saharan Africa</td><td>Swaziland</td></tr><tr><td>Europe</td><td>Ukraine</td></tr><tr><td>Australia and Oceania</td><td>East Timor</td></tr><tr><td>Middle East and North Africa</td><td>Oman</td></tr><tr><td>Sub-Saharan Africa</td><td>Guinea</td></tr><tr><td>Australia and Oceania</td><td>Kiribati</td></tr><tr><td>Middle East and North Africa</td><td>Kuwait</td></tr><tr><td>Europe</td><td>Bosnia and Herzegovina</td></tr><tr><td>Europe</td><td>Germany</td></tr><tr><td>Middle East and North Africa</td><td>Bahrain</td></tr><tr><td>Middle East and North Africa</td><td>Azerbaijan</td></tr><tr><td>Europe</td><td>Malta</td></tr><tr><td>Sub-Saharan Africa</td><td>Equatorial Guinea</td></tr><tr><td>Central America and the Caribbean</td><td>Saint Lucia</td></tr><tr><td>Asia</td><td>Philippines</td></tr><tr><td>Europe</td><td>Estonia</td></tr><tr><td>Asia</td><td>Cambodia</td></tr><tr><td>Middle East and North Africa</td><td>Libya</td></tr><tr><td>Sub-Saharan Africa</td><td>Democratic Republic of the Congo</td></tr><tr><td>Sub-Saharan Africa</td><td>Eritrea</td></tr><tr><td>Sub-Saharan Africa</td><td>Chad</td></tr><tr><td>Europe</td><td>Slovenia</td></tr><tr><td>Sub-Saharan Africa</td><td>Sao Tome and Principe</td></tr><tr><td>Central America and the Caribbean</td><td>Haiti</td></tr><tr><td>Central America and the Caribbean</td><td>Grenada</td></tr><tr><td>Sub-Saharan Africa</td><td>Botswana</td></tr><tr><td>Asia</td><td>Brunei</td></tr><tr><td>North America</td><td>Mexico</td></tr><tr><td>Asia</td><td>Bhutan</td></tr><tr><td>Middle East and North Africa</td><td>Egypt</td></tr><tr><td>Sub-Saharan Africa</td><td>Kenya</td></tr><tr><td>Europe</td><td>Montenegro</td></tr><tr><td>Sub-Saharan Africa</td><td>South Africa</td></tr><tr><td>North America</td><td>Canada</td></tr><tr><td>Asia</td><td>Laos</td></tr><tr><td>Europe</td><td>Albania</td></tr><tr><td>Australia and Oceania</td><td>Australia</td></tr><tr><td>Sub-Saharan Africa</td><td>The Gambia</td></tr><tr><td>Europe</td><td>Austria</td></tr><tr><td>Europe</td><td>Cyprus</td></tr><tr><td>Europe</td><td>Finland</td></tr><tr><td>Europe</td><td>Italy</td></tr><tr><td>Asia</td><td>Tajikistan</td></tr><tr><td>Asia</td><td>Kyrgyzstan</td></tr><tr><td>Europe</td><td>Poland</td></tr><tr><td>Sub-Saharan Africa</td><td>Cote d'Ivoire</td></tr><tr><td>Central America and the Caribbean</td><td>Trinidad and Tobago</td></tr><tr><td>Middle East and North Africa</td><td>Algeria</td></tr><tr><td>Central America and the Caribbean</td><td>Costa Rica</td></tr><tr><td>Europe</td><td>France</td></tr><tr><td>Europe</td><td>Hungary</td></tr><tr><td>Europe</td><td>Luxembourg</td></tr><tr><td>Central America and the Caribbean</td><td>El Salvador</td></tr><tr><td>Australia and Oceania</td><td>Fiji</td></tr><tr><td>Asia</td><td>Uzbekistan</td></tr><tr><td>Europe</td><td>Greece</td></tr><tr><td>Europe</td><td>Spain</td></tr><tr><td>Sub-Saharan Africa</td><td>Madagascar</td></tr><tr><td>Central America and the Caribbean</td><td>Saint Kitts and Nevis </td></tr><tr><td>Europe</td><td>Iceland</td></tr><tr><td>Central America and the Caribbean</td><td>Belize</td></tr><tr><td>Europe</td><td>Andorra</td></tr><tr><td>Central America and the Caribbean</td><td>The Bahamas</td></tr><tr><td>Central America and the Caribbean</td><td>Saint Vincent and the Grenadines</td></tr><tr><td>Middle East and North Africa</td><td>Tunisia </td></tr><tr><td>North America</td><td>Greenland</td></tr><tr><td>Central America and the Caribbean</td><td>Nicaragua</td></tr><tr><td>Australia and Oceania</td><td>Nauru</td></tr><tr><td>Sub-Saharan Africa</td><td>Liberia</td></tr><tr><td>Central America and the Caribbean</td><td>Guatemala</td></tr><tr><td>Middle East and North Africa</td><td>Yemen</td></tr><tr><td>Australia and Oceania</td><td>Tonga</td></tr><tr><td>Central America and the Caribbean</td><td>Honduras</td></tr><tr><td>Asia</td><td>Vietnam</td></tr><tr><td>Sub-Saharan Africa</td><td>Niger</td></tr><tr><td>Europe</td><td>Switzerland</td></tr><tr><td>Asia</td><td>Indonesia</td></tr><tr><td>Asia</td><td>Sri Lanka</td></tr><tr><td>Europe</td><td>Lithuania</td></tr><tr><td>Europe</td><td>Denmark</td></tr><tr><td>Central America and the Caribbean</td><td>Dominica</td></tr><tr><td>Australia and Oceania</td><td>Federated States of Micronesia</td></tr><tr><td>Australia and Oceania</td><td>Tuvalu</td></tr><tr><td>Europe</td><td>Macedonia</td></tr><tr><td>Sub-Saharan Africa</td><td>Zimbabwe</td></tr><tr><td>Middle East and North Africa</td><td>Syria</td></tr><tr><td>Australia and Oceania</td><td>Marshall Islands</td></tr><tr><td>Australia and Oceania</td><td>New Zealand</td></tr><tr><td>Sub-Saharan Africa</td><td>Angola</td></tr><tr><td>Europe</td><td>Latvia</td></tr><tr><td>Sub-Saharan Africa</td><td>Cape Verde</td></tr><tr><td>Central America and the Caribbean</td><td>Panama</td></tr><tr><td>Europe</td><td>Bulgaria</td></tr><tr><td>North America</td><td>United States of America</td></tr><tr><td>Sub-Saharan Africa</td><td>Mauritania</td></tr><tr><td>Sub-Saharan Africa</td><td>Uganda</td></tr><tr><td>Asia</td><td>India</td></tr><tr><td>Sub-Saharan Africa</td><td>Cameroon</td></tr><tr><td>Asia</td><td>North Korea</td></tr><tr><td>Sub-Saharan Africa</td><td>Rwanda</td></tr><tr><td>Australia and Oceania</td><td>Solomon Islands</td></tr><tr><td>Europe</td><td>Croatia</td></tr><tr><td>Central America and the Caribbean</td><td>Jamaica</td></tr><tr><td>Europe</td><td>Liechtenstein</td></tr><tr><td>Sub-Saharan Africa</td><td>Guinea-Bissau</td></tr><tr><td>Europe</td><td>Sweden</td></tr><tr><td>Sub-Saharan Africa</td><td>Burundi</td></tr><tr><td>Middle East and North Africa</td><td>Turkey</td></tr><tr><td>Australia and Oceania</td><td>Papua New Guinea</td></tr><tr><td>Middle East and North Africa</td><td>Israel</td></tr><tr><td>Europe</td><td>Georgia</td></tr><tr><td>Sub-Saharan Africa</td><td>Sierra Leone</td></tr><tr><td>Europe</td><td>Ireland</td></tr><tr><td>Sub-Saharan Africa</td><td>Benin</td></tr><tr><td>Europe</td><td>Armenia</td></tr><tr><td>Middle East and North Africa</td><td>Qatar</td></tr><tr><td>Sub-Saharan Africa</td><td>Djibouti</td></tr><tr><td>Sub-Saharan Africa</td><td>Mali</td></tr><tr><td>Sub-Saharan Africa</td><td>Sudan</td></tr><tr><td>Asia</td><td>Myanmar</td></tr><tr><td>Asia</td><td>Thailand</td></tr><tr><td>Central America and the Caribbean</td><td>Barbados</td></tr><tr><td>Asia</td><td>Mongolia</td></tr><tr><td>Middle East and North Africa</td><td>Saudi Arabia</td></tr><tr><td>Asia</td><td>Bangladesh</td></tr><tr><td>Asia</td><td>Taiwan</td></tr><tr><td>Asia</td><td>Kazakhstan</td></tr><tr><td>Middle East and North Africa</td><td>Lebanon</td></tr><tr><td>Sub-Saharan Africa</td><td>Togo</td></tr><tr><td>Europe</td><td>Belarus</td></tr><tr><td>Middle East and North Africa</td><td>Jordan</td></tr><tr><td>Sub-Saharan Africa</td><td>Senegal</td></tr><tr><td>Middle East and North Africa</td><td>Iraq</td></tr><tr><td>Central America and the Caribbean</td><td>Antigua and Barbuda </td></tr><tr><td>Europe</td><td>Monaco</td></tr><tr><td>Europe</td><td>Netherlands</td></tr><tr><td>Sub-Saharan Africa</td><td>Mozambique</td></tr><tr><td>Asia</td><td>Maldives</td></tr><tr><td>Middle East and North Africa</td><td>Somalia</td></tr><tr><td>Asia</td><td>China</td></tr><tr><td>Australia and Oceania</td><td>Palau</td></tr><tr><td>Middle East and North Africa</td><td>Afghanistan</td></tr><tr><td>Europe</td><td>Vatican City</td></tr><tr><td>Asia</td><td>Turkmenistan</td></tr><tr><td>Sub-Saharan Africa</td><td>Namibia</td></tr><tr><td>Europe</td><td>Serbia</td></tr><tr><td>Sub-Saharan Africa</td><td>Republic of the Congo</td></tr><tr><td>Europe</td><td>Czech Republic</td></tr><tr><td>Europe</td><td>Norway</td></tr><tr><td>Australia and Oceania</td><td>Vanuatu</td></tr><tr><td>Europe</td><td>Romania</td></tr><tr><td>Sub-Saharan Africa</td><td>Burkina Faso</td></tr><tr><td>Asia</td><td>Nepal</td></tr><tr><td>Europe</td><td>Moldova </td></tr><tr><td>Asia</td><td>South Korea</td></tr><tr><td>Sub-Saharan Africa</td><td>Malawi</td></tr><tr><td>Europe</td><td>Portugal</td></tr><tr><td>Middle East and North Africa</td><td>United Arab Emirates</td></tr><tr><td>Europe</td><td>Slovakia</td></tr><tr><td>Central America and the Caribbean</td><td>Dominican Republic</td></tr><tr><td>Sub-Saharan Africa</td><td>Nigeria</td></tr><tr><td>Sub-Saharan Africa</td><td>Comoros</td></tr><tr><td>Middle East and North Africa</td><td>Pakistan</td></tr><tr><td>Asia</td><td>Malaysia</td></tr><tr><td>Sub-Saharan Africa</td><td>Ghana</td></tr><tr><td>Australia and Oceania</td><td>Samoa </td></tr><tr><td>Sub-Saharan Africa</td><td>Lesotho</td></tr></tbody></table></div>"
      ]
     },
     "metadata": {
      "application/vnd.databricks.v1+output": {
       "addedWidgets": {},
       "aggData": [],
       "aggError": "",
       "aggOverflow": false,
       "aggSchema": [],
       "aggSeriesLimitReached": false,
       "aggType": "",
       "arguments": {},
       "columnCustomDisplayInfos": {},
       "data": [
        [
         "Asia",
         "Japan"
        ],
        [
         "Middle East and North Africa",
         "Morocco"
        ],
        [
         "Sub-Saharan Africa",
         "Ethiopia"
        ],
        [
         "Europe",
         "Russia"
        ],
        [
         "Middle East and North Africa",
         "Iran"
        ],
        [
         "Central America and the Caribbean",
         "Cuba"
        ],
        [
         "Sub-Saharan Africa",
         "Seychelles "
        ],
        [
         "Sub-Saharan Africa",
         "Tanzania"
        ],
        [
         "Sub-Saharan Africa",
         "Gabon"
        ],
        [
         "Asia",
         "Singapore"
        ],
        [
         "Sub-Saharan Africa",
         "Zambia"
        ],
        [
         "Sub-Saharan Africa",
         "Central African Republic"
        ],
        [
         "Sub-Saharan Africa",
         "South Sudan"
        ],
        [
         "Europe",
         "Belgium"
        ],
        [
         "Europe",
         "Kosovo"
        ],
        [
         "Europe",
         "San Marino"
        ],
        [
         "Europe",
         "United Kingdom"
        ],
        [
         "Sub-Saharan Africa",
         "Mauritius "
        ],
        [
         "Sub-Saharan Africa",
         "Swaziland"
        ],
        [
         "Europe",
         "Ukraine"
        ],
        [
         "Australia and Oceania",
         "East Timor"
        ],
        [
         "Middle East and North Africa",
         "Oman"
        ],
        [
         "Sub-Saharan Africa",
         "Guinea"
        ],
        [
         "Australia and Oceania",
         "Kiribati"
        ],
        [
         "Middle East and North Africa",
         "Kuwait"
        ],
        [
         "Europe",
         "Bosnia and Herzegovina"
        ],
        [
         "Europe",
         "Germany"
        ],
        [
         "Middle East and North Africa",
         "Bahrain"
        ],
        [
         "Middle East and North Africa",
         "Azerbaijan"
        ],
        [
         "Europe",
         "Malta"
        ],
        [
         "Sub-Saharan Africa",
         "Equatorial Guinea"
        ],
        [
         "Central America and the Caribbean",
         "Saint Lucia"
        ],
        [
         "Asia",
         "Philippines"
        ],
        [
         "Europe",
         "Estonia"
        ],
        [
         "Asia",
         "Cambodia"
        ],
        [
         "Middle East and North Africa",
         "Libya"
        ],
        [
         "Sub-Saharan Africa",
         "Democratic Republic of the Congo"
        ],
        [
         "Sub-Saharan Africa",
         "Eritrea"
        ],
        [
         "Sub-Saharan Africa",
         "Chad"
        ],
        [
         "Europe",
         "Slovenia"
        ],
        [
         "Sub-Saharan Africa",
         "Sao Tome and Principe"
        ],
        [
         "Central America and the Caribbean",
         "Haiti"
        ],
        [
         "Central America and the Caribbean",
         "Grenada"
        ],
        [
         "Sub-Saharan Africa",
         "Botswana"
        ],
        [
         "Asia",
         "Brunei"
        ],
        [
         "North America",
         "Mexico"
        ],
        [
         "Asia",
         "Bhutan"
        ],
        [
         "Middle East and North Africa",
         "Egypt"
        ],
        [
         "Sub-Saharan Africa",
         "Kenya"
        ],
        [
         "Europe",
         "Montenegro"
        ],
        [
         "Sub-Saharan Africa",
         "South Africa"
        ],
        [
         "North America",
         "Canada"
        ],
        [
         "Asia",
         "Laos"
        ],
        [
         "Europe",
         "Albania"
        ],
        [
         "Australia and Oceania",
         "Australia"
        ],
        [
         "Sub-Saharan Africa",
         "The Gambia"
        ],
        [
         "Europe",
         "Austria"
        ],
        [
         "Europe",
         "Cyprus"
        ],
        [
         "Europe",
         "Finland"
        ],
        [
         "Europe",
         "Italy"
        ],
        [
         "Asia",
         "Tajikistan"
        ],
        [
         "Asia",
         "Kyrgyzstan"
        ],
        [
         "Europe",
         "Poland"
        ],
        [
         "Sub-Saharan Africa",
         "Cote d'Ivoire"
        ],
        [
         "Central America and the Caribbean",
         "Trinidad and Tobago"
        ],
        [
         "Middle East and North Africa",
         "Algeria"
        ],
        [
         "Central America and the Caribbean",
         "Costa Rica"
        ],
        [
         "Europe",
         "France"
        ],
        [
         "Europe",
         "Hungary"
        ],
        [
         "Europe",
         "Luxembourg"
        ],
        [
         "Central America and the Caribbean",
         "El Salvador"
        ],
        [
         "Australia and Oceania",
         "Fiji"
        ],
        [
         "Asia",
         "Uzbekistan"
        ],
        [
         "Europe",
         "Greece"
        ],
        [
         "Europe",
         "Spain"
        ],
        [
         "Sub-Saharan Africa",
         "Madagascar"
        ],
        [
         "Central America and the Caribbean",
         "Saint Kitts and Nevis "
        ],
        [
         "Europe",
         "Iceland"
        ],
        [
         "Central America and the Caribbean",
         "Belize"
        ],
        [
         "Europe",
         "Andorra"
        ],
        [
         "Central America and the Caribbean",
         "The Bahamas"
        ],
        [
         "Central America and the Caribbean",
         "Saint Vincent and the Grenadines"
        ],
        [
         "Middle East and North Africa",
         "Tunisia "
        ],
        [
         "North America",
         "Greenland"
        ],
        [
         "Central America and the Caribbean",
         "Nicaragua"
        ],
        [
         "Australia and Oceania",
         "Nauru"
        ],
        [
         "Sub-Saharan Africa",
         "Liberia"
        ],
        [
         "Central America and the Caribbean",
         "Guatemala"
        ],
        [
         "Middle East and North Africa",
         "Yemen"
        ],
        [
         "Australia and Oceania",
         "Tonga"
        ],
        [
         "Central America and the Caribbean",
         "Honduras"
        ],
        [
         "Asia",
         "Vietnam"
        ],
        [
         "Sub-Saharan Africa",
         "Niger"
        ],
        [
         "Europe",
         "Switzerland"
        ],
        [
         "Asia",
         "Indonesia"
        ],
        [
         "Asia",
         "Sri Lanka"
        ],
        [
         "Europe",
         "Lithuania"
        ],
        [
         "Europe",
         "Denmark"
        ],
        [
         "Central America and the Caribbean",
         "Dominica"
        ],
        [
         "Australia and Oceania",
         "Federated States of Micronesia"
        ],
        [
         "Australia and Oceania",
         "Tuvalu"
        ],
        [
         "Europe",
         "Macedonia"
        ],
        [
         "Sub-Saharan Africa",
         "Zimbabwe"
        ],
        [
         "Middle East and North Africa",
         "Syria"
        ],
        [
         "Australia and Oceania",
         "Marshall Islands"
        ],
        [
         "Australia and Oceania",
         "New Zealand"
        ],
        [
         "Sub-Saharan Africa",
         "Angola"
        ],
        [
         "Europe",
         "Latvia"
        ],
        [
         "Sub-Saharan Africa",
         "Cape Verde"
        ],
        [
         "Central America and the Caribbean",
         "Panama"
        ],
        [
         "Europe",
         "Bulgaria"
        ],
        [
         "North America",
         "United States of America"
        ],
        [
         "Sub-Saharan Africa",
         "Mauritania"
        ],
        [
         "Sub-Saharan Africa",
         "Uganda"
        ],
        [
         "Asia",
         "India"
        ],
        [
         "Sub-Saharan Africa",
         "Cameroon"
        ],
        [
         "Asia",
         "North Korea"
        ],
        [
         "Sub-Saharan Africa",
         "Rwanda"
        ],
        [
         "Australia and Oceania",
         "Solomon Islands"
        ],
        [
         "Europe",
         "Croatia"
        ],
        [
         "Central America and the Caribbean",
         "Jamaica"
        ],
        [
         "Europe",
         "Liechtenstein"
        ],
        [
         "Sub-Saharan Africa",
         "Guinea-Bissau"
        ],
        [
         "Europe",
         "Sweden"
        ],
        [
         "Sub-Saharan Africa",
         "Burundi"
        ],
        [
         "Middle East and North Africa",
         "Turkey"
        ],
        [
         "Australia and Oceania",
         "Papua New Guinea"
        ],
        [
         "Middle East and North Africa",
         "Israel"
        ],
        [
         "Europe",
         "Georgia"
        ],
        [
         "Sub-Saharan Africa",
         "Sierra Leone"
        ],
        [
         "Europe",
         "Ireland"
        ],
        [
         "Sub-Saharan Africa",
         "Benin"
        ],
        [
         "Europe",
         "Armenia"
        ],
        [
         "Middle East and North Africa",
         "Qatar"
        ],
        [
         "Sub-Saharan Africa",
         "Djibouti"
        ],
        [
         "Sub-Saharan Africa",
         "Mali"
        ],
        [
         "Sub-Saharan Africa",
         "Sudan"
        ],
        [
         "Asia",
         "Myanmar"
        ],
        [
         "Asia",
         "Thailand"
        ],
        [
         "Central America and the Caribbean",
         "Barbados"
        ],
        [
         "Asia",
         "Mongolia"
        ],
        [
         "Middle East and North Africa",
         "Saudi Arabia"
        ],
        [
         "Asia",
         "Bangladesh"
        ],
        [
         "Asia",
         "Taiwan"
        ],
        [
         "Asia",
         "Kazakhstan"
        ],
        [
         "Middle East and North Africa",
         "Lebanon"
        ],
        [
         "Sub-Saharan Africa",
         "Togo"
        ],
        [
         "Europe",
         "Belarus"
        ],
        [
         "Middle East and North Africa",
         "Jordan"
        ],
        [
         "Sub-Saharan Africa",
         "Senegal"
        ],
        [
         "Middle East and North Africa",
         "Iraq"
        ],
        [
         "Central America and the Caribbean",
         "Antigua and Barbuda "
        ],
        [
         "Europe",
         "Monaco"
        ],
        [
         "Europe",
         "Netherlands"
        ],
        [
         "Sub-Saharan Africa",
         "Mozambique"
        ],
        [
         "Asia",
         "Maldives"
        ],
        [
         "Middle East and North Africa",
         "Somalia"
        ],
        [
         "Asia",
         "China"
        ],
        [
         "Australia and Oceania",
         "Palau"
        ],
        [
         "Middle East and North Africa",
         "Afghanistan"
        ],
        [
         "Europe",
         "Vatican City"
        ],
        [
         "Asia",
         "Turkmenistan"
        ],
        [
         "Sub-Saharan Africa",
         "Namibia"
        ],
        [
         "Europe",
         "Serbia"
        ],
        [
         "Sub-Saharan Africa",
         "Republic of the Congo"
        ],
        [
         "Europe",
         "Czech Republic"
        ],
        [
         "Europe",
         "Norway"
        ],
        [
         "Australia and Oceania",
         "Vanuatu"
        ],
        [
         "Europe",
         "Romania"
        ],
        [
         "Sub-Saharan Africa",
         "Burkina Faso"
        ],
        [
         "Asia",
         "Nepal"
        ],
        [
         "Europe",
         "Moldova "
        ],
        [
         "Asia",
         "South Korea"
        ],
        [
         "Sub-Saharan Africa",
         "Malawi"
        ],
        [
         "Europe",
         "Portugal"
        ],
        [
         "Middle East and North Africa",
         "United Arab Emirates"
        ],
        [
         "Europe",
         "Slovakia"
        ],
        [
         "Central America and the Caribbean",
         "Dominican Republic"
        ],
        [
         "Sub-Saharan Africa",
         "Nigeria"
        ],
        [
         "Sub-Saharan Africa",
         "Comoros"
        ],
        [
         "Middle East and North Africa",
         "Pakistan"
        ],
        [
         "Asia",
         "Malaysia"
        ],
        [
         "Sub-Saharan Africa",
         "Ghana"
        ],
        [
         "Australia and Oceania",
         "Samoa "
        ],
        [
         "Sub-Saharan Africa",
         "Lesotho"
        ]
       ],
       "datasetInfos": [],
       "dbfsResultPath": null,
       "isJsonSchema": true,
       "metadata": {},
       "overflow": false,
       "plotOptions": {
        "customPlotOptions": {},
        "displayType": "table",
        "pivotAggregation": null,
        "pivotColumns": null,
        "xColumns": null,
        "yColumns": null
       },
       "removedWidgets": [],
       "schema": [
        {
         "metadata": "{}",
         "name": "Region",
         "type": "\"string\""
        },
        {
         "metadata": "{}",
         "name": "Country",
         "type": "\"string\""
        }
       ],
       "type": "table"
      }
     },
     "output_type": "display_data"
    }
   ],
   "source": [
    "#\n",
    "# display(df_main)\n",
    "df1 = df_main.withColumn(\"Flag\", lit(123))  #literals are constant values \n",
    "df2 = df1.withColumn(\"Country_india\", expr(\"country == 'India'\"))  #for inserting new column\n",
    "# display(df2)\n",
    "df3 = df2.withColumnRenamed(\"Country\",\"ALL_Countries\") # for renaming existing column\n",
    "# display(df3)\n",
    "df4 = df2.selectExpr(\"Country as countries_all\", \"region\", \"SalesChannel\") #for column selection along with column name change\n",
    "# display(df4)\n",
    "df5 = df4.drop(\"region\")  #dropping particular columns\n",
    "############################################################################################\n",
    "\n",
    "df6 = df1.where(\"Region = 'Asia' \") #to filter records can use either where or Filter \n",
    "df7 = df1.select(\"Region\",\"Country\").distinct() #for unique records selection\n",
    "display(df7)\n"
   ]
  },
  {
   "cell_type": "code",
   "execution_count": 0,
   "metadata": {
    "application/vnd.databricks.v1+cell": {
     "cellMetadata": {
      "byteLimit": 2048000,
      "rowLimit": 10000
     },
     "inputWidgets": {},
     "nuid": "3ccb1ce8-1ac7-4ac1-9bc8-9985e790145f",
     "showTitle": false,
     "title": ""
    }
   },
   "outputs": [
    {
     "output_type": "display_data",
     "data": {
      "text/html": [
       "<style scoped>\n",
       "  .table-result-container {\n",
       "    max-height: 300px;\n",
       "    overflow: auto;\n",
       "  }\n",
       "  table, th, td {\n",
       "    border: 1px solid black;\n",
       "    border-collapse: collapse;\n",
       "  }\n",
       "  th, td {\n",
       "    padding: 5px;\n",
       "  }\n",
       "  th {\n",
       "    text-align: left;\n",
       "  }\n",
       "</style><div class='table-result-container'><table class='table-result'><thead style='background-color: white'><tr><th>Region</th><th>Country</th><th>OrderId</th></tr></thead><tbody><tr><td>Middle East and North Africa</td><td>Libya</td><td>686800706</td></tr><tr><td>Middle East and North Africa</td><td>Libya</td><td>246222341</td></tr><tr><td>Middle East and North Africa</td><td>Libya</td><td>964214932</td></tr><tr><td>Middle East and North Africa</td><td>Libya</td><td>635122907</td></tr><tr><td>Middle East and North Africa</td><td>Libya</td><td>276225316</td></tr><tr><td>Middle East and North Africa</td><td>Libya</td><td>854095017</td></tr><tr><td>Asia</td><td>Japan</td><td>161442649</td></tr><tr><td>Asia</td><td>Japan</td><td>981086671</td></tr><tr><td>Asia</td><td>Japan</td><td>823699796</td></tr><tr><td>Asia</td><td>Japan</td><td>629925000</td></tr><tr><td>Asia</td><td>Japan</td><td>107172334</td></tr><tr><td>Asia</td><td>Japan</td><td>885129249</td></tr><tr><td>Asia</td><td>Japan</td><td>551725089</td></tr><tr><td>Asia</td><td>Japan</td><td>453569972</td></tr></tbody></table></div>"
      ]
     },
     "metadata": {
      "application/vnd.databricks.v1+output": {
       "addedWidgets": {},
       "aggData": [],
       "aggError": "",
       "aggOverflow": false,
       "aggSchema": [],
       "aggSeriesLimitReached": false,
       "aggType": "",
       "arguments": {},
       "columnCustomDisplayInfos": {},
       "data": [
        [
         "Middle East and North Africa",
         "Libya",
         "686800706"
        ],
        [
         "Middle East and North Africa",
         "Libya",
         "246222341"
        ],
        [
         "Middle East and North Africa",
         "Libya",
         "964214932"
        ],
        [
         "Middle East and North Africa",
         "Libya",
         "635122907"
        ],
        [
         "Middle East and North Africa",
         "Libya",
         "276225316"
        ],
        [
         "Middle East and North Africa",
         "Libya",
         "854095017"
        ],
        [
         "Asia",
         "Japan",
         "161442649"
        ],
        [
         "Asia",
         "Japan",
         "981086671"
        ],
        [
         "Asia",
         "Japan",
         "823699796"
        ],
        [
         "Asia",
         "Japan",
         "629925000"
        ],
        [
         "Asia",
         "Japan",
         "107172334"
        ],
        [
         "Asia",
         "Japan",
         "885129249"
        ],
        [
         "Asia",
         "Japan",
         "551725089"
        ],
        [
         "Asia",
         "Japan",
         "453569972"
        ]
       ],
       "datasetInfos": [],
       "dbfsResultPath": null,
       "isJsonSchema": true,
       "metadata": {},
       "overflow": false,
       "plotOptions": {
        "customPlotOptions": {},
        "displayType": "table",
        "pivotAggregation": null,
        "pivotColumns": null,
        "xColumns": null,
        "yColumns": null
       },
       "removedWidgets": [],
       "schema": [
        {
         "metadata": "{}",
         "name": "Region",
         "type": "\"string\""
        },
        {
         "metadata": "{}",
         "name": "Country",
         "type": "\"string\""
        },
        {
         "metadata": "{}",
         "name": "OrderId",
         "type": "\"string\""
        }
       ],
       "type": "table"
      }
     },
     "output_type": "display_data"
    },
    {
     "output_type": "stream",
     "name": "stdout",
     "output_type": "stream",
     "text": [
      "-RECORD 0-------------------------------\n Region  | Middle East and North Africa \n Country | Libya                        \n OrderId | 686800706                    \n-RECORD 1-------------------------------\n Region  | Middle East and North Africa \n Country | Libya                        \n OrderId | 246222341                    \n-RECORD 2-------------------------------\n Region  | Middle East and North Africa \n Country | Libya                        \n OrderId | 964214932                    \n-RECORD 3-------------------------------\n Region  | Middle East and North Africa \n Country | Libya                        \n OrderId | 635122907                    \n-RECORD 4-------------------------------\n Region  | Middle East and North Africa \n Country | Libya                        \n OrderId | 276225316                    \n-RECORD 5-------------------------------\n Region  | Middle East and North Africa \n Country | Libya                        \n OrderId | 854095017                    \n-RECORD 6-------------------------------\n Region  | Asia                         \n Country | Japan                        \n OrderId | 161442649                    \n-RECORD 7-------------------------------\n Region  | Asia                         \n Country | Japan                        \n OrderId | 981086671                    \n-RECORD 8-------------------------------\n Region  | Asia                         \n Country | Japan                        \n OrderId | 823699796                    \n-RECORD 9-------------------------------\n Region  | Asia                         \n Country | Japan                        \n OrderId | 629925000                    \n-RECORD 10------------------------------\n Region  | Asia                         \n Country | Japan                        \n OrderId | 107172334                    \n-RECORD 11------------------------------\n Region  | Asia                         \n Country | Japan                        \n OrderId | 885129249                    \n-RECORD 12------------------------------\n Region  | Asia                         \n Country | Japan                        \n OrderId | 551725089                    \n-RECORD 13------------------------------\n Region  | Asia                         \n Country | Japan                        \n OrderId | 453569972                    \n\n"
     ]
    },
    {
     "output_type": "display_data",
     "data": {
      "text/html": [
       "<style scoped>\n",
       "  .table-result-container {\n",
       "    max-height: 300px;\n",
       "    overflow: auto;\n",
       "  }\n",
       "  table, th, td {\n",
       "    border: 1px solid black;\n",
       "    border-collapse: collapse;\n",
       "  }\n",
       "  th, td {\n",
       "    padding: 5px;\n",
       "  }\n",
       "  th {\n",
       "    text-align: left;\n",
       "  }\n",
       "</style><div class='table-result-container'><table class='table-result'><thead style='background-color: white'><tr><th>Region</th><th>Country</th><th>OrderId</th></tr></thead><tbody><tr><td>Asia</td><td>Japan</td><td>161442649</td></tr><tr><td>Asia</td><td>Japan</td><td>981086671</td></tr><tr><td>Asia</td><td>Japan</td><td>823699796</td></tr><tr><td>Asia</td><td>Japan</td><td>629925000</td></tr><tr><td>Asia</td><td>Japan</td><td>107172334</td></tr><tr><td>Asia</td><td>Japan</td><td>885129249</td></tr><tr><td>Asia</td><td>Japan</td><td>551725089</td></tr><tr><td>Asia</td><td>Japan</td><td>453569972</td></tr><tr><td>Middle East and North Africa</td><td>Libya</td><td>686800706</td></tr><tr><td>Middle East and North Africa</td><td>Libya</td><td>246222341</td></tr></tbody></table></div>"
      ]
     },
     "metadata": {
      "application/vnd.databricks.v1+output": {
       "addedWidgets": {},
       "aggData": [],
       "aggError": "",
       "aggOverflow": false,
       "aggSchema": [],
       "aggSeriesLimitReached": false,
       "aggType": "",
       "arguments": {},
       "columnCustomDisplayInfos": {},
       "data": [
        [
         "Asia",
         "Japan",
         "161442649"
        ],
        [
         "Asia",
         "Japan",
         "981086671"
        ],
        [
         "Asia",
         "Japan",
         "823699796"
        ],
        [
         "Asia",
         "Japan",
         "629925000"
        ],
        [
         "Asia",
         "Japan",
         "107172334"
        ],
        [
         "Asia",
         "Japan",
         "885129249"
        ],
        [
         "Asia",
         "Japan",
         "551725089"
        ],
        [
         "Asia",
         "Japan",
         "453569972"
        ],
        [
         "Middle East and North Africa",
         "Libya",
         "686800706"
        ],
        [
         "Middle East and North Africa",
         "Libya",
         "246222341"
        ]
       ],
       "datasetInfos": [],
       "dbfsResultPath": null,
       "isJsonSchema": true,
       "metadata": {},
       "overflow": false,
       "plotOptions": {
        "customPlotOptions": {},
        "displayType": "table",
        "pivotAggregation": null,
        "pivotColumns": null,
        "xColumns": null,
        "yColumns": null
       },
       "removedWidgets": [],
       "schema": [
        {
         "metadata": "{}",
         "name": "Region",
         "type": "\"string\""
        },
        {
         "metadata": "{}",
         "name": "Country",
         "type": "\"string\""
        },
        {
         "metadata": "{}",
         "name": "OrderId",
         "type": "\"string\""
        }
       ],
       "type": "table"
      }
     },
     "output_type": "display_data"
    },
    {
     "output_type": "stream",
     "name": "stdout",
     "output_type": "stream",
     "text": [
      "+-------+--------------------+-------+-------------------+\n|summary|              Region|Country|            OrderId|\n+-------+--------------------+-------+-------------------+\n|  count|                  10|     10|                 10|\n|   mean|                null|   null|      5.526773807E8|\n| stddev|                null|   null|3.067292352880238E8|\n|    min|                Asia|  Japan|          107172334|\n|    max|Middle East and N...|  Libya|          981086671|\n+-------+--------------------+-------+-------------------+\n\n"
     ]
    }
   ],
   "source": [
    "from pyspark.sql.functions import *\n",
    "#union in spark\n",
    "df1 = spark.read.load(\"/FileStore/tables/Order.csv\",header=True,format='csv')\n",
    "df2 = df1.select(\"Region\",\"Country\",\"OrderId\")\n",
    "df3 = df2.filter(\"Country == 'Libya'\")\n",
    "df4 = df2.filter(\"Country == 'Japan'\")\n",
    "df4_union = df3.union(df4) #accepts only one argument merging of data of same column\n",
    "display(df4_union)\n",
    "df4_union.count()\n",
    "\n",
    "#orderby -- sorting\n",
    "df4_union.sort(col(\"Region\").desc()).show(20, truncate=False, vertical = True) #displays in vertical format(20 rows), truncation not allowed\n",
    "df5 = df4_union.sort(col(\"Region\").asc()) #sorting in ascending order\n",
    "df6 = df5.limit(10) #limiting the columns to 10\n",
    "display(df6)\n",
    "\n",
    "df6.collect() #not recommended because it collects all data from all machines and then prints the data\n",
    "df7 = df6.describe() #describes mean,count,median\n",
    "df7.show()"
   ]
  },
  {
   "cell_type": "code",
   "execution_count": 0,
   "metadata": {
    "application/vnd.databricks.v1+cell": {
     "cellMetadata": {
      "byteLimit": 2048000,
      "rowLimit": 10000
     },
     "inputWidgets": {},
     "nuid": "6086380b-1289-4786-811c-72f2726d2c77",
     "showTitle": false,
     "title": ""
    }
   },
   "outputs": [
    {
     "output_type": "stream",
     "name": "stdout",
     "output_type": "stream",
     "text": [
      "+-------------+\n|upper(Region)|\n+-------------+\n|ASIA         |\n|ASIA         |\n+-------------+\nonly showing top 2 rows\n\n+-------------+\n|lower(Region)|\n+-------------+\n|         asia|\n|         asia|\n+-------------+\nonly showing top 2 rows\n\n+---------------+\n|initcap(Region)|\n+---------------+\n|           Asia|\n|           Asia|\n+---------------+\nonly showing top 2 rows\n\n+----------------------------+\n|trim(Region)                |\n+----------------------------+\n|Asia                        |\n|Asia                        |\n|Asia                        |\n|Asia                        |\n|Asia                        |\n|Asia                        |\n|Asia                        |\n|Asia                        |\n|Middle East and North Africa|\n|Middle East and North Africa|\n+----------------------------+\n\n+--------------------+\n|lpad(Region, 20, +) |\n+--------------------+\n|++++++++++++++++Asia|\n|++++++++++++++++Asia|\n|++++++++++++++++Asia|\n|++++++++++++++++Asia|\n|++++++++++++++++Asia|\n|++++++++++++++++Asia|\n|++++++++++++++++Asia|\n|++++++++++++++++Asia|\n|Middle East and Nort|\n|Middle East and Nort|\n+--------------------+\n\n+-----------------------+\n|concat(Region, Country)|\n+-----------------------+\n|              AsiaJapan|\n|              AsiaJapan|\n|              AsiaJapan|\n|              AsiaJapan|\n|              AsiaJapan|\n|              AsiaJapan|\n|              AsiaJapan|\n|              AsiaJapan|\n|   Middle East and N...|\n|   Middle East and N...|\n+-----------------------+\n\n+-----------------------------------+\n|concat_ws(--, Region, Country)     |\n+-----------------------------------+\n|Asia--Japan                        |\n|Asia--Japan                        |\n|Asia--Japan                        |\n|Asia--Japan                        |\n|Asia--Japan                        |\n|Asia--Japan                        |\n|Asia--Japan                        |\n|Asia--Japan                        |\n|Middle East and North Africa--Libya|\n|Middle East and North Africa--Libya|\n+-----------------------------------+\n\n"
     ]
    }
   ],
   "source": [
    "#string manipulation functions\n",
    "df7 = df6.select(upper(col(\"Region\"))).show(2, truncate=False) #all capital letters\n",
    "df8 = df6.select(lower(col(\"Region\"))).show(2) # all small letters\n",
    "df6.select(initcap(col(\"Region\"))).show(2) #first letter capital\n",
    "df6.select(trim(col(\"Region\"))).show(truncate=False) #removing spaces can use ltrim or rtrim for right or left space removal\n",
    "df6.select(lpad(col(\"Region\"),20,'+')).show(truncate=False) #can do for right padding also\n",
    "df6.select(concat(col(\"Region\"),col(\"Country\"))).show()  #concating within same data frame\n",
    "df6.select(concat_ws('--', col(\"Region\"),col(\"Country\"))).show(truncate=False) #concating with separator\n",
    "###################################################################################\n"
   ]
  },
  {
   "cell_type": "code",
   "execution_count": 0,
   "metadata": {
    "application/vnd.databricks.v1+cell": {
     "cellMetadata": {
      "byteLimit": 2048000,
      "rowLimit": 10000
     },
     "inputWidgets": {},
     "nuid": "f0f2dc1c-2d18-4a67-9f05-654f7daa91a8",
     "showTitle": false,
     "title": ""
    }
   },
   "outputs": [
    {
     "output_type": "stream",
     "name": "stdout",
     "output_type": "stream",
     "text": [
      "+---+------------+-----------------------+\n|id |Date_current|Time_stamp             |\n+---+------------+-----------------------+\n|0  |2024-10-17  |2024-10-17 02:37:21.647|\n|1  |2024-10-17  |2024-10-17 02:37:21.647|\n|2  |2024-10-17  |2024-10-17 02:37:21.647|\n|3  |2024-10-17  |2024-10-17 02:37:21.647|\n|4  |2024-10-17  |2024-10-17 02:37:21.647|\n|5  |2024-10-17  |2024-10-17 02:37:21.647|\n|6  |2024-10-17  |2024-10-17 02:37:21.647|\n|7  |2024-10-17  |2024-10-17 02:37:21.647|\n|8  |2024-10-17  |2024-10-17 02:37:21.647|\n|9  |2024-10-17  |2024-10-17 02:37:21.647|\n+---+------------+-----------------------+\n\n+-------------------------+-------------------------+\n|date_add(Date_current, 5)|date_sub(Date_current, 5)|\n+-------------------------+-------------------------+\n|               2024-10-22|               2024-10-12|\n|               2024-10-22|               2024-10-12|\n|               2024-10-22|               2024-10-12|\n|               2024-10-22|               2024-10-12|\n|               2024-10-22|               2024-10-12|\n|               2024-10-22|               2024-10-12|\n|               2024-10-22|               2024-10-12|\n|               2024-10-22|               2024-10-12|\n|               2024-10-22|               2024-10-12|\n|               2024-10-22|               2024-10-12|\n+-------------------------+-------------------------+\n\n+---+----------+\n| id|      Date|\n+---+----------+\n|  0|2024-05-20|\n|  1|2024-05-20|\n+---+----------+\n\nroot\n |-- id: long (nullable = false)\n |-- Date: string (nullable = false)\n\nroot\n |-- new_date: date (nullable = true)\n\n+----------+\n|  new_date|\n+----------+\n|2024-05-25|\n|2024-05-25|\n+----------+\n\n+---------------+\n|month(new_date)|\n+---------------+\n|              5|\n|              5|\n+---------------+\n\n"
     ]
    }
   ],
   "source": [
    "from pyspark.sql.functions import *\n",
    "#date manipulation functions\n",
    "#range describes how many rows should be in new_data frame\n",
    "date_df = spark.range(10).withColumn(\"Date_current\",current_date()).withColumn(\"Time_stamp\",current_timestamp())\n",
    "date_df.show(truncate=False)\n",
    "date_df.select(date_add(\"Date_current\", 5), date_sub(\"Date_current\", 5)).show()  #date addition or subtraction by constant\n",
    "\n",
    "#converting to date data type\n",
    "const_df = spark.range(2).withColumn(\"Date\",lit(\"2024-05-20\"))\n",
    "const_df.show()\n",
    "const_df.printSchema()\n",
    "updated_df = const_df.select(to_date(col(\"Date\")).alias(\"new_date\")) #to_date converts string to date format,data should be date format \n",
    "updated_df.printSchema()\n",
    "updated_df.select(date_add(col(\"new_date\"),5).alias(\"new_date\")).show()\n",
    "updated_df.select(month(col(\"new_date\"))).show() #year,month,day can be extracted\n",
    "updated_df.select(dayofmonth(col(\"new_date\"))).show() \n",
    "#can also extract the minute,hour, second if it is a time stamp format"
   ]
  }
 ],
 "metadata": {
  "application/vnd.databricks.v1+notebook": {
   "dashboards": [],
   "environmentMetadata": null,
   "language": "python",
   "notebookMetadata": {
    "pythonIndentUnit": 4
   },
   "notebookName": "Databricks_session-1",
   "widgets": {}
  }
 },
 "nbformat": 4,
 "nbformat_minor": 0
}
